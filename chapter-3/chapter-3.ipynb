{
 "cells": [
  {
   "cell_type": "markdown",
   "id": "01bd9c9f-c708-44bc-88d0-358e82fbcdd0",
   "metadata": {},
   "source": [
    "# Google Colab Rust Setup\n",
    "\n",
    "The following cell is used to set up and spin up a Jupyter Notebook environment with a Rust kernel using Nix and IPC Proxy. "
   ]
  },
  {
   "cell_type": "code",
   "execution_count": null,
   "id": "f83b6670-b493-47e6-8b8b-7ca3e7e44f90",
   "metadata": {},
   "outputs": [],
   "source": [
    "!wget -qO- https://gist.github.com/wiseaidev/2af6bef753d48565d11bcd478728c979/archive/3f6df40db09f3517ade41997b541b81f0976c12e.tar.gz | tar xvz --strip-components=1\n",
    "!bash setup_evcxr_kernel.sh"
   ]
  },
  {
   "cell_type": "markdown",
   "id": "d3338457-1457-4f29-94e8-8f6f160f423b",
   "metadata": {},
   "source": [
    "## Traits"
   ]
  },
  {
   "cell_type": "code",
   "execution_count": 2,
   "id": "f2371d44-a5cb-4162-87b6-f0f8d5232a1d",
   "metadata": {},
   "outputs": [],
   "source": [
    "trait Printable {\n",
    "    fn print(&self);\n",
    "}"
   ]
  },
  {
   "cell_type": "markdown",
   "id": "0de1abc2-0801-4fb4-829f-d440296b063f",
   "metadata": {},
   "source": [
    "### Implementing Traits"
   ]
  },
  {
   "cell_type": "code",
   "execution_count": 3,
   "id": "26d41486-5037-4dac-9659-36375fa149a8",
   "metadata": {},
   "outputs": [],
   "source": [
    "struct Number {\n",
    "    value: i32,\n",
    "}\n",
    "\n",
    "impl Printable for Number {\n",
    "    fn print(&self) {\n",
    "        println!(\"Number: {}\", self.value);\n",
    "    }\n",
    "}"
   ]
  },
  {
   "cell_type": "code",
   "execution_count": 4,
   "id": "d98ab412-25f4-4ee9-93df-ba6cb1b4fcf9",
   "metadata": {},
   "outputs": [],
   "source": [
    "struct Circle {\n",
    "    radius: f64,\n",
    "}\n",
    "\n",
    "struct Rectangle {\n",
    "    width: f64,\n",
    "    height: f64,\n",
    "}\n",
    "\n",
    "impl Printable for Circle {\n",
    "    fn print(&self) {\n",
    "        println!(\"Circle with radius: {}\", self.radius);\n",
    "    }\n",
    "}\n",
    "\n",
    "impl Printable for Rectangle {\n",
    "    fn print(&self) {\n",
    "        println!(\"Rectangle with dimensions: {} x {}\", self.width, self.height);\n",
    "    }\n",
    "}"
   ]
  },
  {
   "cell_type": "markdown",
   "id": "fefe2297-3567-4967-80da-3aeac1270354",
   "metadata": {},
   "source": [
    "### Default Trait Behavior"
   ]
  },
  {
   "cell_type": "code",
   "execution_count": 5,
   "id": "53abd869-cf7e-431b-8f3f-4c49e11c05b2",
   "metadata": {},
   "outputs": [],
   "source": [
    "trait Drawable {\n",
    "    fn draw(&self) {\n",
    "        println!(\"Drawing the shape.\");\n",
    "    }\n",
    "}"
   ]
  },
  {
   "cell_type": "code",
   "execution_count": 6,
   "id": "8b479b65-6411-4db3-b99a-3c300f23d880",
   "metadata": {},
   "outputs": [],
   "source": [
    "impl Drawable for Circle {\n",
    "    fn draw(&self) {\n",
    "        println!(\"Drawing a circle with radius: {}\", self.radius);\n",
    "    }\n",
    "}\n",
    "\n",
    "impl Drawable for Rectangle {\n",
    "    fn draw(&self) {\n",
    "        println!(\"Drawing a rectangle with dimensions: {} x {}\", self.width, self.height);\n",
    "    }\n",
    "}"
   ]
  },
  {
   "cell_type": "markdown",
   "id": "9240fcf3-fe77-4eaf-82a4-38c27bc3ea95",
   "metadata": {},
   "source": [
    "### Trait Bounds"
   ]
  },
  {
   "cell_type": "code",
   "execution_count": null,
   "id": "d6a2860e-9752-4024-8502-9ceb00bbe6d0",
   "metadata": {},
   "outputs": [],
   "source": [
    "fn calculate_area(shape: impl Drawable) -> f64 {\n",
    "    shape.area()\n",
    "}"
   ]
  },
  {
   "cell_type": "markdown",
   "id": "99ae48b3-c9aa-49a5-b466-8ed2f88d1eb2",
   "metadata": {},
   "source": [
    "### Expanding with Generics"
   ]
  },
  {
   "cell_type": "code",
   "execution_count": null,
   "id": "7f4ddeda-ada5-4801-aae4-a1dc1cddc784",
   "metadata": {},
   "outputs": [],
   "source": [
    "fn calculate_area<T: Shape>(shape: T) -> f64 {\n",
    "    shape.area()\n",
    "}"
   ]
  },
  {
   "cell_type": "markdown",
   "id": "dcbaaaed-7e26-4c79-9ec7-79e662c0d1ed",
   "metadata": {},
   "source": [
    "---"
   ]
  },
  {
   "cell_type": "markdown",
   "id": "668f8d31-85fa-47a8-90b8-0aa0a3bcee5a",
   "metadata": {},
   "source": [
    "## Generics"
   ]
  },
  {
   "cell_type": "markdown",
   "id": "0d7af456-718c-4d1c-979c-c731710e24c6",
   "metadata": {},
   "source": [
    "### Building Adaptive Structures"
   ]
  },
  {
   "cell_type": "code",
   "execution_count": 7,
   "id": "7037f135-5b5f-4444-942d-4b1af46a6294",
   "metadata": {},
   "outputs": [
    {
     "name": "stdout",
     "output_type": "stream",
     "text": [
      "Popped: 3\n",
      "Popped: 2\n",
      "Popped: 1\n"
     ]
    },
    {
     "data": {
      "text/plain": [
       "()"
      ]
     },
     "execution_count": 7,
     "metadata": {},
     "output_type": "execute_result"
    }
   ],
   "source": [
    "struct Stack<T> {\n",
    "    items: Vec<T>,\n",
    "}\n",
    "\n",
    "impl<T> Stack<T> {\n",
    "    fn push(&mut self, item: T) {\n",
    "        self.items.push(item);\n",
    "    }\n",
    "\n",
    "    fn pop(&mut self) -> Option<T> {\n",
    "        self.items.pop()\n",
    "    }\n",
    "}\n",
    "\n",
    "fn main() {\n",
    "    let mut stack = Stack::<i32> { items: Vec::new() };\n",
    "\n",
    "    stack.push(1);\n",
    "    stack.push(2);\n",
    "    stack.push(3);\n",
    "\n",
    "    while let Some(item) = stack.pop() {\n",
    "        println!(\"Popped: {}\", item);\n",
    "    }\n",
    "}\n",
    "\n",
    "main()"
   ]
  },
  {
   "cell_type": "markdown",
   "id": "f9bedef2-f402-40f4-bc38-0e587a6e6ef2",
   "metadata": {},
   "source": [
    "### Leveraging Associated Functions"
   ]
  },
  {
   "cell_type": "code",
   "execution_count": 8,
   "id": "75952e9d-f92b-467d-aa08-2d5f3be726cd",
   "metadata": {},
   "outputs": [
    {
     "name": "stdout",
     "output_type": "stream",
     "text": [
      "Circle area: 12.566370614359172\n",
      "Default Circle area: 3.141592653589793\n"
     ]
    },
    {
     "data": {
      "text/plain": [
       "()"
      ]
     },
     "execution_count": 8,
     "metadata": {},
     "output_type": "execute_result"
    }
   ],
   "source": [
    "struct Circle {\n",
    "    radius: f64,\n",
    "}\n",
    "\n",
    "trait Shape {\n",
    "    fn area(&self) -> f64;\n",
    "    fn default_shape() -> Self;\n",
    "}\n",
    "\n",
    "impl Shape for Circle {\n",
    "    fn area(&self) -> f64 {\n",
    "        std::f64::consts::PI * self.radius * self.radius\n",
    "    }\n",
    "\n",
    "    fn default_shape() -> Self {\n",
    "        Circle { radius: 1.0 }\n",
    "    }\n",
    "}\n",
    "\n",
    "fn main() {\n",
    "    let circle = Circle { radius: 2.0 };\n",
    "    let area = circle.area();\n",
    "    println!(\"Circle area: {}\", area);\n",
    "\n",
    "    let default_circle = Circle::default_shape();\n",
    "    let default_area = default_circle.area();\n",
    "    println!(\"Default Circle area: {}\", default_area);\n",
    "}\n",
    "\n",
    "main()"
   ]
  },
  {
   "cell_type": "markdown",
   "id": "a94d2722-6618-4d31-8bcb-097e7893981c",
   "metadata": {},
   "source": [
    "---"
   ]
  },
  {
   "cell_type": "markdown",
   "id": "2a18b4bb-c407-4794-957a-b929170ca705",
   "metadata": {},
   "source": [
    "## Associated Types"
   ]
  },
  {
   "cell_type": "code",
   "execution_count": 9,
   "id": "cede122f-9123-41b4-92c2-42ca62e6cea0",
   "metadata": {},
   "outputs": [
    {
     "name": "stdout",
     "output_type": "stream",
     "text": [
      "Counter: 1\n",
      "Counter: 2\n",
      "Counter: 3\n",
      "Counter: 4\n",
      "Counter: 5\n",
      "Counter: 6\n",
      "Counter: 7\n",
      "Counter: 8\n",
      "Counter: 9\n",
      "Counter: 10\n"
     ]
    },
    {
     "data": {
      "text/plain": [
       "()"
      ]
     },
     "execution_count": 9,
     "metadata": {},
     "output_type": "execute_result"
    }
   ],
   "source": [
    "struct Counter {\n",
    "    count: u32,\n",
    "}\n",
    "\n",
    "impl Iterator for Counter {\n",
    "    type Item = u32;\n",
    "\n",
    "    fn next(&mut self) -> Option<Self::Item> {\n",
    "        if self.count < 10 {\n",
    "            self.count += 1;\n",
    "            Some(self.count)\n",
    "        } else {\n",
    "            None\n",
    "        }\n",
    "    }\n",
    "}\n",
    "\n",
    "let mut counter = Counter { count: 0 };\n",
    "\n",
    "for number in &mut counter {\n",
    "    println!(\"Counter: {}\", number);\n",
    "}"
   ]
  },
  {
   "cell_type": "markdown",
   "id": "49641002-2a73-4e94-8a96-0a0474b38c1d",
   "metadata": {},
   "source": [
    "---"
   ]
  },
  {
   "cell_type": "markdown",
   "id": "a48e2730-e294-4b33-9657-69e7c3fb19b5",
   "metadata": {},
   "source": [
    "## Trait Objects"
   ]
  },
  {
   "cell_type": "code",
   "execution_count": 10,
   "id": "14e8a956-e41f-47ef-b207-e7398d1d47a5",
   "metadata": {},
   "outputs": [
    {
     "name": "stdout",
     "output_type": "stream",
     "text": [
      "Area: 12.566370614359172\n",
      "Area: 12\n"
     ]
    },
    {
     "data": {
      "text/plain": [
       "()"
      ]
     },
     "execution_count": 10,
     "metadata": {},
     "output_type": "execute_result"
    }
   ],
   "source": [
    "trait Shape {\n",
    "    fn area(&self) -> f64;\n",
    "}\n",
    "\n",
    "struct Circle {\n",
    "    radius: f64,\n",
    "}\n",
    "\n",
    "struct Rectangle {\n",
    "    width: f64,\n",
    "    height: f64,\n",
    "}\n",
    "\n",
    "impl Shape for Circle {\n",
    "    fn area(&self) -> f64 {\n",
    "        std::f64::consts::PI * self.radius * self.radius\n",
    "    }\n",
    "}\n",
    "\n",
    "impl Shape for Rectangle {\n",
    "    fn area(&self) -> f64 {\n",
    "        self.width * self.height\n",
    "    }\n",
    "}\n",
    "\n",
    "fn print_area(shape: &dyn Shape) {\n",
    "    println!(\"Area: {}\", shape.area());\n",
    "}\n",
    "\n",
    "fn main() {\n",
    "    let circle = Circle { radius: 2.0 };\n",
    "    let rectangle = Rectangle { width: 3.0, height: 4.0 };\n",
    "\n",
    "    print_area(&circle);\n",
    "    print_area(&rectangle);\n",
    "}\n",
    "\n",
    "main()"
   ]
  },
  {
   "cell_type": "markdown",
   "id": "25a5f260-44d4-4de2-948e-8e01b95cdb96",
   "metadata": {},
   "source": [
    "---"
   ]
  },
  {
   "cell_type": "markdown",
   "id": "d058ee75-df72-4bb5-acd2-842c21f5caca",
   "metadata": {},
   "source": [
    "## Real-World Applications"
   ]
  },
  {
   "cell_type": "code",
   "execution_count": 12,
   "id": "e4c26eb4-17a6-4ab8-b6b2-abdde00a5f86",
   "metadata": {},
   "outputs": [],
   "source": [
    ":dep serde = {version = \"1.0.190\", features = [\"derive\"]}"
   ]
  },
  {
   "cell_type": "code",
   "execution_count": 13,
   "id": "77d94eab-0d41-4561-9c40-14bb5bdf7dd4",
   "metadata": {},
   "outputs": [],
   "source": [
    ":dep serde_json = {version = \"1.0.108\"}"
   ]
  },
  {
   "cell_type": "code",
   "execution_count": 14,
   "id": "2bbfbf4f-d645-436d-bbef-5239701e91d3",
   "metadata": {},
   "outputs": [
    {
     "name": "stderr",
     "output_type": "stream",
     "text": [
      "The type of the variable counter was redefined, so was lost.\n"
     ]
    },
    {
     "name": "stdout",
     "output_type": "stream",
     "text": [
      "Serialized: {\"name\":\"Mahmoud\",\"age\":25}\n",
      "Deserialized: Person { name: \"Mahmoud\", age: 25 }\n"
     ]
    },
    {
     "data": {
      "text/plain": [
       "()"
      ]
     },
     "execution_count": 14,
     "metadata": {},
     "output_type": "execute_result"
    }
   ],
   "source": [
    "use serde::{Serialize, Deserialize};\n",
    "use serde_json;\n",
    "\n",
    "#[derive(Serialize, Deserialize, Debug)]\n",
    "struct Person {\n",
    "    name: String,\n",
    "    age: u32,\n",
    "}\n",
    "\n",
    "fn main() {\n",
    "    let person = Person {\n",
    "        name: String::from(\"Mahmoud\"),\n",
    "        age: 25,\n",
    "    };\n",
    "\n",
    "    let serialized = serde_json::to_string(&person).unwrap();\n",
    "    println!(\"Serialized: {}\", serialized);\n",
    "\n",
    "    let deserialized: Person = serde_json::from_str(&serialized).unwrap();\n",
    "    println!(\"Deserialized: {:?}\", deserialized);\n",
    "}\n",
    "\n",
    "main()"
   ]
  },
  {
   "cell_type": "markdown",
   "id": "9344c80d-fc75-48b4-971d-a3e4205b8136",
   "metadata": {},
   "source": [
    "---"
   ]
  },
  {
   "cell_type": "markdown",
   "id": "8b14f8b0-766f-41ba-8c21-1c3e29fd60de",
   "metadata": {},
   "source": [
    "## Trait Bounds in the Standard Library"
   ]
  },
  {
   "cell_type": "code",
   "execution_count": 15,
   "id": "2ca55e47-d319-487b-9f6e-193cfc1cfe85",
   "metadata": {},
   "outputs": [
    {
     "name": "stdout",
     "output_type": "stream",
     "text": [
      "1\n",
      "4\n",
      "9\n",
      "16\n",
      "25\n"
     ]
    },
    {
     "data": {
      "text/plain": [
       "()"
      ]
     },
     "execution_count": 15,
     "metadata": {},
     "output_type": "execute_result"
    }
   ],
   "source": [
    "fn main() {\n",
    "    let numbers = vec![1, 2, 3, 4, 5];\n",
    "    let squares = numbers.iter().map(|&x| x * x).collect::<Vec<_>>();\n",
    "\n",
    "    for square in squares {\n",
    "        println!(\"{}\", square);\n",
    "    }\n",
    "}\n",
    "\n",
    "main()"
   ]
  },
  {
   "cell_type": "markdown",
   "id": "7f67b66a-7134-49f4-8b4a-55d96c8e2ca9",
   "metadata": {},
   "source": [
    "---"
   ]
  },
  {
   "cell_type": "markdown",
   "id": "d3bc14c5-848a-4346-bea3-de7064054c9a",
   "metadata": {},
   "source": [
    "## Advanced Trait Patterns"
   ]
  },
  {
   "cell_type": "markdown",
   "id": "62561f97-8757-460f-9f99-4ab2eb2e78b5",
   "metadata": {},
   "source": [
    "### Associated Constants"
   ]
  },
  {
   "cell_type": "code",
   "execution_count": 16,
   "id": "33e4f693-971d-4fd8-bb43-490ebad102cc",
   "metadata": {},
   "outputs": [
    {
     "name": "stdout",
     "output_type": "stream",
     "text": [
      "Circle's area: 12.566370614359172\n"
     ]
    }
   ],
   "source": [
    "trait Geometry {\n",
    "    const PI: f64;\n",
    "}\n",
    "\n",
    "struct Circle {\n",
    "    radius: f64,\n",
    "}\n",
    "\n",
    "impl Geometry for Circle {\n",
    "    const PI: f64 = std::f64::consts::PI;\n",
    "}\n",
    "\n",
    "let circle = Circle { radius: 2.0 };\n",
    "println!(\"Circle's area: {}\", Circle::PI * circle.radius * circle.radius);"
   ]
  },
  {
   "cell_type": "markdown",
   "id": "d75a373f-09ed-498b-9d8f-fec5624a30db",
   "metadata": {},
   "source": [
    "### Operator Overloading"
   ]
  },
  {
   "cell_type": "code",
   "execution_count": 18,
   "id": "0de10db4-6d3f-4830-be15-2e441dc01a10",
   "metadata": {},
   "outputs": [
    {
     "name": "stdout",
     "output_type": "stream",
     "text": [
      "Result: 4 + 6i\n"
     ]
    },
    {
     "data": {
      "text/plain": [
       "()"
      ]
     },
     "execution_count": 18,
     "metadata": {},
     "output_type": "execute_result"
    }
   ],
   "source": [
    "use std::ops::Add;\n",
    "\n",
    "struct Complex {\n",
    "    real: f64,\n",
    "    imaginary: f64,\n",
    "}\n",
    "\n",
    "impl Add for Complex {\n",
    "    type Output = Complex;\n",
    "\n",
    "    fn add(self, other: Complex) -> Complex {\n",
    "        Complex {\n",
    "            real: self.real + other.real,\n",
    "            imaginary: self.imaginary + other.imaginary,\n",
    "        }\n",
    "    }\n",
    "}\n",
    "\n",
    "fn main() {\n",
    "    let c1 = Complex { real: 1.0, imaginary: 2.0 };\n",
    "    let c2 = Complex { real: 3.0, imaginary: 4.0 };\n",
    "    let result = c1 + c2;\n",
    "\n",
    "    println!(\"Result: {} + {}i\", result.real, result.imaginary);\n",
    "}\n",
    "\n",
    "main()"
   ]
  },
  {
   "cell_type": "markdown",
   "id": "c35531d4-6a09-4902-aae7-e8a488684e2d",
   "metadata": {},
   "source": [
    "### Marker Traits"
   ]
  },
  {
   "cell_type": "code",
   "execution_count": 22,
   "id": "8442677d-651c-450b-8f92-e3791a457109",
   "metadata": {},
   "outputs": [
    {
     "ename": "Error",
     "evalue": "no method named `clone` found for struct `MyStruct` in the current scope",
     "output_type": "error",
     "traceback": [
      "\u001b[31m[E0599] Error:\u001b[0m no method named `clone` found for struct `MyStruct` in the current scope",
      "   \u001b[38;5;246m╭\u001b[0m\u001b[38;5;246m─\u001b[0m\u001b[38;5;246m[\u001b[0mcommand_22:1:1\u001b[38;5;246m]\u001b[0m",
      "   \u001b[38;5;246m│\u001b[0m",
      " \u001b[38;5;246m2 │\u001b[0m \u001b[38;5;54ms\u001b[0m\u001b[38;5;54mt\u001b[0m\u001b[38;5;54mr\u001b[0m\u001b[38;5;54mu\u001b[0m\u001b[38;5;54mc\u001b[0m\u001b[38;5;54mt\u001b[0m\u001b[38;5;54m \u001b[0m\u001b[38;5;54mM\u001b[0m\u001b[38;5;54my\u001b[0m\u001b[38;5;54mS\u001b[0m\u001b[38;5;54mt\u001b[0m\u001b[38;5;54mr\u001b[0m\u001b[38;5;54mu\u001b[0m\u001b[38;5;54mc\u001b[0m\u001b[38;5;54mt\u001b[0m\u001b[38;5;249m;\u001b[0m",
      " \u001b[38;5;240m  │\u001b[0m \u001b[38;5;54m─\u001b[0m\u001b[38;5;54m─\u001b[0m\u001b[38;5;54m─\u001b[0m\u001b[38;5;54m─\u001b[0m\u001b[38;5;54m─\u001b[0m\u001b[38;5;54m─\u001b[0m\u001b[38;5;54m─\u001b[0m\u001b[38;5;54m┬\u001b[0m\u001b[38;5;54m─\u001b[0m\u001b[38;5;54m─\u001b[0m\u001b[38;5;54m─\u001b[0m\u001b[38;5;54m─\u001b[0m\u001b[38;5;54m─\u001b[0m\u001b[38;5;54m─\u001b[0m\u001b[38;5;54m─\u001b[0m  ",
      " \u001b[38;5;240m  │\u001b[0m        \u001b[38;5;54m╰\u001b[0m\u001b[38;5;54m─\u001b[0m\u001b[38;5;54m─\u001b[0m\u001b[38;5;54m─\u001b[0m\u001b[38;5;54m─\u001b[0m\u001b[38;5;54m─\u001b[0m\u001b[38;5;54m─\u001b[0m\u001b[38;5;54m─\u001b[0m\u001b[38;5;54m─\u001b[0m\u001b[38;5;54m─\u001b[0m method `clone` not found for this struct",
      " \u001b[38;5;240m  │\u001b[0m ",
      " \u001b[38;5;246m6 │\u001b[0m \u001b[38;5;249ml\u001b[0m\u001b[38;5;249me\u001b[0m\u001b[38;5;249mt\u001b[0m\u001b[38;5;249m \u001b[0m\u001b[38;5;249mc\u001b[0m\u001b[38;5;249ml\u001b[0m\u001b[38;5;249mo\u001b[0m\u001b[38;5;249mn\u001b[0m\u001b[38;5;249me\u001b[0m\u001b[38;5;249m:\u001b[0m\u001b[38;5;249m \u001b[0m\u001b[38;5;249mM\u001b[0m\u001b[38;5;249my\u001b[0m\u001b[38;5;249mS\u001b[0m\u001b[38;5;249mt\u001b[0m\u001b[38;5;249mr\u001b[0m\u001b[38;5;249mu\u001b[0m\u001b[38;5;249mc\u001b[0m\u001b[38;5;249mt\u001b[0m\u001b[38;5;249m \u001b[0m\u001b[38;5;249m=\u001b[0m\u001b[38;5;249m \u001b[0m\u001b[38;5;249mo\u001b[0m\u001b[38;5;249mr\u001b[0m\u001b[38;5;249mi\u001b[0m\u001b[38;5;249mg\u001b[0m\u001b[38;5;249mi\u001b[0m\u001b[38;5;249mn\u001b[0m\u001b[38;5;249ma\u001b[0m\u001b[38;5;249ml\u001b[0m\u001b[38;5;249m.\u001b[0m\u001b[38;5;100mc\u001b[0m\u001b[38;5;100ml\u001b[0m\u001b[38;5;100mo\u001b[0m\u001b[38;5;100mn\u001b[0m\u001b[38;5;100me\u001b[0m\u001b[38;5;249m(\u001b[0m\u001b[38;5;249m)\u001b[0m\u001b[38;5;249m;\u001b[0m\u001b[38;5;249m \u001b[0m\u001b[38;5;249m/\u001b[0m\u001b[38;5;249m/\u001b[0m\u001b[38;5;249m \u001b[0m\u001b[38;5;249mC\u001b[0m\u001b[38;5;249ml\u001b[0m\u001b[38;5;249mo\u001b[0m\u001b[38;5;249mn\u001b[0m\u001b[38;5;249mi\u001b[0m\u001b[38;5;249mn\u001b[0m\u001b[38;5;249mg\u001b[0m\u001b[38;5;249m \u001b[0m\u001b[38;5;249mr\u001b[0m\u001b[38;5;249me\u001b[0m\u001b[38;5;249mq\u001b[0m\u001b[38;5;249mu\u001b[0m\u001b[38;5;249mi\u001b[0m\u001b[38;5;249mr\u001b[0m\u001b[38;5;249me\u001b[0m\u001b[38;5;249ms\u001b[0m\u001b[38;5;249m \u001b[0m\u001b[38;5;249mC\u001b[0m\u001b[38;5;249ml\u001b[0m\u001b[38;5;249mo\u001b[0m\u001b[38;5;249mn\u001b[0m\u001b[38;5;249me\u001b[0m\u001b[38;5;249m \u001b[0m\u001b[38;5;249mt\u001b[0m\u001b[38;5;249mr\u001b[0m\u001b[38;5;249ma\u001b[0m\u001b[38;5;249mi\u001b[0m\u001b[38;5;249mt\u001b[0m",
      " \u001b[38;5;240m  │\u001b[0m                                \u001b[38;5;100m─\u001b[0m\u001b[38;5;100m─\u001b[0m\u001b[38;5;100m┬\u001b[0m\u001b[38;5;100m─\u001b[0m\u001b[38;5;100m─\u001b[0m  ",
      " \u001b[38;5;240m  │\u001b[0m                                  \u001b[38;5;100m╰\u001b[0m\u001b[38;5;100m─\u001b[0m\u001b[38;5;100m─\u001b[0m\u001b[38;5;100m─\u001b[0m\u001b[38;5;100m─\u001b[0m method not found in `MyStruct`",
      "\u001b[38;5;246m───╯\u001b[0m"
     ]
    }
   ],
   "source": [
    "// #[derive(Clone)]\n",
    "struct MyStruct;\n",
    "\n",
    "let original = MyStruct;\n",
    "let copy = original; // Copying does not require Clone trait\n",
    "let clone: MyStruct = original.clone(); // Cloning requires Clone trait"
   ]
  },
  {
   "cell_type": "markdown",
   "id": "e0dbbc26-64ef-4cc1-8c4d-96daa5389729",
   "metadata": {},
   "source": [
    "### Combining Traits"
   ]
  },
  {
   "cell_type": "code",
   "execution_count": 24,
   "id": "738ce278-6f65-4089-8756-3bbb0e3fa02d",
   "metadata": {},
   "outputs": [
    {
     "name": "stdout",
     "output_type": "stream",
     "text": [
      "Drawing: Complex { real: 1.0, imaginary: 2.0 }\n"
     ]
    },
    {
     "data": {
      "text/plain": [
       "()"
      ]
     },
     "execution_count": 24,
     "metadata": {},
     "output_type": "execute_result"
    }
   ],
   "source": [
    "trait Drawable {\n",
    "    fn draw(&self);\n",
    "}\n",
    "\n",
    "trait Printable {\n",
    "    fn print(&self);\n",
    "}\n",
    "#[derive(Debug)]\n",
    "struct Complex {\n",
    "    real: f64,\n",
    "    imaginary: f64,\n",
    "}\n",
    "\n",
    "impl<T> Drawable for T\n",
    "where\n",
    "    T: Printable + std::fmt::Debug,\n",
    "{\n",
    "    fn draw(&self) {\n",
    "        println!(\"Drawing: {:?}\", self);\n",
    "    }\n",
    "}\n",
    "\n",
    "impl Printable for Complex {\n",
    "    fn print(&self) {\n",
    "        println!(\"Printing: {} + {}i\", self.real, self.imaginary);\n",
    "    }\n",
    "}\n",
    "\n",
    "fn main() {\n",
    "    let complex = Complex {\n",
    "        real: 1.0,\n",
    "        imaginary: 2.0,\n",
    "    };\n",
    "    complex.draw();\n",
    "}\n",
    "\n",
    "main()"
   ]
  },
  {
   "cell_type": "markdown",
   "id": "afc0bd87-9114-4343-bc5a-9ce13a7e6a49",
   "metadata": {},
   "source": [
    "### Avoiding Trait Conflicts"
   ]
  },
  {
   "cell_type": "code",
   "execution_count": 2,
   "id": "b0558807-84e3-4239-b983-1207130a3c2e",
   "metadata": {},
   "outputs": [
    {
     "name": "stdout",
     "output_type": "stream",
     "text": [
      "12\n"
     ]
    },
    {
     "data": {
      "text/plain": [
       "()"
      ]
     },
     "execution_count": 2,
     "metadata": {},
     "output_type": "execute_result"
    }
   ],
   "source": [
    "use std::fmt::Debug;\n",
    "\n",
    "trait Printable {\n",
    "    fn print(&self) where Self: Debug {\n",
    "        println!(\"{:?}\", self);\n",
    "    }\n",
    "}\n",
    "\n",
    "impl<T: Debug> Printable for T {}\n",
    "\n",
    "fn main() {\n",
    "    let number = 12;\n",
    "    number.print();\n",
    "}\n",
    "\n",
    "main()"
   ]
  },
  {
   "cell_type": "markdown",
   "id": "e92144a0-61a7-4e28-a6e2-3dff3cd3853a",
   "metadata": {},
   "source": [
    "### Blanket Implementations"
   ]
  },
  {
   "cell_type": "code",
   "execution_count": 6,
   "id": "2fadc0f2-23ee-4bb0-9d7d-a3673cbfe176",
   "metadata": {},
   "outputs": [
    {
     "name": "stdout",
     "output_type": "stream",
     "text": [
      "Negated: -12\n"
     ]
    },
    {
     "data": {
      "text/plain": [
       "()"
      ]
     },
     "execution_count": 6,
     "metadata": {},
     "output_type": "execute_result"
    }
   ],
   "source": [
    "trait Negate {\n",
    "    fn negate(&self) -> Self;\n",
    "}\n",
    "\n",
    "impl<T: Clone + std::ops::Neg<Output = T>> Negate for T {\n",
    "    fn negate(&self) -> Self {\n",
    "        -self.clone()\n",
    "    }\n",
    "}\n",
    "\n",
    "fn main() {\n",
    "    let number = 12;\n",
    "    let negated = number.negate();\n",
    "    println!(\"Negated: {}\", negated);\n",
    "}\n",
    "\n",
    "main()"
   ]
  },
  {
   "cell_type": "markdown",
   "id": "1af01e05-efe5-4670-9db5-ac4300440b20",
   "metadata": {},
   "source": [
    "### Supertraits"
   ]
  },
  {
   "cell_type": "code",
   "execution_count": 3,
   "id": "6f102240-6616-4103-b5ae-ea35f3872e34",
   "metadata": {},
   "outputs": [
    {
     "name": "stdout",
     "output_type": "stream",
     "text": [
      "Name: Mahmoud\n",
      "Displaying: Mahmoud\n"
     ]
    },
    {
     "data": {
      "text/plain": [
       "()"
      ]
     },
     "execution_count": 3,
     "metadata": {},
     "output_type": "execute_result"
    }
   ],
   "source": [
    "trait Printable {\n",
    "    fn print(&self);\n",
    "}\n",
    "\n",
    "trait Displayable: Printable {\n",
    "    fn display(&self);\n",
    "}\n",
    "\n",
    "struct Person {\n",
    "    name: String,\n",
    "}\n",
    "\n",
    "impl Printable for Person {\n",
    "    fn print(&self) {\n",
    "        println!(\"Name: {}\", self.name);\n",
    "    }\n",
    "}\n",
    "\n",
    "impl Displayable for Person {\n",
    "    fn display(&self) {\n",
    "        println!(\"Displaying: {}\", self.name);\n",
    "    }\n",
    "}\n",
    "\n",
    "fn main() {\n",
    "    let person = Person {\n",
    "        name: String::from(\"Mahmoud\"),\n",
    "    };\n",
    "    person.print();\n",
    "    person.display();\n",
    "}\n",
    "\n",
    "main()"
   ]
  },
  {
   "cell_type": "markdown",
   "id": "4f20a710-d8ec-4054-9ab5-898b0d419350",
   "metadata": {},
   "source": [
    "### Newtype Pattern"
   ]
  },
  {
   "cell_type": "code",
   "execution_count": 4,
   "id": "43b5d4be-c51d-4a2f-adbb-c18d83bc2793",
   "metadata": {},
   "outputs": [
    {
     "name": "stdout",
     "output_type": "stream",
     "text": [
      "Total distance: Quantity { value: 8.0, unit: Meter }\n"
     ]
    },
    {
     "data": {
      "text/plain": [
       "()"
      ]
     },
     "execution_count": 4,
     "metadata": {},
     "output_type": "execute_result"
    }
   ],
   "source": [
    "use std::ops::{Add, Sub};\n",
    "\n",
    "trait Unit: Default + Copy {\n",
    "    fn unit() -> &'static str;\n",
    "}\n",
    "\n",
    "#[derive(Default, Copy, Clone, Debug)]\n",
    "struct Meter;\n",
    "\n",
    "impl Unit for Meter {\n",
    "    fn unit() -> &'static str {\n",
    "        \"m\"\n",
    "    }\n",
    "}\n",
    "\n",
    "#[derive(Default, Copy, Clone)]\n",
    "struct Kilogram;\n",
    "\n",
    "impl Unit for Kilogram {\n",
    "    fn unit() -> &'static str {\n",
    "        \"kg\"\n",
    "    }\n",
    "}\n",
    "\n",
    "#[derive(Debug)]\n",
    "struct Quantity<U: Unit> {\n",
    "    value: f64,\n",
    "    unit: U,\n",
    "}\n",
    "\n",
    "impl<U: Unit> Add for Quantity<U> {\n",
    "    type Output = Quantity<U>;\n",
    "\n",
    "    fn add(self, other: Quantity<U>) -> Quantity<U> {\n",
    "        Quantity {\n",
    "            value: self.value + other.value,\n",
    "            unit: U::default(),\n",
    "        }\n",
    "    }\n",
    "}\n",
    "\n",
    "impl<U: Unit> Sub for Quantity<U> {\n",
    "    type Output = Quantity<U>;\n",
    "\n",
    "    fn sub(self, other: Quantity<U>) -> Quantity<U> {\n",
    "        Quantity {\n",
    "            value: self.value - other.value,\n",
    "            unit: U::default(),\n",
    "        }\n",
    "    }\n",
    "}\n",
    "\n",
    "fn main() {\n",
    "    let distance1 = Quantity::<Meter> { value: 5.0, unit: Meter };\n",
    "    let distance2 = Quantity::<Meter> { value: 3.0, unit: Meter };\n",
    "\n",
    "    let total_distance = distance1 + distance2;\n",
    "    println!(\"Total distance: {:?}\", total_distance);\n",
    "}\n",
    "\n",
    "main()"
   ]
  },
  {
   "cell_type": "markdown",
   "id": "9c81d6fa-925d-485b-83b0-386f844fcd86",
   "metadata": {},
   "source": [
    "### Dynamically Sized Types (DSTs)"
   ]
  },
  {
   "cell_type": "code",
   "execution_count": 6,
   "id": "fed7ed37-91b5-46d0-913c-4ef1fd6b247a",
   "metadata": {},
   "outputs": [
    {
     "name": "stdout",
     "output_type": "stream",
     "text": [
      "Circle area: 78.53981633974483\n"
     ]
    }
   ],
   "source": [
    "trait Shape {\n",
    "    fn area(&self) -> f64;\n",
    "}\n",
    "\n",
    "struct Circle {\n",
    "    radius: f64,\n",
    "}\n",
    "\n",
    "impl Shape for Circle {\n",
    "    fn area(&self) -> f64 {\n",
    "        std::f64::consts::PI * self.radius * self.radius\n",
    "    }\n",
    "}\n",
    "\n",
    "let circle: &dyn Shape = &Circle { radius: 5.0 };\n",
    "println!(\"Circle area: {}\", circle.area());"
   ]
  },
  {
   "cell_type": "markdown",
   "id": "7972a631-2323-443b-aff7-12eb32fe8ced",
   "metadata": {},
   "source": [
    "### Conditional Conformance"
   ]
  },
  {
   "cell_type": "code",
   "execution_count": 7,
   "id": "2d8b325a-587a-4e34-bf2f-b24719ccb53d",
   "metadata": {},
   "outputs": [
    {
     "name": "stdout",
     "output_type": "stream",
     "text": [
      "100°C in Fahrenheit: 212.00°F\n",
      "212°F in Celsius: 100.00°C\n"
     ]
    },
    {
     "data": {
      "text/plain": [
       "()"
      ]
     },
     "execution_count": 7,
     "metadata": {},
     "output_type": "execute_result"
    }
   ],
   "source": [
    "trait Convertible<T> {\n",
    "    fn convert(&self) -> T;\n",
    "}\n",
    "\n",
    "struct Celsius(f64);\n",
    "struct Fahrenheit(f64);\n",
    "\n",
    "impl Convertible<Fahrenheit> for Celsius {\n",
    "    fn convert(&self) -> Fahrenheit {\n",
    "        Fahrenheit(self.0 * 1.8 + 32.0)\n",
    "    }\n",
    "}\n",
    "\n",
    "impl Convertible<Celsius> for Fahrenheit {\n",
    "    fn convert(&self) -> Celsius {\n",
    "        Celsius((self.0 - 32.0) / 1.8)\n",
    "    }\n",
    "}\n",
    "\n",
    "fn main() {\n",
    "    let celsius = Celsius(100.0);\n",
    "    let fahrenheit = Fahrenheit(212.0);\n",
    "\n",
    "    let converted_fahrenheit: Fahrenheit = celsius.convert();\n",
    "    let converted_celsius: Celsius = fahrenheit.convert();\n",
    "\n",
    "    println!(\"100°C in Fahrenheit: {:.2}°F\", converted_fahrenheit.0);\n",
    "    println!(\"212°F in Celsius: {:.2}°C\", converted_celsius.0);\n",
    "}\n",
    "\n",
    "main()"
   ]
  },
  {
   "cell_type": "markdown",
   "id": "8e0a6113-a273-4d8c-b62e-a28b22e6fbcd",
   "metadata": {},
   "source": [
    "### Type-level Programming"
   ]
  },
  {
   "cell_type": "code",
   "execution_count": 8,
   "id": "0fbbcb87-acc0-40e0-81f2-6fd9640b10c0",
   "metadata": {},
   "outputs": [
    {
     "name": "stdout",
     "output_type": "stream",
     "text": [
      "Swinging the sword!\n",
      "Casting a spell with the staff!\n"
     ]
    }
   ],
   "source": [
    "trait CharacterClass {\n",
    "    type Weapon: Weapon;\n",
    "\n",
    "    fn create_weapon() -> Self::Weapon;\n",
    "}\n",
    "\n",
    "trait Weapon {\n",
    "    fn attack(&self);\n",
    "}\n",
    "\n",
    "struct Warrior;\n",
    "struct Mage;\n",
    "\n",
    "struct Sword;\n",
    "struct Staff;\n",
    "\n",
    "impl Weapon for Sword {\n",
    "    fn attack(&self) {\n",
    "        println!(\"Swinging the sword!\");\n",
    "    }\n",
    "}\n",
    "\n",
    "impl Weapon for Staff {\n",
    "    fn attack(&self) {\n",
    "        println!(\"Casting a spell with the staff!\");\n",
    "    }\n",
    "}\n",
    "\n",
    "impl CharacterClass for Warrior {\n",
    "    type Weapon = Sword;\n",
    "\n",
    "    fn create_weapon() -> Self::Weapon {\n",
    "        Sword\n",
    "    }\n",
    "}\n",
    "\n",
    "impl CharacterClass for Mage {\n",
    "    type Weapon = Staff;\n",
    "\n",
    "    fn create_weapon() -> Self::Weapon {\n",
    "        Staff\n",
    "    }\n",
    "}\n",
    "\n",
    "fn attack<C: CharacterClass>() {\n",
    "    let weapon = C::create_weapon();\n",
    "    weapon.attack();\n",
    "}\n",
    "\n",
    "attack::<Warrior>();\n",
    "attack::<Mage>();"
   ]
  },
  {
   "cell_type": "markdown",
   "id": "7acb64ad-ee10-4bcd-a3f2-8314e453816e",
   "metadata": {},
   "source": [
    "---"
   ]
  }
 ],
 "metadata": {
  "kernelspec": {
   "display_name": "Rust",
   "language": "rust",
   "name": "rust"
  },
  "language_info": {
   "codemirror_mode": "rust",
   "file_extension": ".rs",
   "mimetype": "text/rust",
   "name": "Rust",
   "pygment_lexer": "rust",
   "version": ""
  }
 },
 "nbformat": 4,
 "nbformat_minor": 5
}
