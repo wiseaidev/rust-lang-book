{
 "cells": [
  {
   "cell_type": "markdown",
   "id": "55bbb032-e67e-40b2-92b6-c5c8011dc213",
   "metadata": {},
   "source": [
    "# Google Colab Rust Setup\n",
    "\n",
    "The following cell is used to set up and spin up a Jupyter Notebook environment with a Rust kernel using Nix and IPC Proxy. "
   ]
  },
  {
   "cell_type": "code",
   "execution_count": null,
   "id": "954f3fd3-08d2-4deb-bb01-9a087f4c1786",
   "metadata": {},
   "outputs": [],
   "source": [
    "!wget -qO- https://gist.github.com/wiseaidev/2af6bef753d48565d11bcd478728c979/archive/3f6df40db09f3517ade41997b541b81f0976c12e.tar.gz | tar xvz --strip-components=1\n",
    "!bash setup_evcxr_kernel.sh"
   ]
  },
  {
   "cell_type": "markdown",
   "id": "60c8d72c-b011-4360-b368-d540b8d7361a",
   "metadata": {},
   "source": [
    "## Error Handling and Recovery"
   ]
  },
  {
   "cell_type": "markdown",
   "id": "38339871-7f3d-49d8-9b4f-e77f9e2a88da",
   "metadata": {},
   "source": [
    "### Understanding `Result` and `Option`"
   ]
  },
  {
   "cell_type": "code",
   "execution_count": 2,
   "id": "c03bfa03-ee78-4267-8d9b-582b98865f88",
   "metadata": {},
   "outputs": [
    {
     "data": {
      "text/plain": [
       "Some(42)"
      ]
     },
     "execution_count": 2,
     "metadata": {},
     "output_type": "execute_result"
    }
   ],
   "source": [
    "let result: Result<i32, &str> = Ok(42);\n",
    "let option: Option<i32> = Some(42);\n",
    "option"
   ]
  },
  {
   "cell_type": "markdown",
   "id": "b2c280ac-2438-43e1-9a18-98baec012e77",
   "metadata": {},
   "source": [
    "#### Handling Errors with `Result`"
   ]
  },
  {
   "cell_type": "code",
   "execution_count": 3,
   "id": "21af2e95-fe3e-4c88-989d-4ba92ac5b22e",
   "metadata": {},
   "outputs": [
    {
     "name": "stdout",
     "output_type": "stream",
     "text": [
      "Result: 5\n"
     ]
    },
    {
     "data": {
      "text/plain": [
       "()"
      ]
     },
     "execution_count": 3,
     "metadata": {},
     "output_type": "execute_result"
    }
   ],
   "source": [
    "fn divide(a: i32, b: i32) -> Result<i32, String> {\n",
    "    if b == 0 {\n",
    "        return Err(format!(\"Cannot divide {} by zero.\", a));\n",
    "    }\n",
    "\n",
    "    Ok(a / b)\n",
    "}\n",
    "\n",
    "let result = divide(10, 2);\n",
    "\n",
    "match result {\n",
    "    Ok(value) => println!(\"Result: {}\", value),\n",
    "    Err(error) => eprintln!(\"Error: {}\", error),\n",
    "}"
   ]
  },
  {
   "cell_type": "markdown",
   "id": "523c632c-e041-4a81-b105-2b924b7c4b62",
   "metadata": {},
   "source": [
    "#### Handling Errors with `Option`"
   ]
  },
  {
   "cell_type": "code",
   "execution_count": 4,
   "id": "6a938a11-c989-4556-ace8-a13a6cbcdb42",
   "metadata": {},
   "outputs": [
    {
     "name": "stdout",
     "output_type": "stream",
     "text": [
      "Found at index: 2\n"
     ]
    },
    {
     "data": {
      "text/plain": [
       "()"
      ]
     },
     "execution_count": 4,
     "metadata": {},
     "output_type": "execute_result"
    }
   ],
   "source": [
    "fn find_element(arr: &[i32], target: i32) -> Option<usize> {\n",
    "    for (i, &element) in arr.iter().enumerate() {\n",
    "        if element == target {\n",
    "            return Some(i);\n",
    "        }\n",
    "    }\n",
    "\n",
    "    None\n",
    "}\n",
    "\n",
    "let numbers = [1, 2, 3, 4, 5];\n",
    "let target = 3;\n",
    "\n",
    "match find_element(&numbers, target) {\n",
    "    Some(index) => println!(\"Found at index: {}\", index),\n",
    "    None => println!(\"Element not found.\"),\n",
    "}"
   ]
  },
  {
   "cell_type": "markdown",
   "id": "1ee276a9-c379-429a-a74d-4d836c693fc5",
   "metadata": {},
   "source": [
    "### Techniques for Error Propagation and Handling Multiple Errors"
   ]
  },
  {
   "cell_type": "markdown",
   "id": "148976ed-7210-4ae7-bee9-ca90b7444c8a",
   "metadata": {},
   "source": [
    "#### The `?` Operator"
   ]
  },
  {
   "cell_type": "code",
   "execution_count": 5,
   "id": "f1d581b0-8e46-4140-b6e7-474e7cb0cb73",
   "metadata": {},
   "outputs": [
    {
     "data": {
      "text/plain": [
       "Err(Os { code: 2, kind: NotFound, message: \"No such file or directory\" })"
      ]
     },
     "execution_count": 5,
     "metadata": {},
     "output_type": "execute_result"
    }
   ],
   "source": [
    "use std::fs::File;\n",
    "use std::io::Read;\n",
    "\n",
    "fn read_file_contents(file_path: &str) -> Result<String, std::io::Error> {\n",
    "    let mut file = File::open(file_path)?;\n",
    "    let mut contents = String::new();\n",
    "    file.read_to_string(&mut contents)?;\n",
    "    Ok(contents)\n",
    "}\n",
    "\n",
    "fn main() -> Result<(), Box<dyn std::error::Error>> {\n",
    "    let file_path = \"example.txt\";\n",
    "    let contents = read_file_contents(file_path)?;\n",
    "    println!(\"File contents: {}\", contents);\n",
    "    Ok(())\n",
    "}\n",
    "\n",
    "main()"
   ]
  },
  {
   "cell_type": "markdown",
   "id": "6c249b08-e7b8-4827-9952-c9b9a1048f66",
   "metadata": {},
   "source": [
    "#### Handling Multiple Errors with `Result`"
   ]
  },
  {
   "cell_type": "code",
   "execution_count": 6,
   "id": "f2603982-adb7-4a18-90a0-85c59c3abc3f",
   "metadata": {},
   "outputs": [
    {
     "name": "stderr",
     "output_type": "stream",
     "text": [
      "An error occurred: ParsingError(ParseIntError { kind: InvalidDigit })\n"
     ]
    },
    {
     "data": {
      "text/plain": [
       "Err(ParsingError(ParseIntError { kind: InvalidDigit }))"
      ]
     },
     "execution_count": 6,
     "metadata": {},
     "output_type": "execute_result"
    }
   ],
   "source": [
    "use std::num::ParseIntError;\n",
    "\n",
    "#[derive(Debug)]\n",
    "enum CustomError {\n",
    "    ParsingError(ParseIntError),\n",
    "    SquaringError,\n",
    "}\n",
    "\n",
    "fn parse_and_square(input: &str) -> Result<i32, CustomError> {\n",
    "    let number = input.parse::<i32>().map_err(CustomError::ParsingError)?;\n",
    "    if number <= 0 {\n",
    "        return Err(CustomError::SquaringError);\n",
    "    }\n",
    "    let squared = number * number;\n",
    "    Ok(squared)\n",
    "}\n",
    "\n",
    "fn main() -> Result<(), CustomError> {\n",
    "    let input = \"a\";\n",
    "\n",
    "    let result = parse_and_square(input)\n",
    "        .and_then(|squared| {\n",
    "            if squared < 100 {\n",
    "                Ok(squared)\n",
    "            } else {\n",
    "                Err(CustomError::SquaringError)\n",
    "            }\n",
    "        })\n",
    "        .map_err(|err| {\n",
    "            eprintln!(\"An error occurred: {:?}\", err);\n",
    "            err\n",
    "        })?;\n",
    "\n",
    "    println!(\"Result: {}\", result);\n",
    "    Ok(())\n",
    "}\n",
    "\n",
    "main()"
   ]
  },
  {
   "cell_type": "markdown",
   "id": "ba4dbcec-92f0-4fbf-85a3-e74d0d66b424",
   "metadata": {},
   "source": [
    "#### Error Propagation with `Result` and `Option`"
   ]
  },
  {
   "cell_type": "code",
   "execution_count": 7,
   "id": "8b0ef968-657a-4362-bf8b-b5094306a085",
   "metadata": {},
   "outputs": [
    {
     "name": "stdout",
     "output_type": "stream",
     "text": [
      "Result: 1\n"
     ]
    },
    {
     "data": {
      "text/plain": [
       "()"
      ]
     },
     "execution_count": 7,
     "metadata": {},
     "output_type": "execute_result"
    }
   ],
   "source": [
    "fn find_element(arr: &[i32], target: i32) -> Option<usize> {\n",
    "    arr.iter().position(|&x| x == target)\n",
    "}\n",
    "\n",
    "fn divide(dividend: i32, divisor: i32) -> Result<i32, String> {\n",
    "    if divisor == 0 {\n",
    "        Err(\"Division by zero\".to_string())\n",
    "    } else {\n",
    "        Ok(dividend / divisor)\n",
    "    }\n",
    "}\n",
    "\n",
    "fn find_and_divide(arr: &[i32], target: i32, divisor: i32) -> Result<f64, String> {\n",
    "    let index = find_element(arr, target)\n",
    "        .ok_or_else(|| \"Element not found.\".to_string())?;\n",
    "\n",
    "    let result = divide(arr[index], divisor)?;\n",
    "\n",
    "    Ok(result as f64)\n",
    "}\n",
    "\n",
    "fn main() {\n",
    "    let numbers = [1, 2, 3, 4, 5];\n",
    "    let target = 3;\n",
    "    let divisor = 2;\n",
    "\n",
    "    match find_and_divide(&numbers, target, divisor) {\n",
    "        Ok(result) => println!(\"Result: {}\", result),\n",
    "        Err(error) => eprintln!(\"Error: {}\", error),\n",
    "    }\n",
    "}\n",
    "\n",
    "main()"
   ]
  },
  {
   "cell_type": "markdown",
   "id": "e2bc554b-f984-4947-ab26-99ac6f4d13b0",
   "metadata": {},
   "source": [
    "### Creating Custom Error Types"
   ]
  },
  {
   "cell_type": "code",
   "execution_count": 8,
   "id": "fc65b806-eb79-4b59-8597-32952b7858bf",
   "metadata": {},
   "outputs": [
    {
     "name": "stderr",
     "output_type": "stream",
     "text": [
      "File not found.\n"
     ]
    },
    {
     "data": {
      "text/plain": [
       "Ok(())"
      ]
     },
     "execution_count": 8,
     "metadata": {},
     "output_type": "execute_result"
    }
   ],
   "source": [
    "use std::fs::File;\n",
    "use std::io::Read;\n",
    "use std::io::Error as IoError;\n",
    "\n",
    "#[derive(Debug)]\n",
    "enum FileReadError {\n",
    "    FileNotFound,\n",
    "    IoError(IoError),\n",
    "}\n",
    "\n",
    "impl From<IoError> for FileReadError {\n",
    "    fn from(error: IoError) -> Self {\n",
    "        if error.kind() == std::io::ErrorKind::NotFound {\n",
    "            FileReadError::FileNotFound\n",
    "        } else {\n",
    "            FileReadError::IoError(error)\n",
    "        }\n",
    "    }\n",
    "}\n",
    "\n",
    "fn read_file_contents(file_path: &str) -> Result<String, FileReadError> {\n",
    "    let mut file = File::open(file_path).map_err(FileReadError::from)?;\n",
    "\n",
    "    let mut contents = String::new();\n",
    "    file.read_to_string(&mut contents)?;\n",
    "    Ok(contents)\n",
    "}\n",
    "\n",
    "fn main() -> Result<(), Box<dyn std::error::Error>> {\n",
    "    let file_path = \"nonexistent.txt\";\n",
    "    match read_file_contents(file_path) {\n",
    "        Ok(contents) => println!(\"File contents: {}\", contents),\n",
    "        Err(FileReadError::FileNotFound) => eprintln!(\"File not found.\"),\n",
    "        Err(FileReadError::IoError(e)) => eprintln!(\"IO Error: {}\", e),\n",
    "    }\n",
    "    Ok(())\n",
    "}\n",
    "\n",
    "main()"
   ]
  },
  {
   "cell_type": "markdown",
   "id": "48c89816-170c-4217-8524-d4cd209a535e",
   "metadata": {},
   "source": [
    "### Advanced Error Handling"
   ]
  },
  {
   "cell_type": "markdown",
   "id": "291ef1e6-3f94-4e0d-b9be-e793eee85969",
   "metadata": {},
   "source": [
    "#### The `anyhow` Library"
   ]
  },
  {
   "cell_type": "code",
   "execution_count": 9,
   "id": "44c76084-a061-4cb2-8a25-caf34a77a7bb",
   "metadata": {},
   "outputs": [],
   "source": [
    ":dep anyhow = {version = \"1.0.75\"}"
   ]
  },
  {
   "cell_type": "code",
   "execution_count": 10,
   "id": "b8e2e1dc-e5df-4804-a28c-dadbf94cb659",
   "metadata": {},
   "outputs": [
    {
     "ename": "Error",
     "evalue": "`?` couldn't convert the error to `String`",
     "output_type": "error",
     "traceback": [
      "\u001b[31m[E0277] Error:\u001b[0m `?` couldn't convert the error to `String`"
     ]
    }
   ],
   "source": [
    "use anyhow::{anyhow, Result};\n",
    "\n",
    "fn divide(a: i32, b: i32) -> Result<i32> {\n",
    "    if b == 0 {\n",
    "        return Err(anyhow!(\"Cannot divide by zero.\"));\n",
    "    }\n",
    "\n",
    "    Ok(a / b)\n",
    "}\n",
    "\n",
    "fn main() -> Result<()> {\n",
    "    let result = divide(10, 0).unwrap();\n",
    "    println!(\"Result: {}\", result);\n",
    "    Ok(())\n",
    "}\n",
    "\n",
    "main()\n",
    "// TODO: Report a bug"
   ]
  },
  {
   "cell_type": "markdown",
   "id": "e1be15e8-2332-4c13-9ac3-a23c81d50c27",
   "metadata": {},
   "source": [
    "#### Custom Error Types with `thiserror`"
   ]
  },
  {
   "cell_type": "code",
   "execution_count": 11,
   "id": "55bb5ed3-ef2b-42f3-8c56-057ed83f97e5",
   "metadata": {},
   "outputs": [],
   "source": [
    ":dep thiserror = {version = \"1.0.50\"}"
   ]
  },
  {
   "cell_type": "code",
   "execution_count": 12,
   "id": "c55d0397-151c-4073-b2d6-4a967a526b6f",
   "metadata": {},
   "outputs": [
    {
     "data": {
      "text/plain": [
       "Err(FileNotFound(\"example.txt\"))"
      ]
     },
     "execution_count": 12,
     "metadata": {},
     "output_type": "execute_result"
    }
   ],
   "source": [
    "use thiserror::Error;\n",
    "\n",
    "#[derive(Error, Debug)]\n",
    "enum MyError {\n",
    "    #[error(\"File not found: {0}\")]\n",
    "    FileNotFound(String),\n",
    "    #[error(\"IO error: {0}\")]\n",
    "    IoError(#[from] std::io::Error),\n",
    "}\n",
    "\n",
    "fn read_file_contents(file_path: &str) -> Result<String, MyError> {\n",
    "    let result = std::fs::read_to_string(file_path);\n",
    "\n",
    "    match result {\n",
    "        Ok(contents) => Ok(contents),\n",
    "        Err(e) => {\n",
    "            if e.kind() == std::io::ErrorKind::NotFound {\n",
    "                Err(MyError::FileNotFound(file_path.to_string()))\n",
    "            } else {\n",
    "                Err(MyError::IoError(e))\n",
    "            }\n",
    "        }\n",
    "    }\n",
    "}\n",
    "\n",
    "fn main() -> Result<(), MyError> {\n",
    "    let file_path = \"example.txt\";\n",
    "    let contents = read_file_contents(file_path)?;\n",
    "    println!(\"File contents: {}\", contents);\n",
    "    Ok(())\n",
    "}\n",
    "\n",
    "main()"
   ]
  },
  {
   "cell_type": "markdown",
   "id": "990062e2-a934-4776-b582-5c32845d718b",
   "metadata": {},
   "source": [
    "### Asynchronous Error Handling"
   ]
  },
  {
   "cell_type": "markdown",
   "id": "cfeb1b77-4e17-4523-9cac-7616cf32049c",
   "metadata": {},
   "source": [
    "#### Async Functions and Results"
   ]
  },
  {
   "cell_type": "code",
   "execution_count": 13,
   "id": "457fb7f7-c557-4b61-99d6-4360eda707c3",
   "metadata": {},
   "outputs": [],
   "source": [
    ":dep reqwest = {version = \"0.11.22\"}"
   ]
  },
  {
   "cell_type": "code",
   "execution_count": 2,
   "id": "0ac7e346-e8c2-4d1c-a030-f8ad0792c6b3",
   "metadata": {
    "scrolled": true
   },
   "outputs": [],
   "source": [
    ":dep tokio = { version = \"1.34.0\", features = [\"full\"] }"
   ]
  },
  {
   "cell_type": "code",
   "execution_count": 15,
   "id": "e4172db5-6c0e-4790-8aba-00b90e54a0c5",
   "metadata": {
    "scrolled": true
   },
   "outputs": [
    {
     "name": "stdout",
     "output_type": "stream",
     "text": [
      "Fetched data:\n",
      "<!doctype html><html dir=\"rtl\" itemscope=\"\" itemtype=\"http://schema.org/WebPage\" lang=\"ar-LB\"><head><meta content=\"text/html; charset=UTF-8\" http-equiv=\"Content-Type\"><meta content=\"/images/branding/googleg/1x/googleg_standard_color_128dp.png\" itemprop=\"image\"><title>Google</title><script nonce=\"Vqfgad9Tcmt49TBb7ZqOQw\">(function(){var _g={kEI:'CPyDZc-rBsyBhbIPsLaP4AY',kEXPI:'0,1365468,206,4804,1132070,870536,327182,683,380090,16114,28684,22431,1361,284,12028,17587,4998,17075,35735,5581,2891,4139,8221,50059,13245,3784,9707,230,20583,4,59617,27047,6627,7596,1,11942,30212,2,39761,5679,1020,31122,4569,6258,23417,1253,33064,2,2,1,23825,801,10161,23351,20506,6,1923,9779,42459,20198,20137,14,82,52946,3030,15816,1804,13806,12601,8862,11813,1632,5266501,2,296,69,1221,16,5993363,2803214,3311,141,795,30570,197,7443898,5,16495898,2738464,1305642,16672,39684,4,4199,3,1603,3,262,3,234,3,2121276,2583,23029353,11557,1242,8409,8899,5800,1965,3164,8344,1515,4428,7459,3117,5878,4241,13214,7229,6094,214,9213,2,1296,2052,27,6,5,15,265,4834,701,662,210,438,664,1690,80,1400,270,798,1543,3577,3106,279,8158,2424,2371,1251,108,853,149,2383,1043,1784,1,6,2816,550,282,233,3069,1545,2237,218,3,1344,715,256,40,270,2271,210,673,456,500,2867,5,1232,901,28,91,624,3,1532,597,1,6,123,4,1120,2,3,10,2,107,1146,1253,812,709,635,133,3,4,2,2,2,280,1475,32,716,461,541,83,255,591,283,248,1732,2689,729,1108,894,311,959,585,360,40,1487,69,126,1178,138,1055,1065,224,1,1,56,55,498,265,8,1309,334,86,213,18,552,892,1352,358,762,211,190,192,357,1258,620,728,81,434,463,216,62,3212,2,362,388,924,868,2478,60,1732,3,21367854,23199,341138,218,1624,3,2378,5,275,494',kBL:'6iCz',kOPI:89978449};(function(){var a;(null==(a=window.google)?0:a.stvsc)?google.kEI=_g.kEI:window.google=_g;}).call(this);})();(function(){google.sn='webhp';google.kHL='ar-LB';})();(function(){\n",
      "var h=this||self;function l(){return void 0!==window.google&&void 0!==window.google.kOPI&&0!==window.google.kOPI?window.google.kOPI:null};var m,n=[];function p(a){for(var b;a&&(!a.getAttribute||!(b=a.getAttribute(\"eid\")));)a=a.parentNode;return b||m}function q(a){for(var b=null;a&&(!a.getAttribute||!(b=a.getAttribute(\"leid\")));)a=a.parentNode;return b}function r(a){/^http:/i.test(a)&&\"https:\"===window.location.protocol&&(google.ml&&google.ml(Error(\"a\"),!1,{src:a,glmm:1}),a=\"\");return a}\n",
      "function t(a,b,c,d,k){var e=\"\";-1===b.search(\"&ei=\")&&(e=\"&ei=\"+p(d),-1===b.search(\"&lei=\")&&(d=q(d))&&(e+=\"&lei=\"+d));d=\"\";var g=-1===b.search(\"&cshid=\")&&\"slh\"!==a,f=[];f.push([\"zx\",Date.now().toString()]);h._cshid&&g&&f.push([\"cshid\",h._cshid]);c=c();null!=c&&f.push([\"opi\",c.toString()]);for(c=0;c<f.length;c++){if(0===c||0<c)d+=\"&\";d+=f[c][0]+\"=\"+f[c][1]}return\"/\"+(k||\"gen_204\")+\"?atyp=i&ct=\"+String(a)+\"&cad=\"+(b+e+d)};m=google.kEI;google.getEI=p;google.getLEI=q;google.ml=function(){return null};google.log=function(a,b,c,d,k,e){e=void 0===e?l:e;c||(c=t(a,b,e,d,k));if(c=r(c)){a=new Image;var g=n.length;n[g]=a;a.onerror=a.onload=a.onabort=function(){delete n[g]};a.src=c}};google.logUrl=function(a,b){b=void 0===b?l:b;return t(\"\",a,b)};}).call(this);(function(){google.y={};google.sy=[];google.x=function(a,b){if(a)var c=a.id;else{do c=Math.random();while(google.y[c])}google.y[c]=[a,b];return!1};google.sx=function(a){google.sy.push(a)};google.lm=[];google.plm=function(a){google.lm.push.apply(google.lm,a)};google.lq=[];google.load=function(a,b,c){google.lq.push([[a],b,c])};google.loadAll=function(a,b){google.lq.push([a,b])};google.bx=!1;google.lx=function(){};var d=[];google.fce=function(a,b,c,e){d.push([a,b,c,e])};google.qce=d;}).call(this);google.f={};(function(){\n",
      "document.documentElement.addEventListener(\"submit\",function(b){var a;if(a=b.target){var c=a.getAttribute(\"data-submitfalse\");a=\"1\"===c||\"q\"===c&&!a.elements.q.value?!0:!1}else a=!1;a&&(b.preventDefault(),b.stopPropagation())},!0);document.documentElement.addEventListener(\"click\",function(b){var a;a:{for(a=b.target;a&&a!==document.documentElement;a=a.parentElement)if(\"A\"===a.tagName){a=\"1\"===a.getAttribute(\"data-nohref\");break a}a=!1}a&&b.preventDefault()},!0);}).call(this);</script><style>#gb{font:13px/27px Arial,sans-serif;height:30px}#gbz,#gbg{position:absolute;white-space:nowrap;top:0;height:30px;z-index:1000}#gbz{right:0;padding-right:4px}#gbg{left:0;padding-left:5px}#gbs{background:transparent;position:absolute;top:-999px;visibility:hidden;z-index:998;left:0}.gbto #gbs{background:#fff}#gbx3,#gbx4{background-color:#2d2d2d;background-image:none;_background-image:none;background-position:0 -138px;background-repeat:repeat-x;border-bottom:1px solid #000;font-size:24px;height:29px;_height:30px;opacity:1;filter:alpha(opacity=100);position:absolute;top:0;width:100%;z-index:990}#gbx3{right:0}#gbx4{left:0}#gbb{position:relative}#gbbw{right:0;position:absolute;top:30px;width:100%}.gbtcb{position:absolute;visibility:hidden}#gbz .gbtcb{left:0}#gbg .gbtcb{right:0}.gbxx{display:none !important}.gbxo{opacity:0 !important;filter:alpha(opacity=0) !important}.gbm{position:absolute;z-index:999;top:-999px;visibility:hidden;text-align:right;border:1px solid #bebebe;background:#fff;-moz-box-shadow:-1px 1px 1px rgba(0,0,0,.2);-webkit-box-shadow:0 2px 4px rgba(0,0,0,.2);box-shadow:0 2px 4px rgba(0,0,0,.2)}.gbrtl .gbm{-moz-box-shadow:1px 1px 1px rgba(0,0,0,.2)}.gbto .gbm,.gbto #gbs{top:29px;visibility:visible}#gbz .gbm{right:0}#gbg .gbm{left:0}.gbxms{background-color:#ccc;display:block;position:absolute;z-index:1;top:-1px;right:-2px;left:-2px;bottom:-2px;opacity:.4;-moz-border-radius:3px;filter:progid:DXImageTransform.Microsoft.Blur(pixelradius=5);*opacity:1;*top:-2px;*right:-5px;*left:5px;*bottom:4px;-ms-filter:\"progid:DXImageTransform.Microsoft.Blur(pixelradius=5)\";opacity:1\\0/;top:-4px\\0/;right:-6px\\0/;left:5px\\0/;bottom:4px\\0/}.gbma{position:relative;top:-1px;border-style:solid dashed dashed;border-color:transparent;border-top-color:#c0c0c0;display:-moz-inline-box;display:inline-block;font-size:0;height:0;line-height:0;width:0;border-width:3px 3px 0;padding-top:1px;right:4px}#gbztms1,#gbi4m1,#gbi4s,#gbi4t{zoom:1}.gbtc,.gbmc,.gbmcc{display:block;list-style:none;margin:0;padding:0}.gbmc{background:#fff;padding:10px 0;position:relative;z-index:2;zoom:1}.gbt{position:relative;display:-moz-inline-box;display:inline-block;line-height:27px;padding:0;vertical-align:top}.gbt{*display:inline}.gbto{box-shadow:0 2px 4px rgba(0,0,0,.2);-moz-box-shadow:0 2px 4px rgba(0,0,0,.2);-webkit-box-shadow:0 2px 4px rgba(0,0,0,.2)}.gbzt,.gbgt{cursor:pointer;display:block;text-decoration:none !important}span#gbg6,span#gbg4{cursor:default}.gbts{border-left:1px solid transparent;border-right:1px solid transparent;display:block;*display:inline-block;padding:0 5px;position:relative;z-index:1000}.gbts{*display:inline}.gbzt .gbts{display:inline;zoom:1}.gbto .gbts{background:#fff;border-color:#bebebe;color:#36c;padding-bottom:1px;padding-top:2px}.gbz0l .gbts{color:#fff;font-weight:bold}.gbtsa{padding-left:9px}#gbz .gbzt,#gbz .gbgt,#gbg .gbgt{color:#ccc!important}.gbtb2{display:block;border-top:2px solid transparent}.gbto .gbzt .gbtb2,.gbto .gbgt .gbtb2{border-top-width:0}.gbtb .gbts{background:url(https://ssl.gstatic.com/gb/images/b_8d5afc09.png);_background:url(https://ssl.gstatic.com/gb/images/b8_3615d64d.png);background-position:-27px -22px;border:0;font-size:0;padding:29px 0 0;*padding:27px 0 0;width:1px}.gbzt:hover,.gbzt:focus,.gbgt-hvr,.gbgt:focus{background-color:#4c4c4c;background-image:none;_background-image:none;background-position:0 -102px;background-repeat:repeat-x;outline:none;text-decoration:none !important}.gbpdjs .gbto .gbm{min-width:99%}.gbz0l .gbtb2{border-top-color:#dd4b39!important}#gbi4s,#gbi4s1{font-weight:bold}#gbg6.gbgt-hvr,#gbg6.gbgt:focus{background-color:transparent;background-image:none}.gbg4a{font-size:0;line-height:0}.gbg4a .gbts{padding:27px 5px 0;*padding:25px 5px 0}.gbto .gbg4a .gbts{padding:29px 5px 1px;*padding:27px 5px 1px}#gbi4i,#gbi4id{right:5px;border:0;height:24px;position:absolute;top:1px;width:24px}.gbto #gbi4i,.gbto #gbi4id{top:3px}.gbi4p{display:block;width:24px}#gbi4id{background-position:-44px -101px}#gbmpid{background-position:0 0}#gbmpi,#gbmpid{border:none;display:inline-block;height:48px;width:48px}#gbmpiw{display:inline-block;line-height:9px;padding-right:20px;margin-top:10px;position:relative}#gbmpi,#gbmpid,#gbmpiw{*display:inline}#gbg5{font-size:0}#gbgs5{padding:5px !important}.gbto #gbgs5{padding:7px 5px 6px !important}#gbi5{background:url(https://ssl.gstatic.com/gb/images/b_8d5afc09.png);_background:url(https://ssl.gstatic.com/gb/images/b8_3615d64d.png);background-position:0 0;display:block;font-size:0;height:17px;width:16px}.gbto #gbi5{background-position:-6px -22px}.gbn .gbmt,.gbn .gbmt:visited,.gbnd .gbmt,.gbnd .gbmt:visited{color:#dd8e27 !important}.gbf .gbmt,.gbf .gbmt:visited{color:#900 !important}.gbmt,.gbml1,.gbmlb,.gbmt:visited,.gbml1:visited,.gbmlb:visited{color:#36c !important;text-decoration:none !important}.gbmt,.gbmt:visited{display:block}.gbml1,.gbmlb,.gbml1:visited,.gbmlb:visited{display:inline-block;margin:0 10px}.gbml1,.gbmlb,.gbml1:visited,.gbmlb:visited{*display:inline}.gbml1,.gbml1:visited{padding:0 10px}.gbml1-hvr,.gbml1:focus{outline:none;text-decoration:underline !important}#gbpm .gbml1{display:inline;margin:0;padding:0;white-space:nowrap}.gbmlb,.gbmlb:visited{line-height:27px}.gbmlb-hvr,.gbmlb:focus{outline:none;text-decoration:underline !important}.gbmlbw{color:#ccc;margin:0 10px}.gbmt{padding:0 20px}.gbmt:hover,.gbmt:focus{background:#eee;cursor:pointer;outline:0 solid black;text-decoration:none !important}.gbm0l,.gbm0l:visited{color:#000 !important;font-weight:bold}.gbmh{border-top:1px solid #bebebe;font-size:0;margin:10px 0}#gbd4 .gbmc{background:#f5f5f5;padding-top:0}#gbd4 .gbsbic::-webkit-scrollbar-track:vertical{background-color:#f5f5f5;margin-top:2px}#gbmpdv{background:#fff;border-bottom:1px solid #bebebe;-moz-box-shadow:0 2px 4px rgba(0,0,0,.12);-o-box-shadow:0 2px 4px rgba(0,0,0,.12);-webkit-box-shadow:0 2px 4px rgba(0,0,0,.12);box-shadow:0 2px 4px rgba(0,0,0,.12);position:relative;z-index:1}#gbd4 .gbmh{margin:0}.gbmtc{padding:0;margin:0;line-height:27px}.GBMCC:last-child:after,#GBMPAL:last-child:after{content:'\\0A\\0A';white-space:pre;position:absolute}#gbmps{*zoom:1}#gbd4 .gbpc,#gbmpas .gbmt{line-height:17px}#gbd4 .gbpgs .gbmtc{line-height:27px}#gbd4 .gbmtc{border-bottom:1px solid #bebebe}#gbd4 .gbpc{display:inline-block;margin:16px 0 10px;padding-left:50px;vertical-align:top}#gbd4 .gbpc{*display:inline}.gbpc .gbps,.gbpc .gbps2{display:block;margin:0 20px}#gbmplp.gbps{margin:0 10px}.gbpc .gbps{color:#000;font-weight:bold}.gbpc .gbpd{margin-bottom:5px}.gbpd .gbmt,.gbpd .gbps{color:#666 !important}.gbpd .gbmt{opacity:.4;filter:alpha(opacity=40)}.gbps2{color:#666;display:block}.gbp0{display:none}.gbp0 .gbps2{font-weight:bold}#gbd4 .gbmcc{margin-top:5px}.gbpmc{background:#fef9db}.gbpmc .gbpmtc{padding:10px 20px}#gbpm{border:0;*border-collapse:collapse;border-spacing:0;margin:0;white-space:normal}#gbpm .gbpmtc{border-top:none;color:#000 !important;font:11px Arial,sans-serif}#gbpms{*white-space:nowrap}.gbpms2{font-weight:bold;white-space:nowrap}#gbmpal{*border-collapse:collapse;border-spacing:0;border:0;margin:0;white-space:nowrap;width:100%}.gbmpala,.gbmpalb{font:13px Arial,sans-serif;line-height:27px;padding:10px 20px 0;white-space:nowrap}.gbmpala{padding-right:0;text-align:right}.gbmpalb{padding-left:0;text-align:left}#gbmpasb .gbps{color:#000}#gbmpal .gbqfbb{margin:0 20px}.gbp0 .gbps{*display:inline}a.gbiba{margin:8px 20px 10px}.gbmpiaw{display:inline-block;padding-left:10px;margin-bottom:6px;margin-top:10px}.gbxv{visibility:hidden}.gbmpiaa{display:block;margin-top:10px}.gbmpia{border:none;display:block;height:48px;width:48px}.gbmpnw{display:inline-block;height:auto;margin:10px 0;vertical-align:top}\n",
      ".gbqfb,.gbqfba,.gbqfbb{-moz-border-radius:2px;-webkit-border-radius:2px;border-radius:2px;cursor:default !important;display:inline-block;font-weight:bold;height:29px;line-height:29px;min-width:54px;*min-width:70px;padding:0 8px;text-align:center;text-decoration:none !important;-moz-user-select:none;-webkit-user-select:none}.gbqfb:focus,.gbqfba:focus,.gbqfbb:focus{border:1px solid #4d90fe;-moz-box-shadow:inset 0 0 0 1px rgba(255, 255, 255, 0.5);-webkit-box-shadow:inset 0 0 0 1px rgba(255, 255, 255, 0.5);box-shadow:inset 0 0 0 1px rgba(255, 255, 255, 0.5);outline:none}.gbqfb-hvr:focus,.gbqfba-hvr:focus,.gbqfbb-hvr:focus{-webkit-box-shadow:inset 0 0 0 1px #fff,0 1px 1px rgba(0,0,0,.1);-moz-box-shadow:inset 0 0 0 1px #fff,0 1px 1px rgba(0,0,0,.1);box-shadow:inset 0 0 0 1px #fff,0 1px 1px rgba(0,0,0,.1)}.gbqfb-no-focus:focus{border:1px solid #3079ed;-moz-box-shadow:none;-webkit-box-shadow:none;box-shadow:none}.gbqfb-hvr,.gbqfba-hvr,.gbqfbb-hvr{-webkit-box-shadow:0 1px 1px rgba(0,0,0,.1);-moz-box-shadow:0 1px 1px rgba(0,0,0,.1);box-shadow:0 1px 1px rgba(0,0,0,.1)}.gbqfb::-moz-focus-inner,.gbqfba::-moz-focus-inner,.gbqfbb::-moz-focus-inner{border:0}.gbqfba,.gbqfbb{border:1px solid #dcdcdc;border-color:rgba(0,0,0,.1);color:#444 !important;font-size:11px}.gbqfb{background-color:#4d90fe;background-image:-webkit-gradient(linear,left top,left bottom,from(#4d90fe),to(#4787ed));background-image:-webkit-linear-gradient(top,#4d90fe,#4787ed);background-image:-moz-linear-gradient(top,#4d90fe,#4787ed);background-image:-ms-linear-gradient(top,#4d90fe,#4787ed);background-image:-o-linear-gradient(top,#4d90fe,#4787ed);background-image:linear-gradient(top,#4d90fe,#4787ed);filter:progid:DXImageTransform.Microsoft.gradient(startColorStr='#4d90fe',EndColorStr='#4787ed');border:1px solid #3079ed;color:#fff!important;margin:0 0}.gbqfb-hvr{border-color:#2f5bb7}.gbqfb-hvr:focus{border-color:#2f5bb7}.gbqfb-hvr,.gbqfb-hvr:focus{background-color:#357ae8;background-image:-webkit-gradient(linear,left top,left bottom,from(#4d90fe),to(#357ae8));background-image:-webkit-linear-gradient(top,#4d90fe,#357ae8);background-image:-moz-linear-gradient(top,#4d90fe,#357ae8);background-image:-ms-linear-gradient(top,#4d90fe,#357ae8);background-image:-o-linear-gradient(top,#4d90fe,#357ae8);background-image:linear-gradient(top,#4d90fe,#357ae8)}.gbqfb:active{background-color:inherit;-webkit-box-shadow:inset 0 1px 2px rgba(0, 0, 0, 0.3);-moz-box-shadow:inset 0 1px 2px rgba(0, 0, 0, 0.3);box-shadow:inset 0 1px 2px rgba(0, 0, 0, 0.3)}.gbqfba{background-color:#f5f5f5;background-image:-webkit-gradient(linear,left top,left bottom,from(#f5f5f5),to(#f1f1f1));background-image:-webkit-linear-gradient(top,#f5f5f5,#f1f1f1);background-image:-moz-linear-gradient(top,#f5f5f5,#f1f1f1);background-image:-ms-linear-gradient(top,#f5f5f5,#f1f1f1);background-image:-o-linear-gradient(top,#f5f5f5,#f1f1f1);background-image:linear-gradient(top,#f5f5f5,#f1f1f1);filter:progid:DXImageTransform.Microsoft.gradient(startColorStr='#f5f5f5',EndColorStr='#f1f1f1')}.gbqfba-hvr,.gbqfba-hvr:active{background-color:#f8f8f8;background-image:-webkit-gradient(linear,left top,left bottom,from(#f8f8f8),to(#f1f1f1));background-image:-webkit-linear-gradient(top,#f8f8f8,#f1f1f1);background-image:-moz-linear-gradient(top,#f8f8f8,#f1f1f1);background-image:-ms-linear-gradient(top,#f8f8f8,#f1f1f1);background-image:-o-linear-gradient(top,#f8f8f8,#f1f1f1);background-image:linear-gradient(top,#f8f8f8,#f1f1f1);filter:progid:DXImageTransform.Microsoft.gradient(startColorStr='#f8f8f8',EndColorStr='#f1f1f1')}.gbqfbb{background-color:#fff;background-image:-webkit-gradient(linear,left top,left bottom,from(#fff),to(#fbfbfb));background-image:-webkit-linear-gradient(top,#fff,#fbfbfb);background-image:-moz-linear-gradient(top,#fff,#fbfbfb);background-image:-ms-linear-gradient(top,#fff,#fbfbfb);background-image:-o-linear-gradient(top,#fff,#fbfbfb);background-image:linear-gradient(top,#fff,#fbfbfb);filter:progid:DXImageTransform.Microsoft.gradient(startColorStr='#ffffff',EndColorStr='#fbfbfb')}.gbqfbb-hvr,.gbqfbb-hvr:active{background-color:#fff;background-image:-webkit-gradient(linear,left top,left bottom,from(#fff),to(#f8f8f8));background-image:-webkit-linear-gradient(top,#fff,#f8f8f8);background-image:-moz-linear-gradient(top,#fff,#f8f8f8);background-image:-ms-linear-gradient(top,#fff,#f8f8f8);background-image:-o-linear-gradient(top,#fff,#f8f8f8);background-image:linear-gradient(top,#fff,#f8f8f8);filter:progid:DXImageTransform.Microsoft.gradient(startColorStr='#ffffff',EndColorStr='#f8f8f8')}.gbqfba-hvr,.gbqfba-hvr:active,.gbqfbb-hvr,.gbqfbb-hvr:active{border-color:#c6c6c6;-webkit-box-shadow:0 1px 1px rgba(0,0,0,.1);-moz-box-shadow:0 1px 1px rgba(0,0,0,.1);box-shadow:0 1px 1px rgba(0,0,0,.1);color:#222 !important}.gbqfba:active,.gbqfbb:active{-webkit-box-shadow:inset 0 1px 2px rgba(0,0,0,.1);-moz-box-shadow:inset 0 1px 2px rgba(0,0,0,.1);box-shadow:inset 0 1px 2px rgba(0,0,0,.1)}\n",
      "#gbmpas{max-height:220px}#gbmm{max-height:530px}.gbsb{-webkit-box-sizing:border-box;display:block;position:relative;*zoom:1}.gbsbic{overflow:auto}.gbsbis .gbsbt,.gbsbis .gbsbb{-webkit-mask-box-image:-webkit-gradient(linear,left top,right top,color-stop(0,rgba(0,0,0,.1)),color-stop(.5,rgba(0,0,0,.8)),color-stop(1,rgba(0,0,0,.1)));left:0;margin-right:0;opacity:0;position:absolute;width:100%}.gbsb .gbsbt:after,.gbsb .gbsbb:after{content:\"\";display:block;height:0;left:0;position:absolute;width:100%}.gbsbis .gbsbt{background:-webkit-gradient(linear,left top,left bottom,from(rgba(0,0,0,.2)),to(rgba(0,0,0,0)));background-image:-webkit-linear-gradient(top,rgba(0,0,0,.2),rgba(0,0,0,0));background-image:-moz-linear-gradient(top,rgba(0,0,0,.2),rgba(0,0,0,0));background-image:-ms-linear-gradient(top,rgba(0,0,0,.2),rgba(0,0,0,0));background-image:-o-linear-gradient(top,rgba(0,0,0,.2),rgba(0,0,0,0));background-image:linear-gradient(top,rgba(0,0,0,.2),rgba(0,0,0,0));height:6px;top:0}.gbsb .gbsbt:after{border-top:1px solid #ebebeb;border-color:rgba(0,0,0,.3);top:0}.gbsb .gbsbb{-webkit-mask-box-image:-webkit-gradient(linear,left top,right top,color-stop(0,rgba(0,0,0,.1)),color-stop(.5,rgba(0,0,0,.8)),color-stop(1,rgba(0,0,0,.1)));background:-webkit-gradient(linear,left bottom,left top,from(rgba(0,0,0,.2)),to(rgba(0,0,0,0)));background-image:-webkit-linear-gradient(bottom,rgba(0,0,0,.2),rgba(0,0,0,0));background-image:-moz-linear-gradient(bottom,rgba(0,0,0,.2),rgba(0,0,0,0));background-image:-ms-linear-gradient(bottom,rgba(0,0,0,.2),rgba(0,0,0,0));background-image:-o-linear-gradient(bottom,rgba(0,0,0,.2),rgba(0,0,0,0));background-image:linear-gradient(bottom,rgba(0,0,0,.2),rgba(0,0,0,0));bottom:0;height:4px}.gbsb .gbsbb:after{border-bottom:1px solid #ebebeb;border-color:rgba(0,0,0,.3);bottom:0}\n",
      "</style><style>body,td,a,p,.h{font-family:arial,sans-serif}body{margin:0;overflow-y:scroll}#gog{padding:3px 8px 0}td{line-height:.8em}.gac_m td{line-height:17px}form{margin-bottom:20px}.h{color:#1967d2}em{font-weight:bold;font-style:normal}.lst{height:25px;width:496px}.gsfi,.lst{font:18px arial,sans-serif}.gsfs{font:17px arial,sans-serif}.ds{display:inline-box;display:inline-block;margin:3px 0 4px;margin-right:4px}input{font-family:inherit}body{background:#fff;color:#000}a{color:#681da8;text-decoration:none}a:hover,a:active{text-decoration:underline}.fl a{color:#1967d2}a:visited{color:#681da8}.sblc{padding-top:5px}.sblc a{display:block;margin:2px 0;margin-right:13px;font-size:11px}.lsbb{background:#f8f9fa;border:solid 1px;border-color:#dadce0 #dadce0 #70757a #70757a;height:30px}.lsbb{display:block}#WqQANb a{display:inline-block;margin:0 12px}.lsb{background:url(/images/nav_logo229.png) 0 -261px repeat-x;color:#000;border:none;cursor:pointer;height:30px;margin:0;outline:0;font:15px arial,sans-serif;vertical-align:top}.lsb:active{background:#dadce0}.lst:focus{outline:none}.Ucigb{width:458px}</style><script nonce=\"Vqfgad9Tcmt49TBb7ZqOQw\">(function(){window.google.erd={jsr:1,bv:1919,de:true};\n",
      "var h=this||self;var k,l=null!=(k=h.mei)?k:1,n,p=null!=(n=h.sdo)?n:!0,q=0,r,t=google.erd,v=t.jsr;google.ml=function(a,b,d,m,e){e=void 0===e?2:e;b&&(r=a&&a.message);void 0===d&&(d={});d.cad=\"ple_\"+google.ple+\".aple_\"+google.aple;if(google.dl)return google.dl(a,e,d),null;if(0>v){window.console&&console.error(a,d);if(-2===v)throw a;b=!1}else b=!a||!a.message||\"Error loading script\"===a.message||q>=l&&!m?!1:!0;if(!b)return null;q++;d=d||{};b=encodeURIComponent;var c=\"/gen_204?atyp=i&ei=\"+b(google.kEI);google.kEXPI&&(c+=\"&jexpid=\"+b(google.kEXPI));c+=\"&srcpg=\"+b(google.sn)+\"&jsr=\"+b(t.jsr)+\"&bver=\"+\n",
      "b(t.bv);var f=a.lineNumber;void 0!==f&&(c+=\"&line=\"+f);var g=a.fileName;g&&(0<g.indexOf(\"-extension:/\")&&(e=3),c+=\"&script=\"+b(g),f&&g===window.location.href&&(f=document.documentElement.outerHTML.split(\"\\n\")[f],c+=\"&cad=\"+b(f?f.substring(0,300):\"No script found.\")));google.ple&&1===google.ple&&(e=2);c+=\"&jsel=\"+e;for(var u in d)c+=\"&\",c+=b(u),c+=\"=\",c+=b(d[u]);c=c+\"&emsg=\"+b(a.name+\": \"+a.message);c=c+\"&jsst=\"+b(a.stack||\"N/A\");12288<=c.length&&(c=c.substr(0,12288));a=c;m||google.log(0,\"\",a);return a};window.onerror=function(a,b,d,m,e){r!==a&&(a=e instanceof Error?e:Error(a),void 0===d||\"lineNumber\"in a||(a.lineNumber=d),void 0===b||\"fileName\"in a||(a.fileName=b),google.ml(a,!1,void 0,!1,\"SyntaxError\"===a.name||\"SyntaxError\"===a.message.substring(0,11)||-1!==a.message.indexOf(\"Script error\")?3:0));r=null;p&&q>=l&&(window.onerror=null)};})();(function(){try{/*\n",
      "\n",
      " Copyright The Closure Library Authors.\n",
      " SPDX-License-Identifier: Apache-2.0\n",
      "*/\n",
      "var e=this||self;var aa=function(a,b,c,d){d=d||{};d._sn=[\"cfg\",b,c].join(\".\");window.gbar.logger.ml(a,d)};var f=window.gbar=window.gbar||{},h=window.gbar.i=window.gbar.i||{},da;function _tvn(a,b){a=parseInt(a,10);return isNaN(a)?b:a}function _tvf(a,b){a=parseFloat(a);return isNaN(a)?b:a}function _tvv(a){return!!a}function n(a,b,c){(c||f)[a]=b}f.bv={n:_tvn(\"2\",0),r:\"\",f:\".66.\",e:\"\",m:_tvn(\"1\",1)};\n",
      "function ea(a,b,c){var d=\"on\"+b;if(a.addEventListener)a.addEventListener(b,c,!1);else if(a.attachEvent)a.attachEvent(d,c);else{var g=a[d];a[d]=function(){var k=g.apply(this,arguments),m=c.apply(this,arguments);return void 0==k?m:void 0==m?k:m&&k}}}var fa=function(a){return function(){return f.bv.m==a}},ha=fa(1),ia=fa(2);n(\"sb\",ha);n(\"kn\",ia);h.a=_tvv;h.b=_tvf;h.c=_tvn;h.i=aa;var q=window.gbar.i.i;var r=function(){},u=function(){},la=function(a){var b=new Image,c=ja;b.onerror=b.onload=b.onabort=function(){try{delete ka[c]}catch(d){}};ka[c]=b;b.src=a;ja=c+1},ka=[],ja=0;n(\"logger\",{il:u,ml:r,log:la});var v=window.gbar.logger;var w={},x={createScript:function(a){return a}};x=self.trustedTypes&&self.trustedTypes.createPolicy?self.trustedTypes.createPolicy(\"ogb#inline\",x):x;\n",
      "var ma={},y=[],na=h.b(\"0.1\",.1),oa=h.a(\"1\",!0),pa=function(a,b){y.push([a,b])},qa=function(a,b){w[a]=b},ra=function(a){return a in w},z={},A=function(a,b){z[a]||(z[a]=[]);z[a].push(b)},B=function(a){A(\"m\",a)},C=function(a,b){var c=document.createElement(\"script\");c.src=x.createScript(a);c.async=oa;Math.random()<na&&(c.onerror=function(){c.onerror=null;r(Error(\"Bundle load failed: name=\"+(b||\"UNK\")+\" url=\"+a))});(document.getElementById(\"xjsc\")||\n",
      "document.getElementsByTagName(\"body\")[0]||document.getElementsByTagName(\"head\")[0]).appendChild(c)},F=function(a){for(var b,c=0;(b=y[c])&&b[0]!=a;++c);!b||b[1].l||b[1].s||(b[1].s=!0,D(2,a),b[1].url&&C(b[1].url,a),b[1].libs&&E&&E(b[1].libs))},sa=function(a){A(\"gc\",a)},G=null,ta=function(a){G=a},D=function(a,b,c){if(G){a={t:a,b:b};if(c)for(var d in c)a[d]=c[d];try{G(a)}catch(g){}}};n(\"mdc\",w);n(\"mdi\",ma);n(\"bnc\",y);n(\"qGC\",sa);n(\"qm\",B);n(\"qd\",z);n(\"lb\",F);n(\"mcf\",qa);n(\"bcf\",pa);n(\"aq\",A);\n",
      "n(\"mdd\",\"\");n(\"has\",ra);n(\"trh\",ta);n(\"tev\",D);if(h.a(\"m;/_/scs/abc-static/_/js/k=gapi.gapi.en.q86ihocu0HA.O/d=1/rs=AHpOoo9gC2cqySYcBh8kT9LMyuiwdwIYGQ/m=__features__\")){var H=function(a,b){return ua?a||b:b},I=h.a(\"1\"),va=h.a(\"\"),wa=h.a(\"\"),ua=h.a(\"\"),J=window.gapi=H(window.gapi,{}),K=function(a,b){var c=function(){f.dgl(a,b)};I?B(c):(A(\"gl\",c),F(\"gl\"))},xa={},ya=function(a){a=a.split(\":\");for(var b;(b=a.pop())&&xa[b];);return!b},E=function(a){function b(){for(var c=a.split(\":\"),d,g=0;d=c[g];++g)xa[d]=1;for(c=0;d=y[c];++c)d=d[1],(g=d.libs)&&!d.l&&d.i&&ya(g)&&\n",
      "d.i()}f.dgl(a,b)},L=window.___jsl=H(window.___jsl,{});L.h=H(L.h,\"m;/_/scs/abc-static/_/js/k=gapi.gapi.en.q86ihocu0HA.O/d=1/rs=AHpOoo9gC2cqySYcBh8kT9LMyuiwdwIYGQ/m=__features__\");L.ms=H(L.ms,\"https://apis.google.com\");L.m=H(L.m,\"\");L.l=H(L.l,[]);L.dpo=H(L.dpo,\"\");I||y.push([\"gl\",{url:\"//ssl.gstatic.com/gb/js/abc/glm_e7bb39a7e1a24581ff4f8d199678b1b9.js\"}]);var za=\"gl\",Aa={pu:va,sh:\"\",si:wa,hl:\"ar\"};w[za]=Aa;ua?J.load||n(\"load\",K,J):n(\"load\",K,J);n(\"dgl\",K);n(\"agl\",ya);h.o=I};var Ba=h.b(\"0.1\",.001),Ca=0;\n",
      "function _mlToken(a,b){try{if(1>Ca){Ca++;var c=a;b=b||{};var d=encodeURIComponent,g=[\"//www.google.com/gen_204?atyp=i&zx=\",(new Date).getTime(),\"&jexpid=\",d(\"28834\"),\"&srcpg=\",d(\"prop=1\"),\"&jsr=\",Math.round(1/Ba),\"&ogev=\",d(\"CPyDZZOeB6bHhbIPluic4AI\"),\"&ogf=\",f.bv.f,\"&ogrp=\",d(\"\"),\"&ogv=\",d(\"591754533.0\"),\"&oggv=\"+d(\"es_plusone_gc_20231031.0_p2\"),\"&ogd=\",d(\"com\"),\"&ogc=\",d(\"LBN\"),\"&ogl=\",d(\"ar\")];b._sn&&(b._sn=\n",
      "\"og.\"+b._sn);for(var k in b)g.push(\"&\"),g.push(d(k)),g.push(\"=\"),g.push(d(b[k]));g.push(\"&emsg=\");g.push(d(c.name+\":\"+c.message));var m=g.join(\"\");Ga(m)&&(m=m.substr(0,2E3));var p=m;var l=window.gbar.logger._aem(a,p);la(l)}}catch(t){}}var Ga=function(a){return 2E3<=a.length},Ja=function(a,b){return b};function Ka(a){r=a;n(\"_itl\",Ga,v);n(\"_aem\",Ja,v);n(\"ml\",r,v);a=\"er\";var b={};w[a]=b}h.a(\"\")?Ka(function(a){throw a;}):h.a(\"1\")&&Math.random()<Ba&&Ka(_mlToken);var _E=\"right\",La=h.a(\"\"),Ma=h.a(\"\"),N=function(a,b){var c=a.className;M(a,b)||(a.className+=(\"\"!=c?\" \":\"\")+b)},O=function(a,b){var c=a.className;b=new RegExp(\"\\\\s?\\\\b\"+b+\"\\\\b\");c&&c.match(b)&&(a.className=c.replace(b,\"\"))},M=function(a,b){b=new RegExp(\"\\\\b\"+b+\"\\\\b\");a=a.className;return!(!a||!a.match(b))},Na=function(a,b){M(a,b)?O(a,b):N(a,b)},Oa=function(a,b){a[b]=function(c){var d=arguments;f.qm(function(){a[b].apply(this,d)})}},Pa=function(a){a=\n",
      "[Ma?\"\":\"https://www.gstatic.com\",\"/og/_/js/d=1/k=\",\"og.og.en_US.QyC5j4_7WQo.es5.O\",\"/rt=j/m=\",a,\"/rs=\",\"AA2YrTvL01Kts_JbAVgbJav3k0k6ByYaNA\"];La&&a.push(\"?host=www.gstatic.com&bust=og.og.en_US.RNyV_MhQ5-U.es5.DU\");a=a.join(\"\");C(a)};n(\"ca\",N);n(\"cr\",O);n(\"cc\",M);h.k=N;h.l=O;h.m=M;h.n=Na;h.p=Pa;h.q=Oa;var Qa=[\"gb_71\",\"gb_155\"],Ra;function Sa(a){Ra=a}function Ta(a){var b=Ra&&!a.href.match(/.*\\/accounts\\/ClearSID[?]/)&&encodeURIComponent(Ra());b&&(a.href=a.href.replace(/([?&]continue=)[^&]*/,\"$1\"+b))}function Ua(a){window.gApplication&&(a.href=window.gApplication.getTabUrl(a.href))}function Va(a){try{var b=(document.forms[0].q||\"\").value;b&&(a.href=a.href.replace(/([?&])q=[^&]*|$/,function(c,d){return(d||\"&\")+\"q=\"+encodeURIComponent(b)}))}catch(c){q(c,\"sb\",\"pq\")}}\n",
      "var Wa=function(){for(var a=[],b,c=0;b=Qa[c];++c)(b=document.getElementById(b))&&a.push(b);return a},Xa=function(){var a=Wa();return 0<a.length?a[0]:null},Ya=function(){return document.getElementById(\"gb_70\")},P={},Q={},Za={},R={},S=void 0,db=function(a,b){try{var c=document.getElementById(\"gb\");N(c,\"gbpdjs\");T();$a(document.getElementById(\"gb\"))&&N(c,\"gbrtl\");if(b&&b.getAttribute){var d=b.getAttribute(\"aria-owns\");if(d.length){var g=document.getElementById(d);if(g){var k=b.parentNode;if(S==d)S=void 0,\n",
      "O(k,\"gbto\");else{if(S){var m=document.getElementById(S);if(m&&m.getAttribute){var p=m.getAttribute(\"aria-owner\");if(p.length){var l=document.getElementById(p);l&&l.parentNode&&O(l.parentNode,\"gbto\")}}}ab(g)&&bb(g);S=d;N(k,\"gbto\")}}}}B(function(){f.tg(a,b,!0)});cb(a)}catch(t){q(t,\"sb\",\"tg\")}},eb=function(a){B(function(){f.close(a)})},fb=function(a){B(function(){f.rdd(a)})},$a=function(a){var b,c=document.defaultView;c&&c.getComputedStyle?(a=c.getComputedStyle(a,\"\"))&&(b=a.direction):b=a.currentStyle?\n",
      "a.currentStyle.direction:a.style.direction;return\"rtl\"==b},hb=function(a,b,c){if(a)try{var d=document.getElementById(\"gbd5\");if(d){var g=d.firstChild,k=g.firstChild,m=document.createElement(\"li\");m.className=b+\" gbmtc\";m.id=c;a.className=\"gbmt\";m.appendChild(a);if(k.hasChildNodes()){c=[[\"gbkc\"],[\"gbf\",\"gbe\",\"gbn\"],[\"gbkp\"],[\"gbnd\"]];d=0;var p=k.childNodes.length;g=!1;for(var l=-1,t,Da=0;t=c[Da];Da++){for(var ba=void 0,Ea=0;ba=t[Ea];Ea++){for(;d<p&&M(k.childNodes[d],ba);)d++;if(ba==b){k.insertBefore(m,\n",
      "k.childNodes[d]||null);g=!0;break}}if(g){if(d+1<k.childNodes.length){var Fa=k.childNodes[d+1];M(Fa.firstChild,\"gbmh\")||gb(Fa,t)||(l=d+1)}else if(0<=d-1){var Ha=k.childNodes[d-1];M(Ha.firstChild,\"gbmh\")||gb(Ha,t)||(l=d)}break}0<d&&d+1<p&&d++}if(0<=l){var ca=document.createElement(\"li\"),Ia=document.createElement(\"div\");ca.className=\"gbmtc\";Ia.className=\"gbmt gbmh\";ca.appendChild(Ia);k.insertBefore(ca,k.childNodes[l])}f.addHover&&f.addHover(a)}else k.appendChild(m)}}catch(vb){q(vb,\"sb\",\"al\")}},gb=function(a,\n",
      "b){for(var c=b.length,d=0;d<c;d++)if(M(a,b[d]))return!0;return!1},ib=function(a,b,c){hb(a,b,c)},jb=function(a,b){hb(a,\"gbe\",b)},kb=function(){B(function(){f.pcm&&f.pcm()})},lb=function(){B(function(){f.pca&&f.pca()})},mb=function(a,b,c,d,g,k,m,p,l,t){B(function(){f.paa&&f.paa(a,b,c,d,g,k,m,p,l,t)})},nb=function(a,b){P[a]||(P[a]=[]);P[a].push(b)},ob=function(a,b){Q[a]||(Q[a]=[]);Q[a].push(b)},pb=function(a,b){Za[a]=b},qb=function(a,b){R[a]||(R[a]=[]);R[a].push(b)},cb=function(a){a.preventDefault&&\n",
      "a.preventDefault();a.returnValue=!1;a.cancelBubble=!0},rb=null,bb=function(a,b){T();if(a){sb(a,\"&#1580;&#1575;&#1585;&#1613; &#1575;&#1604;&#1601;&#1578;&#1581;&hellip;\");U(a,!0);b=\"undefined\"!=typeof b?b:1E4;var c=function(){tb(a)};rb=window.setTimeout(c,b)}},ub=function(a){T();a&&(U(a,!1),sb(a,\"\"))},tb=function(a){try{T();var b=a||document.getElementById(S);b&&(sb(b,\"&#1607;&#1584;&#1607; &#1575;&#1604;&#1582;&#1583;&#1605;&#1577; &#1594;&#1610;&#1585; &#1605;&#1578;&#1608;&#1601;&#1585;&#1577; &#1601;&#1610; &#1575;&#1604;&#1608;&#1602;&#1578; &#1575;&#1604;&#1581;&#1575;&#1604;&#1610;.%1$s&#1610;&#1615;&#1585;&#1580;&#1609; &#1573;&#1593;&#1575;&#1583;&#1577; &#1575;&#1604;&#1605;&#1581;&#1575;&#1608;&#1604;&#1577; &#1604;&#1575;&#1581;&#1602;&#1611;&#1575;.\",\"%1$s\"),U(b,!0))}catch(c){q(c,\"sb\",\"sdhe\")}},sb=function(a,b,c){if(a&&b){var d=ab(a);if(d){if(c){d.textContent=\"\";b=b.split(c);for(var g=0;c=\n",
      "b[g];g++){var k=document.createElement(\"div\");k.innerHTML=c;d.appendChild(k)}}else d.innerHTML=b;U(a,!0)}}},U=function(a,b){(b=void 0!==b?b:!0)?N(a,\"gbmsgo\"):O(a,\"gbmsgo\")},ab=function(a){for(var b,c=0;b=a.childNodes[c];c++)if(M(b,\"gbmsg\"))return b},T=function(){rb&&window.clearTimeout(rb)},wb=function(a){var b=\"inner\"+a;a=\"offset\"+a;return window[b]?window[b]:document.documentElement&&document.documentElement[a]?document.documentElement[a]:0},xb=function(){return!1},yb=function(){return!!S};\n",
      "n(\"so\",Xa);n(\"sos\",Wa);n(\"si\",Ya);n(\"tg\",db);n(\"close\",eb);n(\"rdd\",fb);n(\"addLink\",ib);n(\"addExtraLink\",jb);n(\"pcm\",kb);n(\"pca\",lb);n(\"paa\",mb);n(\"ddld\",bb);n(\"ddrd\",ub);n(\"dderr\",tb);n(\"rtl\",$a);n(\"op\",yb);n(\"bh\",P);n(\"abh\",nb);n(\"dh\",Q);n(\"adh\",ob);n(\"ch\",R);n(\"ach\",qb);n(\"eh\",Za);n(\"aeh\",pb);da=h.a(\"\")?Ua:Va;n(\"qs\",da);n(\"setContinueCb\",Sa);n(\"pc\",Ta);n(\"bsy\",xb);h.d=cb;h.j=wb;var zb=\"base\",Ab={};w[zb]=Ab;y.push([\"m\",{url:\"//ssl.gstatic.com/gb/js/sem_5e6825101553e9529a89dc6f94e6d1c6.js\"}]);f.sg={c:\"1\"};n(\"wg\",{rg:{}});var Bb=\"wg\",Cb={tiw:h.c(\"15000\",0),tie:h.c(\"30000\",0)};w[Bb]=Cb;var Db=\"wm\",Eb={thi:h.c(\"10000\",0),thp:h.c(\"180000\",0),tho:h.c(\"5000\",0),tet:h.b(\"0.5\",0)};w[Db]=Eb;if(h.a(\"1\")){var Fb=h.a(\"\");y.push([\"gc\",{auto:Fb,url:\"//ssl.gstatic.com/gb/js/abc/gci_91f30755d6a6b787dcc2a4062e6e9824.js\",libs:\"googleapis.client:gapi.iframes\"}]);var Gb=\"gc\",Hb={version:\"gci_91f30755d6a6b787dcc2a4062e6e9824.js\",index:\"\",lang:\"ar\"};w[Gb]=Hb;var Ib=function(a){window.googleapis&&window.iframes?a&&a():(a&&sa(a),F(\"gc\"))};n(\"lGC\",Ib);h.a(\"1\")&&n(\"lPWF\",Ib)};window.__PVT=\"\";function Jb(){}u=Jb;n(\"il\",u,v);var Kb=\"il\",Lb={};w[Kb]=Lb;var Mb=function(a,b,c,d,g,k,m,p,l,t){B(function(){f.paa(a,b,c,d,g,k,m,p,l,t)})},Nb=function(){B(function(){f.prm()})},Ob=function(a){B(function(){f.spn(a)})},Pb=function(a){B(function(){f.sps(a)})},Qb=function(a){B(function(){f.spp(a)})},Rb={\"27\":\"https://lh3.googleusercontent.com/ogw/default-user=s24\",\"27\":\"https://lh3.googleusercontent.com/ogw/default-user=s24\",\"27\":\"https://lh3.googleusercontent.com/ogw/default-user=s24\"},Sb=function(a){return(a=Rb[a])||\"https://lh3.googleusercontent.com/ogw/default-user=s24\"},\n",
      "Tb=function(){B(function(){f.spd()})};n(\"spn\",Ob);n(\"spp\",Qb);n(\"sps\",Pb);n(\"spd\",Tb);n(\"paa\",Mb);n(\"prm\",Nb);nb(\"gbd4\",Nb);\n",
      "if(h.a(\"\")){var Ub=\"prf\",Vb={d:h.a(\"\"),e:\"\",sanw:h.a(\"\"),p:\"https://lh3.googleusercontent.com/ogw/default-user=s96\",cp:\"1\",xp:h.a(\"1\"),mg:\"%1$s (&#1605;&#1601;&#1608;&#1590;)\",md:\"%1$s (&#1578;&#1604;&#1602;&#1575;&#1574;&#1610;)\",mh:\"220\",s:\"1\",pp:Sb,ppl:h.a(\"\"),ppa:h.a(\"\"),\n",
      "ppm:\"&#1589;&#1601;&#1581;&#1577; Google+\"};w[Ub]=Vb};var V,Wb,W,Xb,X=0,Yb=function(a,b,c){if(a.indexOf)return a.indexOf(b,c);if(Array.indexOf)return Array.indexOf(a,b,c);for(c=null==c?0:0>c?Math.max(0,a.length+c):c;c<a.length;c++)if(c in a&&a[c]===b)return c;return-1},Y=function(a,b){return-1==Yb(a,X)?(q(Error(X+\"_\"+b),\"up\",\"caa\"),!1):!0},$b=function(a,b){Y([1,2],\"r\")&&(V[a]=V[a]||[],V[a].push(b),2==X&&window.setTimeout(function(){b(Zb(a))},0))},ac=function(a,b,c){if(Y([1],\"nap\")&&c){for(var d=0;d<c.length;d++)Wb[c[d]]=!0;f.up.spl(a,b,\"nap\",c)}},bc=\n",
      "function(a,b,c){if(Y([1],\"aop\")&&c){if(W)for(var d in W)W[d]=W[d]&&-1!=Yb(c,d);else for(W={},d=0;d<c.length;d++)W[c[d]]=!0;f.up.spl(a,b,\"aop\",c)}},cc=function(){try{if(X=2,!Xb){Xb=!0;for(var a in V)for(var b=V[a],c=0;c<b.length;c++)try{b[c](Zb(a))}catch(d){q(d,\"up\",\"tp\")}}}catch(d){q(d,\"up\",\"mtp\")}},Zb=function(a){if(Y([2],\"ssp\")){var b=!Wb[a];W&&(b=b&&!!W[a]);return b}};Xb=!1;V={};Wb={};W=null;X=1;\n",
      "var dc=function(a){var b=!1;try{b=a.cookie&&a.cookie.match(\"PREF\")}catch(c){}return!b},ec=function(){try{return!!e.localStorage&&\"object\"==typeof e.localStorage}catch(a){return!1}},fc=function(a){return a&&a.style&&a.style.behavior&&\"undefined\"!=typeof a.load},gc=function(a,b,c,d){try{dc(document)||(d||(b=\"og-up-\"+b),ec()?e.localStorage.setItem(b,c):fc(a)&&(a.setAttribute(b,c),a.save(a.id)))}catch(g){g.code!=DOMException.QUOTA_EXCEEDED_ERR&&q(g,\"up\",\"spd\")}},hc=function(a,b,c){try{if(dc(document))return\"\";\n",
      "c||(b=\"og-up-\"+b);if(ec())return e.localStorage.getItem(b);if(fc(a))return a.load(a.id),a.getAttribute(b)}catch(d){d.code!=DOMException.QUOTA_EXCEEDED_ERR&&q(d,\"up\",\"gpd\")}return\"\"},ic=function(a,b,c){a.addEventListener?a.addEventListener(b,c,!1):a.attachEvent&&a.attachEvent(\"on\"+b,c)},jc=function(a){for(var b,c=0;b=a[c];c++){var d=f.up;b=b in d&&d[b];if(!b)return!1}return!0},kc=function(a,b){try{if(dc(a))return-1;var c=a.cookie.match(/OGPC=([^;]*)/);if(c&&c[1]){var d=c[1].match(new RegExp(\"\\\\b\"+\n",
      "b+\"-([0-9]+):\"));if(d&&d[1])return parseInt(d[1],10)}}catch(g){g.code!=DOMException.QUOTA_EXCEEDED_ERR&&q(g,\"up\",\"gcc\")}return-1};n(\"up\",{r:$b,nap:ac,aop:bc,tp:cc,ssp:Zb,spd:gc,gpd:hc,aeh:ic,aal:jc,gcc:kc});var Z=function(a,b){a[b]=function(c){var d=arguments;f.qm(function(){a[b].apply(this,d)})}};Z(f.up,\"sl\");Z(f.up,\"si\");Z(f.up,\"spl\");Z(f.up,\"dpc\");Z(f.up,\"iic\");f.mcf(\"up\",{sp:h.b(\"0.01\",1),tld:\"com.lb\",prid:\"1\"});function lc(){function a(){for(var l;(l=k[m++])&&\"m\"!=l[0]&&!l[1].auto;);l&&(D(2,l[0]),l[1].url&&C(l[1].url,l[0]),l[1].libs&&E&&E(l[1].libs));m<k.length&&setTimeout(a,0)}function b(){0<g--?setTimeout(b,0):a()}var c=h.a(\"1\"),d=h.a(\"\"),g=3,k=y,m=0,p=window.gbarOnReady;if(p)try{p()}catch(l){q(l,\"ml\",\"or\")}d?n(\"ldb\",a):c?ea(window,\"load\",b):b()}n(\"rdl\",lc);}catch(e){window.gbar&&gbar.logger&&gbar.logger.ml(e,{\"_sn\":\"cfg.init\"});}})();\n",
      "(function(){try{var b=window.gbar.i.i;var c=window.gbar;var f=function(d){try{var a=document.getElementById(\"gbom\");a&&d.appendChild(a.cloneNode(!0))}catch(e){b(e,\"omas\",\"aomc\")}};c.aomc=f;}catch(e){window.gbar&&gbar.logger&&gbar.logger.ml(e,{\"_sn\":\"cfg.init\"});}})();\n",
      "(function(){try{var a=window.gbar;a.mcf(\"pm\",{p:\"\"});}catch(e){window.gbar&&gbar.logger&&gbar.logger.ml(e,{\"_sn\":\"cfg.init\"});}})();\n",
      "(function(){try{var a=window.gbar;a.mcf(\"mm\",{s:\"1\"});}catch(e){window.gbar&&gbar.logger&&gbar.logger.ml(e,{\"_sn\":\"cfg.init\"});}})();\n",
      "(function(){try{var d=window.gbar.i.i;var e=window.gbar;var f=e.i;var g=f.c(\"1\",0),h=/\\bgbmt\\b/,k=function(a){try{var b=document.getElementById(\"gb_\"+g),c=document.getElementById(\"gb_\"+a);b&&f.l(b,h.test(b.className)?\"gbm0l\":\"gbz0l\");c&&f.k(c,h.test(c.className)?\"gbm0l\":\"gbz0l\")}catch(l){d(l,\"sj\",\"ssp\")}g=a},m=e.qs,n=function(a){var b=a.href;var c=window.location.href.match(/.*?:\\/\\/[^\\/]*/)[0];c=new RegExp(\"^\"+c+\"/search\\\\?\");(b=c.test(b))&&!/(^|\\\\?|&)ei=/.test(a.href)&&(b=window.google)&&b.kEXPI&&(a.href+=\"&ei=\"+b.kEI)},p=function(a){m(a);\n",
      "n(a)},q=function(){if(window.google&&window.google.sn){var a=/.*hp$/;return a.test(window.google.sn)?\"\":\"1\"}return\"-1\"};e.rp=q;e.slp=k;e.qs=p;e.qsi=n;}catch(e){window.gbar&&gbar.logger&&gbar.logger.ml(e,{\"_sn\":\"cfg.init\"});}})();\n",
      "(function(){try{/*\n",
      "\n",
      " Copyright The Closure Library Authors.\n",
      " SPDX-License-Identifier: Apache-2.0\n",
      "*/\n",
      "var a=this||self;var b=window.gbar;var c=b.i;var d=c.a,e=c.c,f={cty:\"LBN\",cv:\"591754533\",dbg:d(\"\"),ecv:\"0\",ei:e(\"CPyDZZOeB6bHhbIPluic4AI\"),ele:d(\"1\"),esr:e(\"0.1\"),evts:[\"mousedown\",\"touchstart\",\"touchmove\",\"wheel\",\"keydown\"],gbl:\"es_plusone_gc_20231031.0_p2\",hd:\"com\",hl:\"ar\",irp:d(\"\"),pid:e(\"1\"),\n",
      "snid:e(\"28834\"),to:e(\"300000\"),u:e(\"\"),vf:\".66.\"},g=\"bndcfg\",h=f,k=g.split(\".\"),l=a;k[0]in l||\"undefined\"==typeof l.execScript||l.execScript(\"var \"+k[0]);for(var m;k.length&&(m=k.shift());)k.length||void 0===h?l=l[m]&&l[m]!==Object.prototype[m]?l[m]:l[m]={}:l[m]=h;}catch(e){window.gbar&&gbar.logger&&gbar.logger.ml(e,{\"_sn\":\"cfg.init\"});}})();\n",
      "(function(){try{window.gbar.rdl();}catch(e){window.gbar&&gbar.logger&&gbar.logger.ml(e,{\"_sn\":\"cfg.init\"});}})();\n",
      "</script></head><body bgcolor=\"#fff\"><script nonce=\"Vqfgad9Tcmt49TBb7ZqOQw\">(function(){var src='/images/nav_logo229.png';var iesg=false;document.body.onload = function(){window.n && window.n();if (document.images){new Image().src=src;}\n",
      "if (!iesg){document.f&&document.f.q.focus();document.gbqf&&document.gbqf.q.focus();}\n",
      "}\n",
      "})();</script><div id=\"mngb\"><div id=gb dir=rtl class=\"gbrtl\"><script nonce='Vqfgad9Tcmt49TBb7ZqOQw'>window.gbar&&gbar.eli&&gbar.eli()</script><div id=gbw><div id=gbz><span class=gbtcb></span><ol id=gbzc class=gbtc><li class=gbt><a class=\"gbzt gbz0l gbp1\" id=gb_1 href=\"https://www.google.com.lb/webhp?tab=ww\"><span class=gbtb2></span><span class=gbts>&#1576;&#1581;&#1579;</span></a></li><li class=gbt><a class=gbzt id=gb_2 href=\"https://www.google.com/imghp?hl=ar&tab=wi\"><span class=gbtb2></span><span class=gbts>&#1589;&#1608;&#1585;</span></a></li><li class=gbt><a class=gbzt id=gb_8 href=\"https://maps.google.com.lb/maps?hl=ar&tab=wl\"><span class=gbtb2></span><span class=gbts>&#1582;&#1585;&#1575;&#1574;&#1591; Google</span></a></li><li class=gbt><a class=gbzt id=gb_78 href=\"https://play.google.com/?hl=ar&tab=w8\"><span class=gbtb2></span><span class=gbts>Play</span></a></li><li class=gbt><a class=gbzt id=gb_36 href=\"https://www.youtube.com/?tab=w1\"><span class=gbtb2></span><span class=gbts>YouTube</span></a></li><li class=gbt><a class=gbzt id=gb_426 href=\"https://news.google.com/?tab=wn\"><span class=gbtb2></span><span class=gbts>&#1575;&#1604;&#1571;&#1582;&#1576;&#1575;&#1585;</span></a></li><li class=gbt><a class=gbzt id=gb_23 href=\"https://mail.google.com/mail/?tab=wm\"><span class=gbtb2></span><span class=gbts>Gmail</span></a></li><li class=gbt><a class=gbzt id=gb_49 href=\"https://drive.google.com/?tab=wo\"><span class=gbtb2></span><span class=gbts>Drive</span></a></li><li class=gbt><a class=gbgt id=gbztm href=\"https://www.google.com.lb/intl/ar/about/products?tab=wh\"  aria-haspopup=true aria-owns=gbd><span class=gbtb2></span><span id=gbztms class=\"gbts gbtsa\"><span id=gbztms1>&#1575;&#1604;&#1605;&#1586;&#1610;&#1583;</span><span class=gbma></span></span></a><script nonce='Vqfgad9Tcmt49TBb7ZqOQw'>document.getElementById('gbztm').addEventListener('click', function clickHandler() { gbar.tg(event,this); });</script><div class=gbm id=gbd aria-owner=gbztm><div id=gbmmb class=\"gbmc gbsb gbsbis\"><ol id=gbmm class=\"gbmcc gbsbic\"><li class=gbmtc><a class=gbmt id=gb_24 href=\"https://calendar.google.com/calendar?tab=wc\">&#1578;&#1602;&#1608;&#1610;&#1605;</a></li><li class=gbmtc><a class=gbmt id=gb_51 href=\"https://translate.google.com.lb/?hl=ar&tab=wT\">&#1578;&#1585;&#1580;&#1605;&#1577;</a></li><li class=gbmtc><a class=gbmt id=gb_10 href=\"https://books.google.com.lb/?hl=ar&tab=wp\">&#1575;&#1604;&#1603;&#1578;&#1576;</a></li><li class=gbmtc><a class=gbmt id=gb_6 href=\"https://www.google.com.lb/shopping?hl=ar&source=og&tab=wf\">&#1575;&#1604;&#1578;&#1587;&#1608;&#1617;&#1602;</a></li><li class=gbmtc><a class=gbmt id=gb_30 href=\"https://www.blogger.com/?tab=wj\">Blogger</a></li><li class=gbmtc><a class=gbmt id=gb_27 href=\"https://www.google.com/finance?tab=we\">&#1575;&#1604;&#1571;&#1605;&#1608;&#1575;&#1604;</a></li><li class=gbmtc><a class=gbmt id=gb_31 href=\"https://photos.google.com/?tab=wq&pageId=none\">&#1575;&#1604;&#1589;&#1608;&#1585;</a></li><li class=gbmtc><a class=gbmt id=gb_25 href=\"https://docs.google.com/document/?usp=docs_alc\">&#1605;&#1587;&#1578;&#1606;&#1583;&#1575;&#1578;</a></li><li class=gbmtc><div class=\"gbmt gbmh\"></div></li><li class=gbmtc><a  href=\"https://www.google.com.lb/intl/ar/about/products?tab=wh\" class=gbmt>&#1575;&#1604;&#1605;&#1586;&#1610;&#1583; &#1571;&#1610;&#1590;&#1611;&#1575; &raquo;</a><script nonce='Vqfgad9Tcmt49TBb7ZqOQw'>document.querySelector('li > a.gbmt').addEventListener('click', function clickHandler() { gbar.logger.il(1,{t:66});; });</script></li></ol><div class=gbsbt></div><div class=gbsbb></div></div></div></li></ol></div><div id=gbg><h2 class=gbxx>Account Options</h2><span class=gbtcb></span><ol class=gbtc><li class=gbt><a target=_top href=\"https://accounts.google.com/ServiceLogin?hl=ar&passive=true&continue=https://www.google.com/&ec=GAZAAQ\" onclick=\"gbar.logger.il(9,{l:'i'})\" id=gb_70 class=gbgt><span class=gbtb2></span><span id=gbgs4 class=gbts><span id=gbi4s1>&#1578;&#1587;&#1580;&#1610;&#1604; &#1575;&#1604;&#1583;&#1582;&#1608;&#1604;</span></span></a></li><li class=\"gbt gbtb\"><span class=gbts></span></li><li class=gbt><a class=gbgt id=gbg5 href=\"http://www.google.com.lb/preferences?hl=ar\" title=\"&#1582;&#1610;&#1575;&#1585;&#1575;&#1578;\" aria-haspopup=true aria-owns=gbd5><span class=gbtb2></span><span id=gbgs5 class=gbts><span id=gbi5></span></span></a><script nonce='Vqfgad9Tcmt49TBb7ZqOQw'>document.getElementById('gbg5').addEventListener('click', function clickHandler() { gbar.tg(event,this); });</script><div class=gbm id=gbd5 aria-owner=gbg5><div class=gbmc><ol id=gbom class=gbmcc><li class=\"gbkc gbmtc\"><a  class=gbmt href=\"/preferences?hl=ar\">&#1573;&#1593;&#1583;&#1575;&#1583;&#1575;&#1578; &#1575;&#1604;&#1576;&#1581;&#1579;</a></li><li class=gbmtc><div class=\"gbmt gbmh\"></div></li><li class=\"gbkp gbmtc\"><a class=gbmt href=\"http://www.google.com.lb/history/optout?hl=ar\">&#1587;&#1616;&#1580;&#1604; &#1576;&#1581;&#1579; &#1575;&#1604;&#1608;&#1610;&#1576;</a></li></ol></div></div></li></ol></div></div><div id=gbx3></div><div id=gbx4></div><script nonce='Vqfgad9Tcmt49TBb7ZqOQw'>window.gbar&&gbar.elp&&gbar.elp()</script></div></div><center><br clear=\"all\" id=\"lgpd\"><div id=\"lga\"><img alt=\"Google\" height=\"92\" src=\"/images/branding/googlelogo/1x/googlelogo_white_background_color_272x92dp.png\" style=\"padding:28px 0 14px\" width=\"272\" id=\"hplogo\"><br><br></div><form action=\"/search\" name=\"f\"><table cellpadding=\"0\" cellspacing=\"0\"><tr valign=\"top\"><td width=\"25%\">&nbsp;</td><td align=\"center\" nowrap=\"\"><input name=\"ie\" value=\"ISO-8859-1\" type=\"hidden\"><input value=\"ar-LB\" name=\"hl\" type=\"hidden\"><input name=\"source\" type=\"hidden\" value=\"hp\"><input name=\"biw\" type=\"hidden\"><input name=\"bih\" type=\"hidden\"><div class=\"ds\" style=\"height:32px;margin:4px 0\"><div style=\"position:relative;zoom:1\"><input class=\"lst Ucigb\" style=\"margin:0;padding:5px 6px 0 8px;vertical-align:top;color:#000;padding-left:38px\" autocomplete=\"off\" value=\"\" title=\"&#1576;&#1581;&#1579; Google\" maxlength=\"2048\" name=\"q\" size=\"57\"><img src=\"/textinputassistant/tia.png\" style=\"position:absolute;cursor:pointer;left:5px;top:4px;z-index:300\" data-script-url=\"/textinputassistant/13/ar_tia.js\" id=\"tsuid_1\" alt=\"\" height=\"23\" width=\"27\"><script nonce=\"Vqfgad9Tcmt49TBb7ZqOQw\">(function(){var id='tsuid_1';document.getElementById(id).onclick = function(){var s = document.createElement('script');s.src = this.getAttribute('data-script-url');(document.getElementById('xjsc')||document.body).appendChild(s);};})();</script></div></div><br style=\"line-height:0\"><span class=\"ds\"><span class=\"lsbb\"><input class=\"lsb\" value=\"&#1576;&#1581;&#1579; Google\" name=\"btnG\" type=\"submit\"></span></span><span class=\"ds\"><span class=\"lsbb\"><input class=\"lsb\" id=\"tsuid_2\" value=\"&#1590;&#1585;&#1576;&#1577; &#1581;&#1592;\" name=\"btnI\" type=\"submit\"><script nonce=\"Vqfgad9Tcmt49TBb7ZqOQw\">(function(){var id='tsuid_2';document.getElementById(id).onclick = function(){if (this.form.q.value){this.checked = 1;if (this.form.iflsig)this.form.iflsig.disabled = false;}\n",
      "else top.location='/doodles/';};})();</script><input value=\"AO6bgOgAAAAAZYQKGI4-XoeVI_op2JRysrTr6TMnZj-c\" name=\"iflsig\" type=\"hidden\"></span></span></td><td class=\"fl sblc\" align=\"right\" nowrap=\"\" width=\"25%\"><a href=\"/advanced_search?hl=ar-LB&amp;authuser=0\">&#1576;&#1581;&#1579; &#1605;&#1578;&#1602;&#1583;&#1605;</a></td></tr></table><input id=\"gbv\" name=\"gbv\" type=\"hidden\" value=\"1\"><script nonce=\"Vqfgad9Tcmt49TBb7ZqOQw\">(function(){var a,b=\"1\";if(document&&document.getElementById)if(\"undefined\"!=typeof XMLHttpRequest)b=\"2\";else if(\"undefined\"!=typeof ActiveXObject){var c,d,e=[\"MSXML2.XMLHTTP.6.0\",\"MSXML2.XMLHTTP.3.0\",\"MSXML2.XMLHTTP\",\"Microsoft.XMLHTTP\"];for(c=0;d=e[c++];)try{new ActiveXObject(d),b=\"2\"}catch(h){}}a=b;if(\"2\"==a&&-1==location.search.indexOf(\"&gbv=2\")){var f=google.gbvu,g=document.getElementById(\"gbv\");g&&(g.value=a);f&&window.setTimeout(function(){location.href=f},0)};}).call(this);</script></form><div id=\"gac_scont\"></div><div style=\"font-size:83%;min-height:3.5em\"><br><div id=\"gws-output-pages-elements-homepage_additional_languages__als\"><style>#gws-output-pages-elements-homepage_additional_languages__als{font-size:small;margin-bottom:24px}#SIvCob{color:#3c4043;display:inline-block;line-height:28px;}#SIvCob a{padding:0 3px;}.H6sW5{display:inline-block;margin:0 2px;white-space:nowrap}.z4hgWe{display:inline-block;margin:0 2px}</style><div id=\"SIvCob\">&#1605;&#1581;&#1585;&#1617;&#1603; &#1576;&#1581;&#1579; Google &#1605;&#1578;&#1608;&#1601;&#1617;&#1585; &#1576;&#1575;&#1604;&#1604;&#1594;&#1577;:  <a dir=\"ltr\" href=\"https://www.google.com/setprefs?sig=0_P7hwo8WlpzIWiHdMoM_GaXGNjDc%3D&amp;hl=en&amp;source=homepage&amp;sa=X&amp;ved=0ahUKEwjPz8rjkqCDAxXMQEEAHTDbA2wQ2ZgBCAU\">English</a>    <a dir=\"ltr\" href=\"https://www.google.com/setprefs?sig=0_P7hwo8WlpzIWiHdMoM_GaXGNjDc%3D&amp;hl=fr&amp;source=homepage&amp;sa=X&amp;ved=0ahUKEwjPz8rjkqCDAxXMQEEAHTDbA2wQ2ZgBCAY\">Français</a>    <a dir=\"ltr\" href=\"https://www.google.com/setprefs?sig=0_P7hwo8WlpzIWiHdMoM_GaXGNjDc%3D&amp;hl=hy&amp;source=homepage&amp;sa=X&amp;ved=0ahUKEwjPz8rjkqCDAxXMQEEAHTDbA2wQ2ZgBCAc\">&#1392;&#1377;&#1397;&#1381;&#1408;&#1381;&#1398;</a>  </div></div></div><span id=\"footer\"><div style=\"font-size:10pt\"><div style=\"margin:19px auto;text-align:center\" id=\"WqQANb\"><a href=\"/intl/ar/ads/\">&#1575;&#1604;&#1573;&#1593;&#1604;&#1575;&#1606;&#1575;&#1578;</a><a href=\"http://www.google.com/intl/ar/services/\">&#1581;&#1604;&#1608;&#1604; &#1575;&#1604;&#1588;&#1585;&#1603;&#1575;&#1578;</a><a href=\"/intl/ar/about.html\">&#1603;&#1604; &#1605;&#1575; &#1578;&#1581;&#1576; &#1605;&#1593;&#1585;&#1601;&#1578;&#1607; &#1593;&#1606; Google &#1607;&#1606;&#1575;</a><a dir=\"ltr\" href=\"https://www.google.com/setprefdomain?prefdom=LB&amp;prev=https://www.google.com.lb/&amp;sig=K_phLSuWl8oIW14CUYzaGpILTz0Rc%3D\">Google.com.lb</a></div></div><p style=\"font-size:8pt;color:#70757a\">&copy; 2023 - <a href=\"/intl/ar/policies/privacy/\">&#1575;&#1604;&#1582;&#1589;&#1608;&#1589;&#1610;&#1577;</a> - <a href=\"/intl/ar/policies/terms/\">&#1575;&#1604;&#1576;&#1606;&#1608;&#1583;</a></p></span></center><script nonce=\"Vqfgad9Tcmt49TBb7ZqOQw\">(function(){window.google.cdo={height:757,width:1440};(function(){var a=window.innerWidth,b=window.innerHeight;if(!a||!b){var c=window.document,d=\"CSS1Compat\"==c.compatMode?c.documentElement:c.body;a=d.clientWidth;b=d.clientHeight}\n",
      "if(a&&b&&(a!=google.cdo.width||b!=google.cdo.height)){var e=google,f=e.log,g=\"/client_204?&atyp=i&biw=\"+a+\"&bih=\"+b+\"&ei=\"+google.kEI,h=\"\",k=[],l=void 0!==window.google&&void 0!==window.google.kOPI&&0!==window.google.kOPI?window.google.kOPI:null;null!=l&&k.push([\"opi\",l.toString()]);for(var m=0;m<k.length;m++){if(0===m||0<m)h+=\"&\";h+=k[m][0]+\"=\"+k[m][1]}f.call(e,\"\",\"\",g+h)};}).call(this);})();</script> <script nonce=\"Vqfgad9Tcmt49TBb7ZqOQw\">(function(){google.xjs={ck:'xjs.hp.vKnqOVkWTM4.R.X.O',combam:'AAAAAAAAAAAAAAAAAAAAAAAAAAAIAAAAAAA4AAACEAAAAAAAAACAkABAdAQAwAIAXA',cs:'ACT90oENYN3ccyuAPf4I1vaUYRNl4ZXiGw',cssam:'AAAAAAAAAAAAAAAAAAAAAAAAAAAAAAAAAAAAAAACEAAAAAAAAACAkABA',cssopt:false,csss:'ACT90oEYd7gcM5-KdN3_6tSFOTuXSjmvgw',excm:[],sepam:false,sepcss:false};})();</script>     <script nonce=\"Vqfgad9Tcmt49TBb7ZqOQw\">(function(){var u='/xjs/_/js/k\\x3dxjs.hp.en.6YapfFsyys0.O/am\\x3dAAAAAAAAAAAAAAAAAAAAAAAAAAAIAAAAAAA4AAACEAAAAAAAAACAkABAdAQAwAIAXA/d\\x3d1/ed\\x3d1/rs\\x3dACT90oFf6BZFVwTHos2GVqtaq3SmeyLl5Q/m\\x3dsb_he,d,cEt90b,SNUn3,qddgKe,sTsDMc,dtl0hd,eHDfl';var amd=0;\n",
      "var e=this||self,f=function(a){return a};var g;var h=function(a){this.g=a};h.prototype.toString=function(){return this.g+\"\"};var k={};var l=function(){var a=document;var b=\"SCRIPT\";\"application/xhtml+xml\"===a.contentType&&(b=b.toLowerCase());return a.createElement(b)};\n",
      "function m(a,b){a.src=b instanceof h&&b.constructor===h?b.g:\"type_error:TrustedResourceUrl\";var c,d;(c=(b=null==(d=(c=(a.ownerDocument&&a.ownerDocument.defaultView||window).document).querySelector)?void 0:d.call(c,\"script[nonce]\"))?b.nonce||b.getAttribute(\"nonce\")||\"\":\"\")&&a.setAttribute(\"nonce\",c)};function n(a){a=null===a?\"null\":void 0===a?\"undefined\":a;if(void 0===g){var b=null;var c=e.trustedTypes;if(c&&c.createPolicy){try{b=c.createPolicy(\"goog#html\",{createHTML:f,createScript:f,createScriptURL:f})}catch(d){e.console&&e.console.error(d.message)}g=b}else g=b}a=(b=g)?b.createScriptURL(a):a;return new h(a,k)};void 0===google.ps&&(google.ps=[]);function p(){var a=u,b=function(){};google.lx=google.stvsc?b:function(){q(a);google.lx=b};google.bx||google.lx()}function r(a,b){b&&m(a,n(b));var c=a.onload;a.onload=function(d){c&&c(d);google.ps=google.ps.filter(function(t){return a!==t})};google.ps.push(a);document.body.appendChild(a)}google.as=r;function q(a){google.timers&&google.timers.load&&google.tick&&google.tick(\"load\",\"xjsls\");var b=l();b.onerror=function(){google.ple=1};b.onload=function(){google.ple=0};google.xjsus=void 0;r(b,a);google.aple=-1;google.psa=!0};google.xjsu=u;e._F_jsUrl=u;setTimeout(function(){0<amd?google.caft(function(){return p()},amd):p()},0);})();window._ = window._ || {};window._DumpException = _._DumpException = function(e){throw e;};window._s = window._s || {};_s._DumpException = _._DumpException;window._qs = window._qs || {};_qs._DumpException = _._DumpException;(function(){var t=[1,0,0,0,0,8192,0,8388654,134217744,33554432,591872,72976,469762752,1];window._F_toggles = window._xjs_toggles = t;})();function _F_installCss(c){}\n",
      "(function(){google.jl={blt:'none',chnk:0,dw:false,dwu:true,emtn:0,end:0,ico:false,ikb:0,ine:false,injs:'none',injt:0,injth:0,injv2:false,lls:'default',pdt:0,rep:0,snet:true,strt:0,ubm:false,uwp:true};})();(function(){var pmc='{\\x22d\\x22:{},\\x22sb_he\\x22:{\\x22agen\\x22:false,\\x22cgen\\x22:false,\\x22client\\x22:\\x22heirloom-hp\\x22,\\x22dh\\x22:true,\\x22ds\\x22:\\x22\\x22,\\x22fl\\x22:true,\\x22host\\x22:\\x22google.com\\x22,\\x22jsonp\\x22:true,\\x22msgs\\x22:{\\x22cibl\\x22:\\x22\\\\u0645\\\\u062d\\\\u0648 \\\\u0627\\\\u0644\\\\u0628\\\\u062d\\\\u062b\\x22,\\x22dym\\x22:\\x22\\\\u0647\\\\u0644 \\\\u062a\\\\u0642\\\\u0635\\\\u062f :\\x22,\\x22lcky\\x22:\\x22\\\\u0636\\\\u0631\\\\u0628\\\\u0629 \\\\u062d\\\\u0638\\x22,\\x22lml\\x22:\\x22\\\\u0645\\\\u0632\\\\u064a\\\\u062f \\\\u0645\\\\u0646 \\\\u0627\\\\u0644\\\\u0645\\\\u0639\\\\u0644\\\\u0648\\\\u0645\\\\u0627\\\\u062a\\x22,\\x22psrc\\x22:\\x22\\\\u062a\\\\u0645\\\\u062a \\\\u0625\\\\u0632\\\\u0627\\\\u0644\\\\u0629 \\\\u0647\\\\u0630\\\\u0627 \\\\u0627\\\\u0644\\\\u0628\\\\u062d\\\\u062b \\\\u0645\\\\u0646 \\\\u003Ca href\\x3d\\\\\\x22/history\\\\\\x22\\\\u003E\\\\u0633\\\\u0650\\\\u062c\\\\u0644 \\\\u0627\\\\u0644\\\\u0628\\\\u062d\\\\u062b\\\\u003C/a\\\\u003E.\\x22,\\x22psrl\\x22:\\x22\\\\u0625\\\\u0632\\\\u0627\\\\u0644\\\\u0629\\x22,\\x22sbit\\x22:\\x22\\\\u0627\\\\u0644\\\\u0628\\\\u062d\\\\u062b \\\\u0628\\\\u062d\\\\u0633\\\\u0628 \\\\u0627\\\\u0644\\\\u0635\\\\u0648\\\\u0631\\x22,\\x22srch\\x22:\\x22\\\\u0628\\\\u062d\\\\u062b Google\\\\u200f\\x22},\\x22ovr\\x22:{},\\x22pq\\x22:\\x22\\x22,\\x22rfs\\x22:[],\\x22sbas\\x22:\\x220 3px 8px 0 rgba(0,0,0,0.2),0 0 0 1px rgba(0,0,0,0.08)\\x22,\\x22stok\\x22:\\x22Rd-e4NhTD1ismldopiH0vA4QEzo\\x22}}';google.pmc=JSON.parse(pmc);})();(function(){var b=function(a){var c=0;return function(){return c<a.length?{done:!1,value:a[c++]}:{done:!0}}};\n",
      "var e=this||self;var g,h;a:{for(var k=[\"CLOSURE_FLAGS\"],l=e,n=0;n<k.length;n++)if(l=l[k[n]],null==l){h=null;break a}h=l}var p=h&&h[610401301];g=null!=p?p:!1;var q,r=e.navigator;q=r?r.userAgentData||null:null;function t(a){return g?q?q.brands.some(function(c){return(c=c.brand)&&-1!=c.indexOf(a)}):!1:!1}function u(a){var c;a:{if(c=e.navigator)if(c=c.userAgent)break a;c=\"\"}return-1!=c.indexOf(a)};function v(){return g?!!q&&0<q.brands.length:!1}function w(){return u(\"Safari\")&&!(x()||(v()?0:u(\"Coast\"))||(v()?0:u(\"Opera\"))||(v()?0:u(\"Edge\"))||(v()?t(\"Microsoft Edge\"):u(\"Edg/\"))||(v()?t(\"Opera\"):u(\"OPR\"))||u(\"Firefox\")||u(\"FxiOS\")||u(\"Silk\")||u(\"Android\"))}function x(){return v()?t(\"Chromium\"):(u(\"Chrome\")||u(\"CriOS\"))&&!(v()?0:u(\"Edge\"))||u(\"Silk\")}function y(){return u(\"Android\")&&!(x()||u(\"Firefox\")||u(\"FxiOS\")||(v()?0:u(\"Opera\"))||u(\"Silk\"))};var z=v()?!1:u(\"Trident\")||u(\"MSIE\");y();x();w();Object.freeze(new function(){});Object.freeze(new function(){});var A=!z&&!w(),D=function(a){if(/-[a-z]/.test(\"ved\"))return null;if(A&&a.dataset){if(y()&&!(\"ved\"in a.dataset))return null;a=a.dataset.ved;return void 0===a?null:a}return a.getAttribute(\"data-\"+\"ved\".replace(/([A-Z])/g,\"-$1\").toLowerCase())};var E=[],F=null;function G(a){a=a.target;var c=performance.now(),f=[],H=f.concat,d=E;if(!(d instanceof Array)){var m=\"undefined\"!=typeof Symbol&&Symbol.iterator&&d[Symbol.iterator];if(m)d=m.call(d);else if(\"number\"==typeof d.length)d={next:b(d)};else throw Error(\"a`\"+String(d));for(var B=[];!(m=d.next()).done;)B.push(m.value);d=B}E=H.call(f,d,[c]);if(a&&a instanceof HTMLElement)if(a===F){if(c=4<=E.length)c=5>(E[E.length-1]-E[E.length-4])/1E3;if(c){c=google.getEI(a);a.hasAttribute(\"data-ved\")?f=a?D(a)||\"\":\"\":f=(f=\n",
      "a.closest(\"[data-ved]\"))?D(f)||\"\":\"\";f=f||\"\";if(a.hasAttribute(\"jsname\"))a=a.getAttribute(\"jsname\");else{var C;a=null==(C=a.closest(\"[jsname]\"))?void 0:C.getAttribute(\"jsname\")}google.log(\"rcm\",\"&ei=\"+c+\"&ved=\"+f+\"&jsname=\"+(a||\"\"))}}else F=a,E=[c]}window.document.addEventListener(\"DOMContentLoaded\",function(){document.body.addEventListener(\"click\",G)});}).call(this);</script></body></html>\n"
     ]
    },
    {
     "data": {
      "text/plain": [
       "Ok(())"
      ]
     },
     "execution_count": 15,
     "metadata": {},
     "output_type": "execute_result"
    }
   ],
   "source": [
    "use reqwest;\n",
    "\n",
    "async fn fetch_data() -> Result<String, reqwest::Error> {\n",
    "    let response = reqwest::get(\"https://www.google.com/\").await?;\n",
    "    let body = response.text().await?;\n",
    "    Ok(body)\n",
    "}\n",
    "\n",
    "#[tokio::main]\n",
    "async fn main() -> Result<(), Box<dyn std::error::Error>> {\n",
    "    // You can run asynchronous code here if needed.\n",
    "    let result = fetch_data().await;\n",
    "\n",
    "    match result {\n",
    "        Ok(body) => {\n",
    "            println!(\"Fetched data:\\n{}\", body);\n",
    "        }\n",
    "        Err(err) => {\n",
    "            eprintln!(\"Error fetching data: {:?}\", err);\n",
    "        }\n",
    "    }\n",
    "\n",
    "    Ok(())\n",
    "}\n",
    "\n",
    "main()"
   ]
  },
  {
   "cell_type": "markdown",
   "id": "90eaaae1-1b18-4c00-9ebf-425093bf9387",
   "metadata": {},
   "source": [
    "#### Custom Error Types for Async Code"
   ]
  },
  {
   "cell_type": "code",
   "execution_count": null,
   "id": "7d051921-9fff-4e37-b6bc-1761c2c303ab",
   "metadata": {},
   "outputs": [],
   "source": [
    "use std::io;\n",
    "\n",
    "#[derive(Debug)]\n",
    "enum MyError {\n",
    "    Network(reqwest::Error),\n",
    "    Io(io::Error),\n",
    "}\n",
    "\n",
    "async fn fetch_data() -> Result<String, MyError> {\n",
    "    // ...\n",
    "}"
   ]
  },
  {
   "cell_type": "markdown",
   "id": "8fdd3d56-b398-43f3-9a15-f33c4374e050",
   "metadata": {},
   "source": [
    "#### Handling Concurrency Errors"
   ]
  },
  {
   "cell_type": "code",
   "execution_count": 3,
   "id": "c8bb4de5-955b-4d45-b152-9785956af0cc",
   "metadata": {},
   "outputs": [
    {
     "name": "stdout",
     "output_type": "stream",
     "text": [
      "Received result: 6\n",
      "Received result: 0\n",
      "Received result: 2\n",
      "Received result: 4\n"
     ]
    },
    {
     "data": {
      "text/plain": [
       "Ok(())"
      ]
     },
     "execution_count": 3,
     "metadata": {},
     "output_type": "execute_result"
    }
   ],
   "source": [
    "use tokio::sync::mpsc;\n",
    "use std::error::Error;\n",
    "\n",
    "#[tokio::main]\n",
    "async fn main() -> Result<(), Box<dyn Error>> {\n",
    "    let (tx, mut rx) = mpsc::channel(32);\n",
    "\n",
    "    for i in 0..4 {\n",
    "        let tx = tx.clone();\n",
    "        tokio::spawn(async move {\n",
    "            let result = do_work(i).await;\n",
    "            tx.send(result).await.expect(\"Send failed\");\n",
    "        });\n",
    "    }\n",
    "\n",
    "    for _ in 0..4 {\n",
    "        if let Some(result) = rx.recv().await {\n",
    "            println!(\"Received result: {:?}\", result);\n",
    "        }\n",
    "    }\n",
    "\n",
    "    Ok(())\n",
    "}\n",
    "\n",
    "async fn do_work(task_id: i32) -> i32 {\n",
    "    tokio::time::sleep(std::time::Duration::from_secs(1)).await;\n",
    "\n",
    "    task_id * 2\n",
    "}\n",
    "\n",
    "main()"
   ]
  },
  {
   "cell_type": "markdown",
   "id": "eb10bda8-4d7e-40fb-9793-8fa41dcc8946",
   "metadata": {},
   "source": [
    "#### Error Handling in Web Applications"
   ]
  },
  {
   "cell_type": "code",
   "execution_count": 39,
   "id": "1566b9f5-7498-4bff-995e-ae19373bb729",
   "metadata": {},
   "outputs": [],
   "source": [
    ":dep warp = { version = \"0.3.6\" }"
   ]
  },
  {
   "cell_type": "code",
   "execution_count": 40,
   "id": "5ca90d9e-f9cb-4e93-85c1-dc2700a910dc",
   "metadata": {},
   "outputs": [
    {
     "ename": "Error",
     "evalue": "Subprocess terminated with status: signal: 9 (SIGKILL)",
     "output_type": "error",
     "traceback": [
      "Subprocess terminated with status: signal: 9 (SIGKILL)"
     ]
    }
   ],
   "source": [
    "use warp::Filter;\n",
    "\n",
    "#[tokio::main]\n",
    "async fn main() {\n",
    "    let hello = warp::path!(\"hello\" / \"world\")\n",
    "        .map(|| {\n",
    "            // Your web application logic here\n",
    "            warp::reply::html(\"Hello, world!\")\n",
    "        });\n",
    "\n",
    "    let routes = hello.with(warp::log(\"myapp::api\"));\n",
    "    warp::serve(routes).run(([127, 0, 0, 1], 3030)).await;\n",
    "}\n",
    "\n",
    "main()"
   ]
  },
  {
   "cell_type": "markdown",
   "id": "f0b03231-6548-4cd8-af2e-a0a8592f0dd9",
   "metadata": {},
   "source": [
    "### Putting It All Together"
   ]
  },
  {
   "cell_type": "markdown",
   "id": "86877fc7-becc-4b09-92de-07dfb4f60b6e",
   "metadata": {},
   "source": [
    "#### File Parsing and Error Handling"
   ]
  },
  {
   "cell_type": "code",
   "execution_count": 2,
   "id": "efa05f1d-69dc-4c88-ba8a-ea909b7ba973",
   "metadata": {},
   "outputs": [],
   "source": [
    ":dep csv = { version = \"1.3.0\" }"
   ]
  },
  {
   "cell_type": "code",
   "execution_count": 3,
   "id": "4e08f3cc-652c-4c9a-bee8-301eb13d139b",
   "metadata": {},
   "outputs": [],
   "source": [
    ":dep serde = { version = \"1.0.193\", features = [\"derive\"] }"
   ]
  },
  {
   "cell_type": "code",
   "execution_count": 7,
   "id": "dd981c26-ebcb-44f2-bfba-61c517a0e6ce",
   "metadata": {},
   "outputs": [],
   "source": [
    ":dep serde_json = { version = \"1.0.108\" }"
   ]
  },
  {
   "cell_type": "code",
   "execution_count": 12,
   "id": "35327ffa-8615-4ac3-9aae-a600c4199dd1",
   "metadata": {},
   "outputs": [
    {
     "name": "stdout",
     "output_type": "stream",
     "text": [
      "Record 1: CsvRecord { MatchDate: \"2023-01-01\", Team1: \"TeamA\", Team2: \"TeamB\", Win1: 1, Win2: 0, Kills1: 20, Kills2: 10, Deaths1: 5, Deaths2: 15, Assists1: 15, Assists2: 5, Objectives1: 3, Objectives2: 2, TournamentImportance: 0.9, Region: \"NA\" }\n",
      "Record 2: CsvRecord { MatchDate: \"2023-01-02\", Team1: \"TeamC\", Team2: \"TeamD\", Win1: 0, Win2: 1, Kills1: 15, Kills2: 20, Deaths1: 10, Deaths2: 5, Assists1: 10, Assists2: 15, Objectives1: 2, Objectives2: 3, TournamentImportance: 0.8, Region: \"NA\" }\n",
      "Record 3: CsvRecord { MatchDate: \"2023-01-03\", Team1: \"TeamA\", Team2: \"TeamC\", Win1: 0, Win2: 1, Kills1: 18, Kills2: 22, Deaths1: 8, Deaths2: 12, Assists1: 12, Assists2: 18, Objectives1: 4, Objectives2: 5, TournamentImportance: 0.9, Region: \"NA\" }\n",
      "Record 4: CsvRecord { MatchDate: \"2023-01-04\", Team1: \"TeamB\", Team2: \"TeamD\", Win1: 1, Win2: 0, Kills1: 25, Kills2: 12, Deaths1: 6, Deaths2: 15, Assists1: 20, Assists2: 8, Objectives1: 4, Objectives2: 3, TournamentImportance: 0.8, Region: \"NA\" }\n",
      "Record 5: CsvRecord { MatchDate: \"2023-01-05\", Team1: \"TeamA\", Team2: \"TeamD\", Win1: 1, Win2: 0, Kills1: 22, Kills2: 18, Deaths1: 7, Deaths2: 14, Assists1: 14, Assists2: 20, Objectives1: 5, Objectives2: 6, TournamentImportance: 0.9, Region: \"NA\" }\n",
      "Record 6: CsvRecord { MatchDate: \"2023-01-06\", Team1: \"TeamB\", Team2: \"TeamC\", Win1: 0, Win2: 1, Kills1: 15, Kills2: 25, Deaths1: 10, Deaths2: 8, Assists1: 10, Assists2: 20, Objectives1: 3, Objectives2: 4, TournamentImportance: 0.8, Region: \"NA\" }\n",
      "Record 7: CsvRecord { MatchDate: \"2023-01-07\", Team1: \"TeamA\", Team2: \"TeamC\", Win1: 1, Win2: 0, Kills1: 24, Kills2: 20, Deaths1: 8, Deaths2: 15, Assists1: 16, Assists2: 18, Objectives1: 4, Objectives2: 4, TournamentImportance: 0.9, Region: \"NA\" }\n",
      "Record 8: CsvRecord { MatchDate: \"2023-01-08\", Team1: \"TeamB\", Team2: \"TeamD\", Win1: 1, Win2: 0, Kills1: 20, Kills2: 15, Deaths1: 6, Deaths2: 12, Assists1: 12, Assists2: 15, Objectives1: 3, Objectives2: 2, TournamentImportance: 0.8, Region: \"NA\" }\n"
     ]
    },
    {
     "data": {
      "text/plain": [
       "Ok(())"
      ]
     },
     "execution_count": 12,
     "metadata": {},
     "output_type": "execute_result"
    }
   ],
   "source": [
    "use std::error::Error;\n",
    "use std::fs::File;\n",
    "use std::io::{self, BufRead, BufReader};\n",
    "use serde::Deserialize;\n",
    "use csv::StringRecord;\n",
    "\n",
    "#[derive(Debug, Deserialize)]\n",
    "struct CsvRecord {\n",
    "    MatchDate: String,\n",
    "    Team1: String,\n",
    "    Team2: String,\n",
    "    Win1: i32,\n",
    "    Win2: i32,\n",
    "    Kills1: i32,\n",
    "    Kills2: i32,\n",
    "    Deaths1: i32,\n",
    "    Deaths2: i32,\n",
    "    Assists1: i32,\n",
    "    Assists2: i32,\n",
    "    Objectives1: i32,\n",
    "    Objectives2: i32,\n",
    "    TournamentImportance: f32,\n",
    "    Region: String,\n",
    "}\n",
    "\n",
    "#[derive(Debug)]\n",
    "enum CsvError {\n",
    "    Io(io::Error),\n",
    "    Csv(csv::Error),\n",
    "}\n",
    "\n",
    "impl From<io::Error> for CsvError {\n",
    "    fn from(error: io::Error) -> Self {\n",
    "        CsvError::Io(error)\n",
    "    }\n",
    "}\n",
    "\n",
    "impl From<csv::Error> for CsvError {\n",
    "    fn from(err: csv::Error) -> Self {\n",
    "        CsvError::Csv(err)\n",
    "    }\n",
    "}\n",
    "\n",
    "fn parse_csv(file_path: &str) -> Result<(), Box<dyn Error>> {\n",
    "    let file = File::open(file_path)?;\n",
    "    let reader = BufReader::new(file);\n",
    "\n",
    "    let mut csv_reader = csv::ReaderBuilder::new().has_headers(true).from_reader(reader);\n",
    "\n",
    "    for (i, result) in csv_reader.deserialize().enumerate() {\n",
    "        let record: Result<CsvRecord, CsvError> = result.map_err(CsvError::Csv);\n",
    "\n",
    "        match record {\n",
    "            Ok(record) => {\n",
    "                // Process the record here\n",
    "                println!(\"Record {}: {:?}\", i + 1, record);\n",
    "            }\n",
    "            Err(err) => {\n",
    "                // Handle the error from deserialization\n",
    "                eprintln!(\"Error parsing CSV record at line {}: {:?}\", i + 1, err);\n",
    "            }\n",
    "        }\n",
    "    }\n",
    "\n",
    "    Ok(())\n",
    "}\n",
    "\n",
    "parse_csv(\"esports_data.csv\")"
   ]
  },
  {
   "cell_type": "markdown",
   "id": "30fe2e5f-447d-4896-8ddd-ab6f7f05fca2",
   "metadata": {},
   "source": [
    "### Error Handling in Command-Line Applications"
   ]
  },
  {
   "cell_type": "code",
   "execution_count": 13,
   "id": "94b26518-3d6c-4894-bc20-0d27a9ee80e5",
   "metadata": {},
   "outputs": [],
   "source": [
    ":dep clap = { version = \"4.4.8\", features = [\"derive\"] }"
   ]
  },
  {
   "cell_type": "code",
   "execution_count": 14,
   "id": "fd8bc541-e8e0-4558-aefd-0e76951bb14a",
   "metadata": {},
   "outputs": [
    {
     "name": "stderr",
     "output_type": "stream",
     "text": [
      "thread '<unnamed>' panicked at src/lib.rs:27:17:\n",
      "not yet implemented\n",
      "stack backtrace:\n",
      "   0: rust_begin_unwind\n",
      "             at /rustc/cd674d61790607dfb6faa9d754bd3adfa13aea7c/library/std/src/panicking.rs:597:5\n",
      "   1: core::panicking::panic_fmt\n",
      "             at /rustc/cd674d61790607dfb6faa9d754bd3adfa13aea7c/library/core/src/panicking.rs:72:14\n",
      "   2: core::panicking::panic\n",
      "             at /rustc/cd674d61790607dfb6faa9d754bd3adfa13aea7c/library/core/src/panicking.rs:127:5\n",
      "   3: ctx::main\n",
      "   4: std::panicking::try\n",
      "   5: run_user_code_6\n",
      "   6: evcxr::runtime::Runtime::run_loop\n",
      "   7: evcxr::runtime::runtime_hook\n",
      "   8: evcxr_jupyter::main\n",
      "note: Some details are omitted, run with `RUST_BACKTRACE=full` for a verbose backtrace.\n"
     ]
    }
   ],
   "source": [
    "use clap::{Parser, Subcommand};\n",
    "use clap::Args;\n",
    "\n",
    "#[derive(Parser)]\n",
    "#[clap(author, version, about = \"My Rust CLI App\", long_about = None)]\n",
    "struct Cli {\n",
    "    #[command(subcommand)]\n",
    "    command: Option<Commands>,\n",
    "}\n",
    "\n",
    "#[derive(Subcommand)]\n",
    "enum Commands {\n",
    "    Input(Input),\n",
    "    Output(Output),\n",
    "}\n",
    "\n",
    "#[derive(Args)]\n",
    "struct Input {\n",
    "    file_name: Option<String>,\n",
    "}\n",
    "\n",
    "#[derive(Args)]\n",
    "struct Output {\n",
    "    file_name: Option<String>,\n",
    "}\n",
    "\n",
    "fn main() -> Result<(), Box<dyn std::error::Error>>  {\n",
    "    let args = Cli::parse();\n",
    "    match args.command {\n",
    "        Some(Commands::Input(file)) => {\n",
    "            match file.file_name {\n",
    "                Some(ref file_name) => {\n",
    "                    // Perform the application logic here\n",
    "                }\n",
    "                None => {\n",
    "                    println!(\"Please provide an input file name\");\n",
    "                }\n",
    "            }\n",
    "        }\n",
    "        Some(Commands::Output(file)) => {\n",
    "            match file.file_name {\n",
    "                Some(ref file_name) => {\n",
    "                    // Perform the application logic here\n",
    "                }\n",
    "                None => {\n",
    "                    println!(\"Please provide an output file name\");\n",
    "                }\n",
    "            }\n",
    "        }\n",
    "        None => todo!()\n",
    "\n",
    "    }\n",
    "\n",
    "    // Perform the application logic here\n",
    "    Ok(())\n",
    "}\n",
    "\n",
    "main()\n",
    "\n",
    "// TODO: Report a bug/edge case."
   ]
  },
  {
   "cell_type": "markdown",
   "id": "25bc57f4-b032-47b2-9552-a7a371033a42",
   "metadata": {},
   "source": [
    "### Handling Signals and Interruptions"
   ]
  },
  {
   "cell_type": "code",
   "execution_count": 50,
   "id": "9a8215f6-dc39-4e2e-a1e2-58d91c605ff9",
   "metadata": {},
   "outputs": [],
   "source": [
    ":dep ctrlc = { version = \"3.4.1\" }"
   ]
  },
  {
   "cell_type": "code",
   "execution_count": 52,
   "id": "b047fd33-aaa0-4385-910c-fdfa3be1dc6a",
   "metadata": {},
   "outputs": [
    {
     "ename": "Error",
     "evalue": "Subprocess terminated with status: signal: 9 (SIGKILL)",
     "output_type": "error",
     "traceback": [
      "Subprocess terminated with status: signal: 9 (SIGKILL)"
     ]
    }
   ],
   "source": [
    "use ctrlc;\n",
    "use std::sync::atomic::{AtomicBool, Ordering};\n",
    "use std::sync::Arc;\n",
    "\n",
    "fn main() -> Result<(), Box<dyn std::error::Error>> {\n",
    "    let running = Arc::new(AtomicBool::new(true));\n",
    "    let r = running.clone();\n",
    "\n",
    "    ctrlc::set_handler(move || {\n",
    "        r.store(false, Ordering::SeqCst);\n",
    "        println!(\"Just got interrupted!\");\n",
    "    })?;\n",
    "\n",
    "    // Perform application logic here\n",
    "\n",
    "    while running.load(Ordering::SeqCst) {\n",
    "        // Keep the application running\n",
    "    }\n",
    "\n",
    "    Ok(())\n",
    "}\n",
    "\n",
    "main()"
   ]
  },
  {
   "cell_type": "markdown",
   "id": "fc7567a9-1982-47ae-b85e-d1c254eec691",
   "metadata": {},
   "source": [
    "### Error Handling in File I/O"
   ]
  },
  {
   "cell_type": "markdown",
   "id": "1335e001-d368-4083-aa41-8a2fb6f9ba98",
   "metadata": {},
   "source": [
    "#### Reading and Writing Files"
   ]
  },
  {
   "cell_type": "code",
   "execution_count": 53,
   "id": "bfe5dcc4-55cb-46f1-8bfb-956fa706fcd9",
   "metadata": {},
   "outputs": [
    {
     "data": {
      "text/plain": [
       "Err(Os { code: 2, kind: NotFound, message: \"No such file or directory\" })"
      ]
     },
     "execution_count": 53,
     "metadata": {},
     "output_type": "execute_result"
    }
   ],
   "source": [
    "use std::fs::File;\n",
    "use std::io::{Read, Write};\n",
    "\n",
    "fn main() -> Result<(), Box<dyn std::error::Error>> {\n",
    "    let file_path = \"example.txt\";\n",
    "    let mut file = File::open(file_path)?;\n",
    "\n",
    "    let mut contents = String::new();\n",
    "    file.read_to_string(&mut contents)?;\n",
    "\n",
    "    // Process and manipulate the file contents here\n",
    "\n",
    "    let mut output_file = File::create(\"output.txt\")?;\n",
    "    output_file.write_all(contents.as_bytes())?;\n",
    "\n",
    "    Ok(())\n",
    "}\n",
    "\n",
    "main()"
   ]
  },
  {
   "cell_type": "markdown",
   "id": "45ddb05b-f78a-4035-b499-649455b00ff9",
   "metadata": {},
   "source": [
    "#### Working with Directories"
   ]
  },
  {
   "cell_type": "code",
   "execution_count": 54,
   "id": "31f412f4-7821-44d4-b30f-e26041d88f9c",
   "metadata": {},
   "outputs": [
    {
     "data": {
      "text/plain": [
       "Ok(())"
      ]
     },
     "execution_count": 54,
     "metadata": {},
     "output_type": "execute_result"
    }
   ],
   "source": [
    "use std::fs;\n",
    "use std::path::Path;\n",
    "\n",
    "fn main() -> Result<(), Box<dyn std::error::Error>> {\n",
    "    let dir_path = \"my_directory\";\n",
    "\n",
    "    if !Path::new(dir_path).exists() {\n",
    "        fs::create_dir(dir_path)?;\n",
    "    }\n",
    "\n",
    "    // Perform operations within the directory here\n",
    "\n",
    "    Ok(())\n",
    "}\n",
    "\n",
    "main()"
   ]
  },
  {
   "cell_type": "markdown",
   "id": "4ee042f1-1a64-42b6-9d93-a67524e2bc24",
   "metadata": {},
   "source": [
    "### Error Handling in Network Programming"
   ]
  },
  {
   "cell_type": "markdown",
   "id": "3c0e1d8f-0851-4534-b267-d73282a2085b",
   "metadata": {},
   "source": [
    "#### Making HTTP Requests"
   ]
  },
  {
   "cell_type": "code",
   "execution_count": 57,
   "id": "2212cc0f-205b-4176-a7d3-c360a037a8ef",
   "metadata": {},
   "outputs": [
    {
     "name": "stdout",
     "output_type": "stream",
     "text": [
      "Response body:\n",
      "<!doctype html><html dir=\"rtl\" itemscope=\"\" itemtype=\"http://schema.org/WebPage\" lang=\"ar-LB\"><head><meta content=\"text/html; charset=UTF-8\" http-equiv=\"Content-Type\"><meta content=\"/logos/doodles/2023/lebanon-independence-day-2023-6753651837109971-law.gif\" itemprop=\"image\"><meta content=\"&#1593;&#1610;&#1583; &#1575;&#1587;&#1578;&#1602;&#1604;&#1575;&#1604; &#1604;&#1576;&#1606;&#1575;&#1606; 2023\" property=\"twitter:title\"><meta content=\"&#1593;&#1610;&#1583; &#1575;&#1587;&#1578;&#1602;&#1604;&#1575;&#1604; &#1604;&#1576;&#1606;&#1575;&#1606; #GoogleDoodle\" property=\"twitter:description\"><meta content=\"&#1593;&#1610;&#1583; &#1575;&#1587;&#1578;&#1602;&#1604;&#1575;&#1604; &#1604;&#1576;&#1606;&#1575;&#1606; #GoogleDoodle\" property=\"og:description\"><meta content=\"summary_large_image\" property=\"twitter:card\"><meta content=\"@GoogleDoodles\" property=\"twitter:site\"><meta content=\"https://www.google.com/logos/doodles/2023/lebanon-independence-day-2023-6753651837109971-2xa.gif\" property=\"twitter:image\"><meta content=\"https://www.google.com/logos/doodles/2023/lebanon-independence-day-2023-6753651837109971-2xa.gif\" property=\"og:image\"><meta content=\"1000\" property=\"og:image:width\"><meta content=\"400\" property=\"og:image:height\"><meta content=\"https://www.google.com/logos/doodles/2023/lebanon-independence-day-2023-6753651837109971-2xa.gif\" property=\"og:url\"><meta content=\"video.other\" property=\"og:type\"><title>Google</title><script nonce=\"bjx4sRKdf2P2OAPqFSYBAg\">(function(){var _g={kEI:'vyZeZaHPELifkdUPnM-wMA',kEXPI:'0,18168,1347299,207,4804,2316,383,1129371,1920,1195824,657,380090,16114,28684,22431,1361,12319,2815,1930,12835,4998,17075,35733,2711,2872,2891,4139,4209,4012,29842,30848,16335,20583,4,57401,2216,4437,22604,6633,7596,1,11943,30211,2,39761,5679,1021,16403,14718,4569,6252,23425,1248,33067,2,2,1,24626,2006,8155,23350,873,7829,11805,7,1922,9779,12414,30045,20199,20136,14,82,20206,27365,252,5123,3030,11151,4665,1804,12748,8264,26070,477,1158,9707,24906,7652,5224233,2,296,283,133,49,5992994,1210,2803214,3311,141,795,29955,199,23940414,4044106,1008,15665,43886,3,1603,3,499,3,1882,1392060,727334,23031936,11557,1242,8409,2879,334,1260,6282,3943,11803,1671,5943,2941,6,4512,3117,1850,4028,12750,1856,1629,1220,5568,364,16425,3,1677,2,9,1283,769,27,6,5,15,313,5483,4,872,438,664,1767,83,401,919,1068,351,2125,2792,602,333,237,912,1154,1042,4478,1995,642,394,898,120,241,136,107,468,60,881,16,604,869,1252,108,853,149,51,955,1064,473,504,160,188,1557,258,1,6,2615,844,189,853,4,489,4,1800,152,1544,1079,52,2,6,2,362,324,66,345,138,76,3,463,1104,497,295,19,1,6,244,373,64,36,421,1587,378,2029,2089,5,1234,428,499,144,2,106,196,645,272,106,44,178,533,183,404,1253,2,3,10,2,140,822,268,203,34,545,7,1,8,488,414,333,133,68,361,688,210,3,43,61,3,4,2,2,2,55,201,24,6,729,772,159,414,412,1943,301,2,127,219,4,293,432,604,977,119,1223,486,11,197,520,15,822,925,579,21400290,360645,218,1170,371,563',kBL:'S2Jd',kOPI:89978449};(function(){var a;(null==(a=window.google)?0:a.stvsc)?google.kEI=_g.kEI:window.google=_g;}).call(this);})();(function(){google.sn='webhp';google.kHL='ar-LB';})();(function(){\n",
      "var h=this||self;function l(){return void 0!==window.google&&void 0!==window.google.kOPI&&0!==window.google.kOPI?window.google.kOPI:null};var m,n=[];function p(a){for(var b;a&&(!a.getAttribute||!(b=a.getAttribute(\"eid\")));)a=a.parentNode;return b||m}function q(a){for(var b=null;a&&(!a.getAttribute||!(b=a.getAttribute(\"leid\")));)a=a.parentNode;return b}function r(a){/^http:/i.test(a)&&\"https:\"===window.location.protocol&&(google.ml&&google.ml(Error(\"a\"),!1,{src:a,glmm:1}),a=\"\");return a}\n",
      "function t(a,b,c,d,k){var e=\"\";-1===b.search(\"&ei=\")&&(e=\"&ei=\"+p(d),-1===b.search(\"&lei=\")&&(d=q(d))&&(e+=\"&lei=\"+d));d=\"\";var g=-1===b.search(\"&cshid=\")&&\"slh\"!==a,f=[];f.push([\"zx\",Date.now().toString()]);h._cshid&&g&&f.push([\"cshid\",h._cshid]);c=c();null!=c&&f.push([\"opi\",c.toString()]);for(c=0;c<f.length;c++){if(0===c||0<c)d+=\"&\";d+=f[c][0]+\"=\"+f[c][1]}return\"/\"+(k||\"gen_204\")+\"?atyp=i&ct=\"+String(a)+\"&cad=\"+(b+e+d)};m=google.kEI;google.getEI=p;google.getLEI=q;google.ml=function(){return null};google.log=function(a,b,c,d,k,e){e=void 0===e?l:e;c||(c=t(a,b,e,d,k));if(c=r(c)){a=new Image;var g=n.length;n[g]=a;a.onerror=a.onload=a.onabort=function(){delete n[g]};a.src=c}};google.logUrl=function(a,b){b=void 0===b?l:b;return t(\"\",a,b)};}).call(this);(function(){google.y={};google.sy=[];google.x=function(a,b){if(a)var c=a.id;else{do c=Math.random();while(google.y[c])}google.y[c]=[a,b];return!1};google.sx=function(a){google.sy.push(a)};google.lm=[];google.plm=function(a){google.lm.push.apply(google.lm,a)};google.lq=[];google.load=function(a,b,c){google.lq.push([[a],b,c])};google.loadAll=function(a,b){google.lq.push([a,b])};google.bx=!1;google.lx=function(){};var d=[];google.fce=function(a,b,c,e){d.push([a,b,c,e])};google.qce=d;}).call(this);google.f={};(function(){\n",
      "document.documentElement.addEventListener(\"submit\",function(b){var a;if(a=b.target){var c=a.getAttribute(\"data-submitfalse\");a=\"1\"===c||\"q\"===c&&!a.elements.q.value?!0:!1}else a=!1;a&&(b.preventDefault(),b.stopPropagation())},!0);document.documentElement.addEventListener(\"click\",function(b){var a;a:{for(a=b.target;a&&a!==document.documentElement;a=a.parentElement)if(\"A\"===a.tagName){a=\"1\"===a.getAttribute(\"data-nohref\");break a}a=!1}a&&b.preventDefault()},!0);}).call(this);</script><style>#gb{font:13px/27px Arial,sans-serif;height:30px}#gbz,#gbg{position:absolute;white-space:nowrap;top:0;height:30px;z-index:1000}#gbz{right:0;padding-right:4px}#gbg{left:0;padding-left:5px}#gbs{background:transparent;position:absolute;top:-999px;visibility:hidden;z-index:998;left:0}.gbto #gbs{background:#fff}#gbx3,#gbx4{background-color:#2d2d2d;background-image:none;_background-image:none;background-position:0 -138px;background-repeat:repeat-x;border-bottom:1px solid #000;font-size:24px;height:29px;_height:30px;opacity:1;filter:alpha(opacity=100);position:absolute;top:0;width:100%;z-index:990}#gbx3{right:0}#gbx4{left:0}#gbb{position:relative}#gbbw{right:0;position:absolute;top:30px;width:100%}.gbtcb{position:absolute;visibility:hidden}#gbz .gbtcb{left:0}#gbg .gbtcb{right:0}.gbxx{display:none !important}.gbxo{opacity:0 !important;filter:alpha(opacity=0) !important}.gbm{position:absolute;z-index:999;top:-999px;visibility:hidden;text-align:right;border:1px solid #bebebe;background:#fff;-moz-box-shadow:-1px 1px 1px rgba(0,0,0,.2);-webkit-box-shadow:0 2px 4px rgba(0,0,0,.2);box-shadow:0 2px 4px rgba(0,0,0,.2)}.gbrtl .gbm{-moz-box-shadow:1px 1px 1px rgba(0,0,0,.2)}.gbto .gbm,.gbto #gbs{top:29px;visibility:visible}#gbz .gbm{right:0}#gbg .gbm{left:0}.gbxms{background-color:#ccc;display:block;position:absolute;z-index:1;top:-1px;right:-2px;left:-2px;bottom:-2px;opacity:.4;-moz-border-radius:3px;filter:progid:DXImageTransform.Microsoft.Blur(pixelradius=5);*opacity:1;*top:-2px;*right:-5px;*left:5px;*bottom:4px;-ms-filter:\"progid:DXImageTransform.Microsoft.Blur(pixelradius=5)\";opacity:1\\0/;top:-4px\\0/;right:-6px\\0/;left:5px\\0/;bottom:4px\\0/}.gbma{position:relative;top:-1px;border-style:solid dashed dashed;border-color:transparent;border-top-color:#c0c0c0;display:-moz-inline-box;display:inline-block;font-size:0;height:0;line-height:0;width:0;border-width:3px 3px 0;padding-top:1px;right:4px}#gbztms1,#gbi4m1,#gbi4s,#gbi4t{zoom:1}.gbtc,.gbmc,.gbmcc{display:block;list-style:none;margin:0;padding:0}.gbmc{background:#fff;padding:10px 0;position:relative;z-index:2;zoom:1}.gbt{position:relative;display:-moz-inline-box;display:inline-block;line-height:27px;padding:0;vertical-align:top}.gbt{*display:inline}.gbto{box-shadow:0 2px 4px rgba(0,0,0,.2);-moz-box-shadow:0 2px 4px rgba(0,0,0,.2);-webkit-box-shadow:0 2px 4px rgba(0,0,0,.2)}.gbzt,.gbgt{cursor:pointer;display:block;text-decoration:none !important}span#gbg6,span#gbg4{cursor:default}.gbts{border-left:1px solid transparent;border-right:1px solid transparent;display:block;*display:inline-block;padding:0 5px;position:relative;z-index:1000}.gbts{*display:inline}.gbzt .gbts{display:inline;zoom:1}.gbto .gbts{background:#fff;border-color:#bebebe;color:#36c;padding-bottom:1px;padding-top:2px}.gbz0l .gbts{color:#fff;font-weight:bold}.gbtsa{padding-left:9px}#gbz .gbzt,#gbz .gbgt,#gbg .gbgt{color:#ccc!important}.gbtb2{display:block;border-top:2px solid transparent}.gbto .gbzt .gbtb2,.gbto .gbgt .gbtb2{border-top-width:0}.gbtb .gbts{background:url(https://ssl.gstatic.com/gb/images/b_8d5afc09.png);_background:url(https://ssl.gstatic.com/gb/images/b8_3615d64d.png);background-position:-27px -22px;border:0;font-size:0;padding:29px 0 0;*padding:27px 0 0;width:1px}.gbzt:hover,.gbzt:focus,.gbgt-hvr,.gbgt:focus{background-color:#4c4c4c;background-image:none;_background-image:none;background-position:0 -102px;background-repeat:repeat-x;outline:none;text-decoration:none !important}.gbpdjs .gbto .gbm{min-width:99%}.gbz0l .gbtb2{border-top-color:#dd4b39!important}#gbi4s,#gbi4s1{font-weight:bold}#gbg6.gbgt-hvr,#gbg6.gbgt:focus{background-color:transparent;background-image:none}.gbg4a{font-size:0;line-height:0}.gbg4a .gbts{padding:27px 5px 0;*padding:25px 5px 0}.gbto .gbg4a .gbts{padding:29px 5px 1px;*padding:27px 5px 1px}#gbi4i,#gbi4id{right:5px;border:0;height:24px;position:absolute;top:1px;width:24px}.gbto #gbi4i,.gbto #gbi4id{top:3px}.gbi4p{display:block;width:24px}#gbi4id{background-position:-44px -101px}#gbmpid{background-position:0 0}#gbmpi,#gbmpid{border:none;display:inline-block;height:48px;width:48px}#gbmpiw{display:inline-block;line-height:9px;padding-right:20px;margin-top:10px;position:relative}#gbmpi,#gbmpid,#gbmpiw{*display:inline}#gbg5{font-size:0}#gbgs5{padding:5px !important}.gbto #gbgs5{padding:7px 5px 6px !important}#gbi5{background:url(https://ssl.gstatic.com/gb/images/b_8d5afc09.png);_background:url(https://ssl.gstatic.com/gb/images/b8_3615d64d.png);background-position:0 0;display:block;font-size:0;height:17px;width:16px}.gbto #gbi5{background-position:-6px -22px}.gbn .gbmt,.gbn .gbmt:visited,.gbnd .gbmt,.gbnd .gbmt:visited{color:#dd8e27 !important}.gbf .gbmt,.gbf .gbmt:visited{color:#900 !important}.gbmt,.gbml1,.gbmlb,.gbmt:visited,.gbml1:visited,.gbmlb:visited{color:#36c !important;text-decoration:none !important}.gbmt,.gbmt:visited{display:block}.gbml1,.gbmlb,.gbml1:visited,.gbmlb:visited{display:inline-block;margin:0 10px}.gbml1,.gbmlb,.gbml1:visited,.gbmlb:visited{*display:inline}.gbml1,.gbml1:visited{padding:0 10px}.gbml1-hvr,.gbml1:focus{outline:none;text-decoration:underline !important}#gbpm .gbml1{display:inline;margin:0;padding:0;white-space:nowrap}.gbmlb,.gbmlb:visited{line-height:27px}.gbmlb-hvr,.gbmlb:focus{outline:none;text-decoration:underline !important}.gbmlbw{color:#ccc;margin:0 10px}.gbmt{padding:0 20px}.gbmt:hover,.gbmt:focus{background:#eee;cursor:pointer;outline:0 solid black;text-decoration:none !important}.gbm0l,.gbm0l:visited{color:#000 !important;font-weight:bold}.gbmh{border-top:1px solid #bebebe;font-size:0;margin:10px 0}#gbd4 .gbmc{background:#f5f5f5;padding-top:0}#gbd4 .gbsbic::-webkit-scrollbar-track:vertical{background-color:#f5f5f5;margin-top:2px}#gbmpdv{background:#fff;border-bottom:1px solid #bebebe;-moz-box-shadow:0 2px 4px rgba(0,0,0,.12);-o-box-shadow:0 2px 4px rgba(0,0,0,.12);-webkit-box-shadow:0 2px 4px rgba(0,0,0,.12);box-shadow:0 2px 4px rgba(0,0,0,.12);position:relative;z-index:1}#gbd4 .gbmh{margin:0}.gbmtc{padding:0;margin:0;line-height:27px}.GBMCC:last-child:after,#GBMPAL:last-child:after{content:'\\0A\\0A';white-space:pre;position:absolute}#gbmps{*zoom:1}#gbd4 .gbpc,#gbmpas .gbmt{line-height:17px}#gbd4 .gbpgs .gbmtc{line-height:27px}#gbd4 .gbmtc{border-bottom:1px solid #bebebe}#gbd4 .gbpc{display:inline-block;margin:16px 0 10px;padding-left:50px;vertical-align:top}#gbd4 .gbpc{*display:inline}.gbpc .gbps,.gbpc .gbps2{display:block;margin:0 20px}#gbmplp.gbps{margin:0 10px}.gbpc .gbps{color:#000;font-weight:bold}.gbpc .gbpd{margin-bottom:5px}.gbpd .gbmt,.gbpd .gbps{color:#666 !important}.gbpd .gbmt{opacity:.4;filter:alpha(opacity=40)}.gbps2{color:#666;display:block}.gbp0{display:none}.gbp0 .gbps2{font-weight:bold}#gbd4 .gbmcc{margin-top:5px}.gbpmc{background:#fef9db}.gbpmc .gbpmtc{padding:10px 20px}#gbpm{border:0;*border-collapse:collapse;border-spacing:0;margin:0;white-space:normal}#gbpm .gbpmtc{border-top:none;color:#000 !important;font:11px Arial,sans-serif}#gbpms{*white-space:nowrap}.gbpms2{font-weight:bold;white-space:nowrap}#gbmpal{*border-collapse:collapse;border-spacing:0;border:0;margin:0;white-space:nowrap;width:100%}.gbmpala,.gbmpalb{font:13px Arial,sans-serif;line-height:27px;padding:10px 20px 0;white-space:nowrap}.gbmpala{padding-right:0;text-align:right}.gbmpalb{padding-left:0;text-align:left}#gbmpasb .gbps{color:#000}#gbmpal .gbqfbb{margin:0 20px}.gbp0 .gbps{*display:inline}a.gbiba{margin:8px 20px 10px}.gbmpiaw{display:inline-block;padding-left:10px;margin-bottom:6px;margin-top:10px}.gbxv{visibility:hidden}.gbmpiaa{display:block;margin-top:10px}.gbmpia{border:none;display:block;height:48px;width:48px}.gbmpnw{display:inline-block;height:auto;margin:10px 0;vertical-align:top}\n",
      ".gbqfb,.gbqfba,.gbqfbb{-moz-border-radius:2px;-webkit-border-radius:2px;border-radius:2px;cursor:default !important;display:inline-block;font-weight:bold;height:29px;line-height:29px;min-width:54px;*min-width:70px;padding:0 8px;text-align:center;text-decoration:none !important;-moz-user-select:none;-webkit-user-select:none}.gbqfb:focus,.gbqfba:focus,.gbqfbb:focus{border:1px solid #4d90fe;-moz-box-shadow:inset 0 0 0 1px rgba(255, 255, 255, 0.5);-webkit-box-shadow:inset 0 0 0 1px rgba(255, 255, 255, 0.5);box-shadow:inset 0 0 0 1px rgba(255, 255, 255, 0.5);outline:none}.gbqfb-hvr:focus,.gbqfba-hvr:focus,.gbqfbb-hvr:focus{-webkit-box-shadow:inset 0 0 0 1px #fff,0 1px 1px rgba(0,0,0,.1);-moz-box-shadow:inset 0 0 0 1px #fff,0 1px 1px rgba(0,0,0,.1);box-shadow:inset 0 0 0 1px #fff,0 1px 1px rgba(0,0,0,.1)}.gbqfb-no-focus:focus{border:1px solid #3079ed;-moz-box-shadow:none;-webkit-box-shadow:none;box-shadow:none}.gbqfb-hvr,.gbqfba-hvr,.gbqfbb-hvr{-webkit-box-shadow:0 1px 1px rgba(0,0,0,.1);-moz-box-shadow:0 1px 1px rgba(0,0,0,.1);box-shadow:0 1px 1px rgba(0,0,0,.1)}.gbqfb::-moz-focus-inner,.gbqfba::-moz-focus-inner,.gbqfbb::-moz-focus-inner{border:0}.gbqfba,.gbqfbb{border:1px solid #dcdcdc;border-color:rgba(0,0,0,.1);color:#444 !important;font-size:11px}.gbqfb{background-color:#4d90fe;background-image:-webkit-gradient(linear,left top,left bottom,from(#4d90fe),to(#4787ed));background-image:-webkit-linear-gradient(top,#4d90fe,#4787ed);background-image:-moz-linear-gradient(top,#4d90fe,#4787ed);background-image:-ms-linear-gradient(top,#4d90fe,#4787ed);background-image:-o-linear-gradient(top,#4d90fe,#4787ed);background-image:linear-gradient(top,#4d90fe,#4787ed);filter:progid:DXImageTransform.Microsoft.gradient(startColorStr='#4d90fe',EndColorStr='#4787ed');border:1px solid #3079ed;color:#fff!important;margin:0 0}.gbqfb-hvr{border-color:#2f5bb7}.gbqfb-hvr:focus{border-color:#2f5bb7}.gbqfb-hvr,.gbqfb-hvr:focus{background-color:#357ae8;background-image:-webkit-gradient(linear,left top,left bottom,from(#4d90fe),to(#357ae8));background-image:-webkit-linear-gradient(top,#4d90fe,#357ae8);background-image:-moz-linear-gradient(top,#4d90fe,#357ae8);background-image:-ms-linear-gradient(top,#4d90fe,#357ae8);background-image:-o-linear-gradient(top,#4d90fe,#357ae8);background-image:linear-gradient(top,#4d90fe,#357ae8)}.gbqfb:active{background-color:inherit;-webkit-box-shadow:inset 0 1px 2px rgba(0, 0, 0, 0.3);-moz-box-shadow:inset 0 1px 2px rgba(0, 0, 0, 0.3);box-shadow:inset 0 1px 2px rgba(0, 0, 0, 0.3)}.gbqfba{background-color:#f5f5f5;background-image:-webkit-gradient(linear,left top,left bottom,from(#f5f5f5),to(#f1f1f1));background-image:-webkit-linear-gradient(top,#f5f5f5,#f1f1f1);background-image:-moz-linear-gradient(top,#f5f5f5,#f1f1f1);background-image:-ms-linear-gradient(top,#f5f5f5,#f1f1f1);background-image:-o-linear-gradient(top,#f5f5f5,#f1f1f1);background-image:linear-gradient(top,#f5f5f5,#f1f1f1);filter:progid:DXImageTransform.Microsoft.gradient(startColorStr='#f5f5f5',EndColorStr='#f1f1f1')}.gbqfba-hvr,.gbqfba-hvr:active{background-color:#f8f8f8;background-image:-webkit-gradient(linear,left top,left bottom,from(#f8f8f8),to(#f1f1f1));background-image:-webkit-linear-gradient(top,#f8f8f8,#f1f1f1);background-image:-moz-linear-gradient(top,#f8f8f8,#f1f1f1);background-image:-ms-linear-gradient(top,#f8f8f8,#f1f1f1);background-image:-o-linear-gradient(top,#f8f8f8,#f1f1f1);background-image:linear-gradient(top,#f8f8f8,#f1f1f1);filter:progid:DXImageTransform.Microsoft.gradient(startColorStr='#f8f8f8',EndColorStr='#f1f1f1')}.gbqfbb{background-color:#fff;background-image:-webkit-gradient(linear,left top,left bottom,from(#fff),to(#fbfbfb));background-image:-webkit-linear-gradient(top,#fff,#fbfbfb);background-image:-moz-linear-gradient(top,#fff,#fbfbfb);background-image:-ms-linear-gradient(top,#fff,#fbfbfb);background-image:-o-linear-gradient(top,#fff,#fbfbfb);background-image:linear-gradient(top,#fff,#fbfbfb);filter:progid:DXImageTransform.Microsoft.gradient(startColorStr='#ffffff',EndColorStr='#fbfbfb')}.gbqfbb-hvr,.gbqfbb-hvr:active{background-color:#fff;background-image:-webkit-gradient(linear,left top,left bottom,from(#fff),to(#f8f8f8));background-image:-webkit-linear-gradient(top,#fff,#f8f8f8);background-image:-moz-linear-gradient(top,#fff,#f8f8f8);background-image:-ms-linear-gradient(top,#fff,#f8f8f8);background-image:-o-linear-gradient(top,#fff,#f8f8f8);background-image:linear-gradient(top,#fff,#f8f8f8);filter:progid:DXImageTransform.Microsoft.gradient(startColorStr='#ffffff',EndColorStr='#f8f8f8')}.gbqfba-hvr,.gbqfba-hvr:active,.gbqfbb-hvr,.gbqfbb-hvr:active{border-color:#c6c6c6;-webkit-box-shadow:0 1px 1px rgba(0,0,0,.1);-moz-box-shadow:0 1px 1px rgba(0,0,0,.1);box-shadow:0 1px 1px rgba(0,0,0,.1);color:#222 !important}.gbqfba:active,.gbqfbb:active{-webkit-box-shadow:inset 0 1px 2px rgba(0,0,0,.1);-moz-box-shadow:inset 0 1px 2px rgba(0,0,0,.1);box-shadow:inset 0 1px 2px rgba(0,0,0,.1)}\n",
      "#gbmpas{max-height:220px}#gbmm{max-height:530px}.gbsb{-webkit-box-sizing:border-box;display:block;position:relative;*zoom:1}.gbsbic{overflow:auto}.gbsbis .gbsbt,.gbsbis .gbsbb{-webkit-mask-box-image:-webkit-gradient(linear,left top,right top,color-stop(0,rgba(0,0,0,.1)),color-stop(.5,rgba(0,0,0,.8)),color-stop(1,rgba(0,0,0,.1)));left:0;margin-right:0;opacity:0;position:absolute;width:100%}.gbsb .gbsbt:after,.gbsb .gbsbb:after{content:\"\";display:block;height:0;left:0;position:absolute;width:100%}.gbsbis .gbsbt{background:-webkit-gradient(linear,left top,left bottom,from(rgba(0,0,0,.2)),to(rgba(0,0,0,0)));background-image:-webkit-linear-gradient(top,rgba(0,0,0,.2),rgba(0,0,0,0));background-image:-moz-linear-gradient(top,rgba(0,0,0,.2),rgba(0,0,0,0));background-image:-ms-linear-gradient(top,rgba(0,0,0,.2),rgba(0,0,0,0));background-image:-o-linear-gradient(top,rgba(0,0,0,.2),rgba(0,0,0,0));background-image:linear-gradient(top,rgba(0,0,0,.2),rgba(0,0,0,0));height:6px;top:0}.gbsb .gbsbt:after{border-top:1px solid #ebebeb;border-color:rgba(0,0,0,.3);top:0}.gbsb .gbsbb{-webkit-mask-box-image:-webkit-gradient(linear,left top,right top,color-stop(0,rgba(0,0,0,.1)),color-stop(.5,rgba(0,0,0,.8)),color-stop(1,rgba(0,0,0,.1)));background:-webkit-gradient(linear,left bottom,left top,from(rgba(0,0,0,.2)),to(rgba(0,0,0,0)));background-image:-webkit-linear-gradient(bottom,rgba(0,0,0,.2),rgba(0,0,0,0));background-image:-moz-linear-gradient(bottom,rgba(0,0,0,.2),rgba(0,0,0,0));background-image:-ms-linear-gradient(bottom,rgba(0,0,0,.2),rgba(0,0,0,0));background-image:-o-linear-gradient(bottom,rgba(0,0,0,.2),rgba(0,0,0,0));background-image:linear-gradient(bottom,rgba(0,0,0,.2),rgba(0,0,0,0));bottom:0;height:4px}.gbsb .gbsbb:after{border-bottom:1px solid #ebebeb;border-color:rgba(0,0,0,.3);bottom:0}\n",
      "</style><style>body,td,a,p,.h{font-family:arial,sans-serif}body{margin:0;overflow-y:scroll}#gog{padding:3px 8px 0}td{line-height:.8em}.gac_m td{line-height:17px}form{margin-bottom:20px}.h{color:#1967d2}em{font-weight:bold;font-style:normal}.lst{height:25px;width:496px}.gsfi,.lst{font:18px arial,sans-serif}.gsfs{font:17px arial,sans-serif}.ds{display:inline-box;display:inline-block;margin:3px 0 4px;margin-right:4px}input{font-family:inherit}body{background:#fff;color:#000}a{color:#681da8;text-decoration:none}a:hover,a:active{text-decoration:underline}.fl a{color:#1967d2}a:visited{color:#681da8}.sblc{padding-top:5px}.sblc a{display:block;margin:2px 0;margin-right:13px;font-size:11px}.lsbb{background:#f8f9fa;border:solid 1px;border-color:#dadce0 #dadce0 #70757a #70757a;height:30px}.lsbb{display:block}#WqQANb a{display:inline-block;margin:0 12px}.lsb{background:url(/images/nav_logo229.png) 0 -261px repeat-x;color:#000;border:none;cursor:pointer;height:30px;margin:0;outline:0;font:15px arial,sans-serif;vertical-align:top}.lsb:active{background:#dadce0}.lst:focus{outline:none}.Ucigb{width:458px}</style><script nonce=\"bjx4sRKdf2P2OAPqFSYBAg\">(function(){window.google.erd={jsr:1,bv:1908,de:true};\n",
      "var h=this||self;var k,l=null!=(k=h.mei)?k:1,n,p=null!=(n=h.sdo)?n:!0,q=0,r,t=google.erd,v=t.jsr;google.ml=function(a,b,d,m,e){e=void 0===e?2:e;b&&(r=a&&a.message);void 0===d&&(d={});d.cad=\"ple_\"+google.ple+\".aple_\"+google.aple;if(google.dl)return google.dl(a,e,d),null;if(0>v){window.console&&console.error(a,d);if(-2===v)throw a;b=!1}else b=!a||!a.message||\"Error loading script\"===a.message||q>=l&&!m?!1:!0;if(!b)return null;q++;d=d||{};b=encodeURIComponent;var c=\"/gen_204?atyp=i&ei=\"+b(google.kEI);google.kEXPI&&(c+=\"&jexpid=\"+b(google.kEXPI));c+=\"&srcpg=\"+b(google.sn)+\"&jsr=\"+b(t.jsr)+\"&bver=\"+\n",
      "b(t.bv);var f=a.lineNumber;void 0!==f&&(c+=\"&line=\"+f);var g=a.fileName;g&&(0<g.indexOf(\"-extension:/\")&&(e=3),c+=\"&script=\"+b(g),f&&g===window.location.href&&(f=document.documentElement.outerHTML.split(\"\\n\")[f],c+=\"&cad=\"+b(f?f.substring(0,300):\"No script found.\")));google.ple&&1===google.ple&&(e=2);c+=\"&jsel=\"+e;for(var u in d)c+=\"&\",c+=b(u),c+=\"=\",c+=b(d[u]);c=c+\"&emsg=\"+b(a.name+\": \"+a.message);c=c+\"&jsst=\"+b(a.stack||\"N/A\");12288<=c.length&&(c=c.substr(0,12288));a=c;m||google.log(0,\"\",a);return a};window.onerror=function(a,b,d,m,e){r!==a&&(a=e instanceof Error?e:Error(a),void 0===d||\"lineNumber\"in a||(a.lineNumber=d),void 0===b||\"fileName\"in a||(a.fileName=b),google.ml(a,!1,void 0,!1,\"SyntaxError\"===a.name||\"SyntaxError\"===a.message.substring(0,11)||-1!==a.message.indexOf(\"Script error\")?3:0));r=null;p&&q>=l&&(window.onerror=null)};})();(function(){try{/*\n",
      "\n",
      " Copyright The Closure Library Authors.\n",
      " SPDX-License-Identifier: Apache-2.0\n",
      "*/\n",
      "var e=this||self;var aa=function(a,b,c,d){d=d||{};d._sn=[\"cfg\",b,c].join(\".\");window.gbar.logger.ml(a,d)};var f=window.gbar=window.gbar||{},h=window.gbar.i=window.gbar.i||{},da;function _tvn(a,b){a=parseInt(a,10);return isNaN(a)?b:a}function _tvf(a,b){a=parseFloat(a);return isNaN(a)?b:a}function _tvv(a){return!!a}function n(a,b,c){(c||f)[a]=b}f.bv={n:_tvn(\"2\",0),r:\"\",f:\".66.\",e:\"\",m:_tvn(\"1\",1)};\n",
      "function ea(a,b,c){var d=\"on\"+b;if(a.addEventListener)a.addEventListener(b,c,!1);else if(a.attachEvent)a.attachEvent(d,c);else{var g=a[d];a[d]=function(){var k=g.apply(this,arguments),m=c.apply(this,arguments);return void 0==k?m:void 0==m?k:m&&k}}}var fa=function(a){return function(){return f.bv.m==a}},ha=fa(1),ia=fa(2);n(\"sb\",ha);n(\"kn\",ia);h.a=_tvv;h.b=_tvf;h.c=_tvn;h.i=aa;var q=window.gbar.i.i;var r=function(){},u=function(){},la=function(a){var b=new Image,c=ja;b.onerror=b.onload=b.onabort=function(){try{delete ka[c]}catch(d){}};ka[c]=b;b.src=a;ja=c+1},ka=[],ja=0;n(\"logger\",{il:u,ml:r,log:la});var v=window.gbar.logger;var w={},x={createScript:function(a){return a}};x=self.trustedTypes&&self.trustedTypes.createPolicy?self.trustedTypes.createPolicy(\"ogb#inline\",x):x;\n",
      "var ma={},y=[],na=h.b(\"0.1\",.1),oa=h.a(\"1\",!0),pa=function(a,b){y.push([a,b])},qa=function(a,b){w[a]=b},ra=function(a){return a in w},z={},A=function(a,b){z[a]||(z[a]=[]);z[a].push(b)},B=function(a){A(\"m\",a)},C=function(a,b){var c=document.createElement(\"script\");c.src=x.createScript(a);c.async=oa;Math.random()<na&&(c.onerror=function(){c.onerror=null;r(Error(\"Bundle load failed: name=\"+(b||\"UNK\")+\" url=\"+a))});(document.getElementById(\"xjsc\")||\n",
      "document.getElementsByTagName(\"body\")[0]||document.getElementsByTagName(\"head\")[0]).appendChild(c)},F=function(a){for(var b,c=0;(b=y[c])&&b[0]!=a;++c);!b||b[1].l||b[1].s||(b[1].s=!0,D(2,a),b[1].url&&C(b[1].url,a),b[1].libs&&E&&E(b[1].libs))},sa=function(a){A(\"gc\",a)},G=null,ta=function(a){G=a},D=function(a,b,c){if(G){a={t:a,b:b};if(c)for(var d in c)a[d]=c[d];try{G(a)}catch(g){}}};n(\"mdc\",w);n(\"mdi\",ma);n(\"bnc\",y);n(\"qGC\",sa);n(\"qm\",B);n(\"qd\",z);n(\"lb\",F);n(\"mcf\",qa);n(\"bcf\",pa);n(\"aq\",A);\n",
      "n(\"mdd\",\"\");n(\"has\",ra);n(\"trh\",ta);n(\"tev\",D);if(h.a(\"m;/_/scs/abc-static/_/js/k=gapi.gapi.en.CzrNRWo3AFk.O/d=1/rs=AHpOoo8xPbrtpW2bPUIcgU2adGqIEpV82Q/m=__features__\")){var H=function(a,b){return ua?a||b:b},I=h.a(\"1\"),va=h.a(\"\"),wa=h.a(\"\"),ua=h.a(\"\"),J=window.gapi=H(window.gapi,{}),K=function(a,b){var c=function(){f.dgl(a,b)};I?B(c):(A(\"gl\",c),F(\"gl\"))},xa={},ya=function(a){a=a.split(\":\");for(var b;(b=a.pop())&&xa[b];);return!b},E=function(a){function b(){for(var c=a.split(\":\"),d,g=0;d=c[g];++g)xa[d]=1;for(c=0;d=y[c];++c)d=d[1],(g=d.libs)&&!d.l&&d.i&&ya(g)&&\n",
      "d.i()}f.dgl(a,b)},L=window.___jsl=H(window.___jsl,{});L.h=H(L.h,\"m;/_/scs/abc-static/_/js/k=gapi.gapi.en.CzrNRWo3AFk.O/d=1/rs=AHpOoo8xPbrtpW2bPUIcgU2adGqIEpV82Q/m=__features__\");L.ms=H(L.ms,\"https://apis.google.com\");L.m=H(L.m,\"\");L.l=H(L.l,[]);L.dpo=H(L.dpo,\"\");I||y.push([\"gl\",{url:\"//ssl.gstatic.com/gb/js/abc/glm_e7bb39a7e1a24581ff4f8d199678b1b9.js\"}]);var za={pu:va,sh:\"\",si:wa,hl:\"ar\"};w.gl=za;ua?J.load||n(\"load\",K,J):n(\"load\",K,J);n(\"dgl\",K);n(\"agl\",ya);h.o=I};var Aa=h.b(\"0.1\",.001),Ba=0;\n",
      "function _mlToken(a,b){try{if(1>Ba){Ba++;var c=a;b=b||{};var d=encodeURIComponent,g=[\"//www.google.com/gen_204?atyp=i&zx=\",(new Date).getTime(),\"&jexpid=\",d(\"28834\"),\"&srcpg=\",d(\"prop=1\"),\"&jsr=\",Math.round(1/Aa),\"&ogev=\",d(\"vyZeZfGbEpHwsgL1sI3YDw\"),\"&ogf=\",f.bv.f,\"&ogrp=\",d(\"\"),\"&ogv=\",d(\"582145831.0\"),\"&oggv=\"+d(\"es_plusone_gc_20231003.0_p0\"),\"&ogd=\",d(\"com\"),\"&ogc=\",d(\"LBN\"),\"&ogl=\",d(\"ar\")];b._sn&&(b._sn=\n",
      "\"og.\"+b._sn);for(var k in b)g.push(\"&\"),g.push(d(k)),g.push(\"=\"),g.push(d(b[k]));g.push(\"&emsg=\");g.push(d(c.name+\":\"+c.message));var m=g.join(\"\");Ca(m)&&(m=m.substr(0,2E3));var p=m;var l=window.gbar.logger._aem(a,p);la(l)}}catch(t){}}var Ca=function(a){return 2E3<=a.length},Ga=function(a,b){return b};function Ja(a){r=a;n(\"_itl\",Ca,v);n(\"_aem\",Ga,v);n(\"ml\",r,v);a={};w.er=a}h.a(\"\")?Ja(function(a){throw a;}):h.a(\"1\")&&Math.random()<Aa&&Ja(_mlToken);var _E=\"right\",Ka=h.a(\"\"),La=h.a(\"\"),N=function(a,b){var c=a.className;M(a,b)||(a.className+=(\"\"!=c?\" \":\"\")+b)},O=function(a,b){var c=a.className;b=new RegExp(\"\\\\s?\\\\b\"+b+\"\\\\b\");c&&c.match(b)&&(a.className=c.replace(b,\"\"))},M=function(a,b){b=new RegExp(\"\\\\b\"+b+\"\\\\b\");a=a.className;return!(!a||!a.match(b))},Ma=function(a,b){M(a,b)?O(a,b):N(a,b)},Na=function(a,b){a[b]=function(c){var d=arguments;f.qm(function(){a[b].apply(this,d)})}},Oa=function(a){a=\n",
      "[La?\"\":\"https://www.gstatic.com\",\"/og/_/js/d=1/k=\",\"og.og.en_US.FIC9ARLQkXE.es5.O\",\"/rt=j/m=\",a,\"/rs=\",\"AA2YrTuAi9zubm5_SfzgxLUsOlXqm4EjWw\"];Ka&&a.push(\"?host=www.gstatic.com&bust=og.og.en_US.yF5CrNVWtoU.es5.DU\");a=a.join(\"\");C(a)};n(\"ca\",N);n(\"cr\",O);n(\"cc\",M);h.k=N;h.l=O;h.m=M;h.n=Ma;h.p=Oa;h.q=Na;var Pa=[\"gb_71\",\"gb_155\"],Qa;function Ra(a){Qa=a}function Sa(a){var b=Qa&&!a.href.match(/.*\\/accounts\\/ClearSID[?]/)&&encodeURIComponent(Qa());b&&(a.href=a.href.replace(/([?&]continue=)[^&]*/,\"$1\"+b))}function Ta(a){window.gApplication&&(a.href=window.gApplication.getTabUrl(a.href))}function Ua(a){try{var b=(document.forms[0].q||\"\").value;b&&(a.href=a.href.replace(/([?&])q=[^&]*|$/,function(c,d){return(d||\"&\")+\"q=\"+encodeURIComponent(b)}))}catch(c){q(c,\"sb\",\"pq\")}}\n",
      "var Va=function(){for(var a=[],b,c=0;b=Pa[c];++c)(b=document.getElementById(b))&&a.push(b);return a},Wa=function(){var a=Va();return 0<a.length?a[0]:null},Xa=function(){return document.getElementById(\"gb_70\")},P={},Q={},Ya={},R={},S=void 0,cb=function(a,b){try{var c=document.getElementById(\"gb\");N(c,\"gbpdjs\");T();Za(document.getElementById(\"gb\"))&&N(c,\"gbrtl\");if(b&&b.getAttribute){var d=b.getAttribute(\"aria-owns\");if(d.length){var g=document.getElementById(d);if(g){var k=b.parentNode;if(S==d)S=void 0,\n",
      "O(k,\"gbto\");else{if(S){var m=document.getElementById(S);if(m&&m.getAttribute){var p=m.getAttribute(\"aria-owner\");if(p.length){var l=document.getElementById(p);l&&l.parentNode&&O(l.parentNode,\"gbto\")}}}$a(g)&&ab(g);S=d;N(k,\"gbto\")}}}}B(function(){f.tg(a,b,!0)});bb(a)}catch(t){q(t,\"sb\",\"tg\")}},db=function(a){B(function(){f.close(a)})},eb=function(a){B(function(){f.rdd(a)})},Za=function(a){var b,c=document.defaultView;c&&c.getComputedStyle?(a=c.getComputedStyle(a,\"\"))&&(b=a.direction):b=a.currentStyle?\n",
      "a.currentStyle.direction:a.style.direction;return\"rtl\"==b},gb=function(a,b,c){if(a)try{var d=document.getElementById(\"gbd5\");if(d){var g=d.firstChild,k=g.firstChild,m=document.createElement(\"li\");m.className=b+\" gbmtc\";m.id=c;a.className=\"gbmt\";m.appendChild(a);if(k.hasChildNodes()){c=[[\"gbkc\"],[\"gbf\",\"gbe\",\"gbn\"],[\"gbkp\"],[\"gbnd\"]];d=0;var p=k.childNodes.length;g=!1;for(var l=-1,t,Da=0;t=c[Da];Da++){for(var ba=void 0,Ea=0;ba=t[Ea];Ea++){for(;d<p&&M(k.childNodes[d],ba);)d++;if(ba==b){k.insertBefore(m,\n",
      "k.childNodes[d]||null);g=!0;break}}if(g){if(d+1<k.childNodes.length){var Fa=k.childNodes[d+1];M(Fa.firstChild,\"gbmh\")||fb(Fa,t)||(l=d+1)}else if(0<=d-1){var Ha=k.childNodes[d-1];M(Ha.firstChild,\"gbmh\")||fb(Ha,t)||(l=d)}break}0<d&&d+1<p&&d++}if(0<=l){var ca=document.createElement(\"li\"),Ia=document.createElement(\"div\");ca.className=\"gbmtc\";Ia.className=\"gbmt gbmh\";ca.appendChild(Ia);k.insertBefore(ca,k.childNodes[l])}f.addHover&&f.addHover(a)}else k.appendChild(m)}}catch(ub){q(ub,\"sb\",\"al\")}},fb=function(a,\n",
      "b){for(var c=b.length,d=0;d<c;d++)if(M(a,b[d]))return!0;return!1},hb=function(a,b,c){gb(a,b,c)},ib=function(a,b){gb(a,\"gbe\",b)},jb=function(){B(function(){f.pcm&&f.pcm()})},kb=function(){B(function(){f.pca&&f.pca()})},lb=function(a,b,c,d,g,k,m,p,l,t){B(function(){f.paa&&f.paa(a,b,c,d,g,k,m,p,l,t)})},mb=function(a,b){P[a]||(P[a]=[]);P[a].push(b)},nb=function(a,b){Q[a]||(Q[a]=[]);Q[a].push(b)},ob=function(a,b){Ya[a]=b},pb=function(a,b){R[a]||(R[a]=[]);R[a].push(b)},bb=function(a){a.preventDefault&&\n",
      "a.preventDefault();a.returnValue=!1;a.cancelBubble=!0},qb=null,ab=function(a,b){T();if(a){rb(a,\"&#1580;&#1575;&#1585;&#1613; &#1575;&#1604;&#1601;&#1578;&#1581;&hellip;\");U(a,!0);b=\"undefined\"!=typeof b?b:1E4;var c=function(){sb(a)};qb=window.setTimeout(c,b)}},tb=function(a){T();a&&(U(a,!1),rb(a,\"\"))},sb=function(a){try{T();var b=a||document.getElementById(S);b&&(rb(b,\"&#1607;&#1584;&#1607; &#1575;&#1604;&#1582;&#1583;&#1605;&#1577; &#1594;&#1610;&#1585; &#1605;&#1578;&#1608;&#1601;&#1585;&#1577; &#1601;&#1610; &#1575;&#1604;&#1608;&#1602;&#1578; &#1575;&#1604;&#1581;&#1575;&#1604;&#1610;.%1$s&#1610;&#1615;&#1585;&#1580;&#1609; &#1573;&#1593;&#1575;&#1583;&#1577; &#1575;&#1604;&#1605;&#1581;&#1575;&#1608;&#1604;&#1577; &#1604;&#1575;&#1581;&#1602;&#1611;&#1575;.\",\"%1$s\"),U(b,!0))}catch(c){q(c,\"sb\",\"sdhe\")}},rb=function(a,b,c){if(a&&b){var d=$a(a);if(d){if(c){d.textContent=\"\";b=b.split(c);for(var g=0;c=\n",
      "b[g];g++){var k=document.createElement(\"div\");k.innerHTML=c;d.appendChild(k)}}else d.innerHTML=b;U(a,!0)}}},U=function(a,b){(b=void 0!==b?b:!0)?N(a,\"gbmsgo\"):O(a,\"gbmsgo\")},$a=function(a){for(var b,c=0;b=a.childNodes[c];c++)if(M(b,\"gbmsg\"))return b},T=function(){qb&&window.clearTimeout(qb)},vb=function(a){var b=\"inner\"+a;a=\"offset\"+a;return window[b]?window[b]:document.documentElement&&document.documentElement[a]?document.documentElement[a]:0},wb=function(){return!1},xb=function(){return!!S};\n",
      "n(\"so\",Wa);n(\"sos\",Va);n(\"si\",Xa);n(\"tg\",cb);n(\"close\",db);n(\"rdd\",eb);n(\"addLink\",hb);n(\"addExtraLink\",ib);n(\"pcm\",jb);n(\"pca\",kb);n(\"paa\",lb);n(\"ddld\",ab);n(\"ddrd\",tb);n(\"dderr\",sb);n(\"rtl\",Za);n(\"op\",xb);n(\"bh\",P);n(\"abh\",mb);n(\"dh\",Q);n(\"adh\",nb);n(\"ch\",R);n(\"ach\",pb);n(\"eh\",Ya);n(\"aeh\",ob);da=h.a(\"\")?Ta:Ua;n(\"qs\",da);n(\"setContinueCb\",Ra);n(\"pc\",Sa);n(\"bsy\",wb);h.d=bb;h.j=vb;var yb={};w.base=yb;y.push([\"m\",{url:\"//ssl.gstatic.com/gb/js/sem_5e6825101553e9529a89dc6f94e6d1c6.js\"}]);f.sg={c:\"1\"};n(\"wg\",{rg:{}});var zb={tiw:h.c(\"15000\",0),tie:h.c(\"30000\",0)};w.wg=zb;var Ab={thi:h.c(\"10000\",0),thp:h.c(\"180000\",0),tho:h.c(\"5000\",0),tet:h.b(\"0.5\",0)};w.wm=Ab;if(h.a(\"1\")){var Bb=h.a(\"\");y.push([\"gc\",{auto:Bb,url:\"//ssl.gstatic.com/gb/js/abc/gci_91f30755d6a6b787dcc2a4062e6e9824.js\",libs:\"googleapis.client:gapi.iframes\"}]);var Cb={version:\"gci_91f30755d6a6b787dcc2a4062e6e9824.js\",index:\"\",lang:\"ar\"};w.gc=Cb;var Db=function(a){window.googleapis&&window.iframes?a&&a():(a&&sa(a),F(\"gc\"))};n(\"lGC\",Db);h.a(\"1\")&&n(\"lPWF\",Db)};window.__PVT=\"\";function Eb(){}u=Eb;n(\"il\",u,v);var Fb={};w.il=Fb;var Gb=function(a,b,c,d,g,k,m,p,l,t){B(function(){f.paa(a,b,c,d,g,k,m,p,l,t)})},Hb=function(){B(function(){f.prm()})},Ib=function(a){B(function(){f.spn(a)})},Jb=function(a){B(function(){f.sps(a)})},Kb=function(a){B(function(){f.spp(a)})},Lb={\"27\":\"https://lh3.googleusercontent.com/ogw/default-user=s24\",\"27\":\"https://lh3.googleusercontent.com/ogw/default-user=s24\",\"27\":\"https://lh3.googleusercontent.com/ogw/default-user=s24\"},Mb=function(a){return(a=Lb[a])||\"https://lh3.googleusercontent.com/ogw/default-user=s24\"},\n",
      "Nb=function(){B(function(){f.spd()})};n(\"spn\",Ib);n(\"spp\",Kb);n(\"sps\",Jb);n(\"spd\",Nb);n(\"paa\",Gb);n(\"prm\",Hb);mb(\"gbd4\",Hb);\n",
      "if(h.a(\"\")){var Ob={d:h.a(\"\"),e:\"\",sanw:h.a(\"\"),p:\"https://lh3.googleusercontent.com/ogw/default-user=s96\",cp:\"1\",xp:h.a(\"1\"),mg:\"%1$s (&#1605;&#1601;&#1608;&#1590;)\",md:\"%1$s (&#1578;&#1604;&#1602;&#1575;&#1574;&#1610;)\",mh:\"220\",s:\"1\",pp:Mb,ppl:h.a(\"\"),ppa:h.a(\"\"),\n",
      "ppm:\"&#1589;&#1601;&#1581;&#1577; Google+\"};w.prf=Ob};var V,Pb,W,Qb,X=0,Rb=function(a,b,c){if(a.indexOf)return a.indexOf(b,c);if(Array.indexOf)return Array.indexOf(a,b,c);for(c=null==c?0:0>c?Math.max(0,a.length+c):c;c<a.length;c++)if(c in a&&a[c]===b)return c;return-1},Y=function(a,b){return-1==Rb(a,X)?(q(Error(X+\"_\"+b),\"up\",\"caa\"),!1):!0},Tb=function(a,b){Y([1,2],\"r\")&&(V[a]=V[a]||[],V[a].push(b),2==X&&window.setTimeout(function(){b(Sb(a))},0))},Ub=function(a,b,c){if(Y([1],\"nap\")&&c){for(var d=0;d<c.length;d++)Pb[c[d]]=!0;f.up.spl(a,b,\"nap\",c)}},Vb=\n",
      "function(a,b,c){if(Y([1],\"aop\")&&c){if(W)for(var d in W)W[d]=W[d]&&-1!=Rb(c,d);else for(W={},d=0;d<c.length;d++)W[c[d]]=!0;f.up.spl(a,b,\"aop\",c)}},Wb=function(){try{if(X=2,!Qb){Qb=!0;for(var a in V)for(var b=V[a],c=0;c<b.length;c++)try{b[c](Sb(a))}catch(d){q(d,\"up\",\"tp\")}}}catch(d){q(d,\"up\",\"mtp\")}},Sb=function(a){if(Y([2],\"ssp\")){var b=!Pb[a];W&&(b=b&&!!W[a]);return b}};Qb=!1;V={};Pb={};W=null;X=1;\n",
      "var Xb=function(a){var b=!1;try{b=a.cookie&&a.cookie.match(\"PREF\")}catch(c){}return!b},Yb=function(){try{return!!e.localStorage&&\"object\"==typeof e.localStorage}catch(a){return!1}},Zb=function(a){return a&&a.style&&a.style.behavior&&\"undefined\"!=typeof a.load},$b=function(a,b,c,d){try{Xb(document)||(d||(b=\"og-up-\"+b),Yb()?e.localStorage.setItem(b,c):Zb(a)&&(a.setAttribute(b,c),a.save(a.id)))}catch(g){g.code!=DOMException.QUOTA_EXCEEDED_ERR&&q(g,\"up\",\"spd\")}},ac=function(a,b,c){try{if(Xb(document))return\"\";\n",
      "c||(b=\"og-up-\"+b);if(Yb())return e.localStorage.getItem(b);if(Zb(a))return a.load(a.id),a.getAttribute(b)}catch(d){d.code!=DOMException.QUOTA_EXCEEDED_ERR&&q(d,\"up\",\"gpd\")}return\"\"},bc=function(a,b,c){a.addEventListener?a.addEventListener(b,c,!1):a.attachEvent&&a.attachEvent(\"on\"+b,c)},cc=function(a){for(var b,c=0;b=a[c];c++){var d=f.up;b=b in d&&d[b];if(!b)return!1}return!0},dc=function(a,b){try{if(Xb(a))return-1;var c=a.cookie.match(/OGPC=([^;]*)/);if(c&&c[1]){var d=c[1].match(new RegExp(\"\\\\b\"+\n",
      "b+\"-([0-9]+):\"));if(d&&d[1])return parseInt(d[1],10)}}catch(g){g.code!=DOMException.QUOTA_EXCEEDED_ERR&&q(g,\"up\",\"gcc\")}return-1};n(\"up\",{r:Tb,nap:Ub,aop:Vb,tp:Wb,ssp:Sb,spd:$b,gpd:ac,aeh:bc,aal:cc,gcc:dc});var Z=function(a,b){a[b]=function(c){var d=arguments;f.qm(function(){a[b].apply(this,d)})}};Z(f.up,\"sl\");Z(f.up,\"si\");Z(f.up,\"spl\");Z(f.up,\"dpc\");Z(f.up,\"iic\");f.mcf(\"up\",{sp:h.b(\"0.01\",1),tld:\"com.lb\",prid:\"1\"});function ec(){function a(){for(var l;(l=k[m++])&&\"m\"!=l[0]&&!l[1].auto;);l&&(D(2,l[0]),l[1].url&&C(l[1].url,l[0]),l[1].libs&&E&&E(l[1].libs));m<k.length&&setTimeout(a,0)}function b(){0<g--?setTimeout(b,0):a()}var c=h.a(\"1\"),d=h.a(\"\"),g=3,k=y,m=0,p=window.gbarOnReady;if(p)try{p()}catch(l){q(l,\"ml\",\"or\")}d?n(\"ldb\",a):c?ea(window,\"load\",b):b()}n(\"rdl\",ec);}catch(e){window.gbar&&gbar.logger&&gbar.logger.ml(e,{\"_sn\":\"cfg.init\"});}})();\n",
      "(function(){try{var b=window.gbar.i.i;var c=window.gbar;var f=function(d){try{var a=document.getElementById(\"gbom\");a&&d.appendChild(a.cloneNode(!0))}catch(e){b(e,\"omas\",\"aomc\")}};c.aomc=f;}catch(e){window.gbar&&gbar.logger&&gbar.logger.ml(e,{\"_sn\":\"cfg.init\"});}})();\n",
      "(function(){try{var a=window.gbar;a.mcf(\"pm\",{p:\"\"});}catch(e){window.gbar&&gbar.logger&&gbar.logger.ml(e,{\"_sn\":\"cfg.init\"});}})();\n",
      "(function(){try{var a=window.gbar;a.mcf(\"mm\",{s:\"1\"});}catch(e){window.gbar&&gbar.logger&&gbar.logger.ml(e,{\"_sn\":\"cfg.init\"});}})();\n",
      "(function(){try{var d=window.gbar.i.i;var e=window.gbar;var f=e.i;var g=f.c(\"1\",0),h=/\\bgbmt\\b/,k=function(a){try{var b=document.getElementById(\"gb_\"+g),c=document.getElementById(\"gb_\"+a);b&&f.l(b,h.test(b.className)?\"gbm0l\":\"gbz0l\");c&&f.k(c,h.test(c.className)?\"gbm0l\":\"gbz0l\")}catch(l){d(l,\"sj\",\"ssp\")}g=a},m=e.qs,n=function(a){var b=a.href;var c=window.location.href.match(/.*?:\\/\\/[^\\/]*/)[0];c=new RegExp(\"^\"+c+\"/search\\\\?\");(b=c.test(b))&&!/(^|\\\\?|&)ei=/.test(a.href)&&(b=window.google)&&b.kEXPI&&(a.href+=\"&ei=\"+b.kEI)},p=function(a){m(a);\n",
      "n(a)},q=function(){if(window.google&&window.google.sn){var a=/.*hp$/;return a.test(window.google.sn)?\"\":\"1\"}return\"-1\"};e.rp=q;e.slp=k;e.qs=p;e.qsi=n;}catch(e){window.gbar&&gbar.logger&&gbar.logger.ml(e,{\"_sn\":\"cfg.init\"});}})();\n",
      "(function(){try{/*\n",
      "\n",
      " Copyright The Closure Library Authors.\n",
      " SPDX-License-Identifier: Apache-2.0\n",
      "*/\n",
      "var a=this||self;var b=window.gbar;var c=b.i;var d=c.a,e=c.c,f={cty:\"LBN\",cv:\"582145831\",dbg:d(\"\"),ecv:\"0\",ei:e(\"vyZeZfGbEpHwsgL1sI3YDw\"),ele:d(\"1\"),esr:e(\"0.1\"),evts:[\"mousedown\",\"touchstart\",\"touchmove\",\"wheel\",\"keydown\"],gbl:\"es_plusone_gc_20231003.0_p0\",hd:\"com\",hl:\"ar\",irp:d(\"\"),pid:e(\"1\"),\n",
      "snid:e(\"28834\"),to:e(\"300000\"),u:e(\"\"),vf:\".66.\"},g=f,h=[\"bndcfg\"],k=a;h[0]in k||\"undefined\"==typeof k.execScript||k.execScript(\"var \"+h[0]);for(var l;h.length&&(l=h.shift());)h.length||void 0===g?k=k[l]&&k[l]!==Object.prototype[l]?k[l]:k[l]={}:k[l]=g;}catch(e){window.gbar&&gbar.logger&&gbar.logger.ml(e,{\"_sn\":\"cfg.init\"});}})();\n",
      "(function(){try{window.gbar.rdl();}catch(e){window.gbar&&gbar.logger&&gbar.logger.ml(e,{\"_sn\":\"cfg.init\"});}})();\n",
      "</script></head><body bgcolor=\"#fff\"><script nonce=\"bjx4sRKdf2P2OAPqFSYBAg\">(function(){var src='/images/nav_logo229.png';var iesg=false;document.body.onload = function(){window.n && window.n();if (document.images){new Image().src=src;}\n",
      "if (!iesg){document.f&&document.f.q.focus();document.gbqf&&document.gbqf.q.focus();}\n",
      "}\n",
      "})();</script><div id=\"mngb\"><div id=gb dir=rtl class=\"gbrtl\"><script nonce='bjx4sRKdf2P2OAPqFSYBAg'>window.gbar&&gbar.eli&&gbar.eli()</script><div id=gbw><div id=gbz><span class=gbtcb></span><ol id=gbzc class=gbtc><li class=gbt><a class=\"gbzt gbz0l gbp1\" id=gb_1 href=\"https://www.google.com.lb/webhp?tab=ww\"><span class=gbtb2></span><span class=gbts>&#1576;&#1581;&#1579;</span></a></li><li class=gbt><a class=gbzt id=gb_2 href=\"https://www.google.com/imghp?hl=ar&tab=wi\"><span class=gbtb2></span><span class=gbts>&#1589;&#1608;&#1585;</span></a></li><li class=gbt><a class=gbzt id=gb_8 href=\"https://maps.google.com.lb/maps?hl=ar&tab=wl\"><span class=gbtb2></span><span class=gbts>&#1582;&#1585;&#1575;&#1574;&#1591; Google</span></a></li><li class=gbt><a class=gbzt id=gb_78 href=\"https://play.google.com/?hl=ar&tab=w8\"><span class=gbtb2></span><span class=gbts>Play</span></a></li><li class=gbt><a class=gbzt id=gb_36 href=\"https://www.youtube.com/?tab=w1\"><span class=gbtb2></span><span class=gbts>YouTube</span></a></li><li class=gbt><a class=gbzt id=gb_426 href=\"https://news.google.com/?tab=wn\"><span class=gbtb2></span><span class=gbts>&#1575;&#1604;&#1571;&#1582;&#1576;&#1575;&#1585;</span></a></li><li class=gbt><a class=gbzt id=gb_23 href=\"https://mail.google.com/mail/?tab=wm\"><span class=gbtb2></span><span class=gbts>Gmail</span></a></li><li class=gbt><a class=gbzt id=gb_49 href=\"https://drive.google.com/?tab=wo\"><span class=gbtb2></span><span class=gbts>Drive</span></a></li><li class=gbt><a class=gbgt id=gbztm href=\"https://www.google.com.lb/intl/ar/about/products?tab=wh\"  aria-haspopup=true aria-owns=gbd><span class=gbtb2></span><span id=gbztms class=\"gbts gbtsa\"><span id=gbztms1>&#1575;&#1604;&#1605;&#1586;&#1610;&#1583;</span><span class=gbma></span></span></a><script nonce='bjx4sRKdf2P2OAPqFSYBAg'>document.getElementById('gbztm').addEventListener('click', function clickHandler() { gbar.tg(event,this); });</script><div class=gbm id=gbd aria-owner=gbztm><div id=gbmmb class=\"gbmc gbsb gbsbis\"><ol id=gbmm class=\"gbmcc gbsbic\"><li class=gbmtc><a class=gbmt id=gb_24 href=\"https://calendar.google.com/calendar?tab=wc\">&#1578;&#1602;&#1608;&#1610;&#1605;</a></li><li class=gbmtc><a class=gbmt id=gb_51 href=\"https://translate.google.com.lb/?hl=ar&tab=wT\">&#1578;&#1585;&#1580;&#1605;&#1577;</a></li><li class=gbmtc><a class=gbmt id=gb_10 href=\"https://books.google.com.lb/?hl=ar&tab=wp\">&#1575;&#1604;&#1603;&#1578;&#1576;</a></li><li class=gbmtc><a class=gbmt id=gb_6 href=\"https://www.google.com.lb/shopping?hl=ar&source=og&tab=wf\">&#1575;&#1604;&#1578;&#1587;&#1608;&#1617;&#1602;</a></li><li class=gbmtc><a class=gbmt id=gb_30 href=\"https://www.blogger.com/?tab=wj\">Blogger</a></li><li class=gbmtc><a class=gbmt id=gb_27 href=\"https://www.google.com/finance?tab=we\">&#1575;&#1604;&#1571;&#1605;&#1608;&#1575;&#1604;</a></li><li class=gbmtc><a class=gbmt id=gb_31 href=\"https://photos.google.com/?tab=wq&pageId=none\">&#1575;&#1604;&#1589;&#1608;&#1585;</a></li><li class=gbmtc><a class=gbmt id=gb_25 href=\"https://docs.google.com/document/?usp=docs_alc\">&#1605;&#1587;&#1578;&#1606;&#1583;&#1575;&#1578;</a></li><li class=gbmtc><div class=\"gbmt gbmh\"></div></li><li class=gbmtc><a  href=\"https://www.google.com.lb/intl/ar/about/products?tab=wh\" class=gbmt>&#1575;&#1604;&#1605;&#1586;&#1610;&#1583; &#1571;&#1610;&#1590;&#1611;&#1575; &raquo;</a><script nonce='bjx4sRKdf2P2OAPqFSYBAg'>document.querySelector('li > a.gbmt').addEventListener('click', function clickHandler() { gbar.logger.il(1,{t:66});; });</script></li></ol><div class=gbsbt></div><div class=gbsbb></div></div></div></li></ol></div><div id=gbg><h2 class=gbxx>Account Options</h2><span class=gbtcb></span><ol class=gbtc><li class=gbt><a target=_top href=\"https://accounts.google.com/ServiceLogin?hl=ar&passive=true&continue=https://www.google.com/&ec=GAZAAQ\" onclick=\"gbar.logger.il(9,{l:'i'})\" id=gb_70 class=gbgt><span class=gbtb2></span><span id=gbgs4 class=gbts><span id=gbi4s1>&#1578;&#1587;&#1580;&#1610;&#1604; &#1575;&#1604;&#1583;&#1582;&#1608;&#1604;</span></span></a></li><li class=\"gbt gbtb\"><span class=gbts></span></li><li class=gbt><a class=gbgt id=gbg5 href=\"http://www.google.com.lb/preferences?hl=ar\" title=\"&#1582;&#1610;&#1575;&#1585;&#1575;&#1578;\" aria-haspopup=true aria-owns=gbd5><span class=gbtb2></span><span id=gbgs5 class=gbts><span id=gbi5></span></span></a><script nonce='bjx4sRKdf2P2OAPqFSYBAg'>document.getElementById('gbg5').addEventListener('click', function clickHandler() { gbar.tg(event,this); });</script><div class=gbm id=gbd5 aria-owner=gbg5><div class=gbmc><ol id=gbom class=gbmcc><li class=\"gbkc gbmtc\"><a  class=gbmt href=\"/preferences?hl=ar\">&#1573;&#1593;&#1583;&#1575;&#1583;&#1575;&#1578; &#1575;&#1604;&#1576;&#1581;&#1579;</a></li><li class=gbmtc><div class=\"gbmt gbmh\"></div></li><li class=\"gbkp gbmtc\"><a class=gbmt href=\"http://www.google.com.lb/history/optout?hl=ar\">&#1587;&#1616;&#1580;&#1604; &#1576;&#1581;&#1579; &#1575;&#1604;&#1608;&#1610;&#1576;</a></li></ol></div></div></li></ol></div></div><div id=gbx3></div><div id=gbx4></div><script nonce='bjx4sRKdf2P2OAPqFSYBAg'>window.gbar&&gbar.elp&&gbar.elp()</script></div></div><center><br clear=\"all\" id=\"lgpd\"><div id=\"lga\"><a href=\"/search?sca_esv=584620230&amp;ie=UTF-8&amp;q=%D8%B9%D9%8A%D8%AF+%D8%A7%D8%B3%D8%AA%D9%82%D9%84%D8%A7%D9%84+%D9%84%D8%A8%D9%86%D8%A7%D9%86&amp;oi=ddle&amp;ct=253317729&amp;hl=ar&amp;si=ALGXSlYh1-GEPndq7qMo--O-TPixQtNN4JMroSxgItz5kq0stHTxy-PXwMpWzfCPKm9bNITqK7sYkZqbLxp1kA0eqIMRpPnx1vI9sSiv9I2fncuOMeccmFSLo3btDTrxo_lzWtOKGgidI3UY_izpWM_8OIWBD2zHmEMow8yFeQ_OE6YBlaae_oG8W9wQbNFv9kfTVs-hnEHqlu71l4WuqALr7r1QFiD2fDZOtCesieIv28YMu9KqfE-G4XbVlzVbIkXz0To_pdboT5XZJN5RfsXsY9Y1XuOhiTC7qDDsLhIBVsjpNV3PvFebN2GK9UXwsZEEAq0gPCNX&amp;sa=X&amp;ved=0ahUKEwjhqvCV_teCAxW4T6QEHZwnDAYQPQgD\"><img alt=\"&#1593;&#1610;&#1583; &#1575;&#1587;&#1578;&#1602;&#1604;&#1575;&#1604; &#1604;&#1576;&#1606;&#1575;&#1606; 2023\" border=\"0\" height=\"200\" src=\"/logos/doodles/2023/lebanon-independence-day-2023-6753651837109971-law.gif\" title=\"&#1593;&#1610;&#1583; &#1575;&#1587;&#1578;&#1602;&#1604;&#1575;&#1604; &#1604;&#1576;&#1606;&#1575;&#1606; 2023\" width=\"500\" id=\"hplogo\"><br></a><br></div><form action=\"/search\" name=\"f\"><table cellpadding=\"0\" cellspacing=\"0\"><tr valign=\"top\"><td width=\"25%\">&nbsp;</td><td align=\"center\" nowrap=\"\"><input name=\"ie\" value=\"ISO-8859-1\" type=\"hidden\"><input value=\"ar-LB\" name=\"hl\" type=\"hidden\"><input name=\"source\" type=\"hidden\" value=\"hp\"><input name=\"biw\" type=\"hidden\"><input name=\"bih\" type=\"hidden\"><div class=\"ds\" style=\"height:32px;margin:4px 0\"><div style=\"position:relative;zoom:1\"><input class=\"lst Ucigb\" style=\"margin:0;padding:5px 6px 0 8px;vertical-align:top;color:#000;padding-left:38px\" autocomplete=\"off\" value=\"\" title=\"&#1576;&#1581;&#1579; Google\" maxlength=\"2048\" name=\"q\" size=\"57\"><img src=\"/textinputassistant/tia.png\" style=\"position:absolute;cursor:pointer;left:5px;top:4px;z-index:300\" data-script-url=\"/textinputassistant/13/ar_tia.js\" id=\"tsuid_1\" alt=\"\" height=\"23\" width=\"27\"><script nonce=\"bjx4sRKdf2P2OAPqFSYBAg\">(function(){var id='tsuid_1';document.getElementById(id).onclick = function(){var s = document.createElement('script');s.src = this.getAttribute('data-script-url');(document.getElementById('xjsc')||document.body).appendChild(s);};})();</script></div></div><br style=\"line-height:0\"><span class=\"ds\"><span class=\"lsbb\"><input class=\"lsb\" value=\"&#1576;&#1581;&#1579; Google\" name=\"btnG\" type=\"submit\"></span></span><span class=\"ds\"><span class=\"lsbb\"><input class=\"lsb\" id=\"tsuid_2\" value=\"&#1590;&#1585;&#1576;&#1577; &#1581;&#1592;\" name=\"btnI\" type=\"submit\"><script nonce=\"bjx4sRKdf2P2OAPqFSYBAg\">(function(){var id='tsuid_2';document.getElementById(id).onclick = function(){if (this.form.q.value){this.checked = 1;if (this.form.iflsig)this.form.iflsig.disabled = false;}\n",
      "else top.location='/doodles/';};})();</script><input value=\"AO6bgOgAAAAAZV40z_FA5b_lTPWlomuBjhe8Mey2Lu1O\" name=\"iflsig\" type=\"hidden\"></span></span></td><td class=\"fl sblc\" align=\"right\" nowrap=\"\" width=\"25%\"><a href=\"/advanced_search?hl=ar-LB&amp;authuser=0\">&#1576;&#1581;&#1579; &#1605;&#1578;&#1602;&#1583;&#1605;</a></td></tr></table><input id=\"gbv\" name=\"gbv\" type=\"hidden\" value=\"1\"><script nonce=\"bjx4sRKdf2P2OAPqFSYBAg\">(function(){var a,b=\"1\";if(document&&document.getElementById)if(\"undefined\"!=typeof XMLHttpRequest)b=\"2\";else if(\"undefined\"!=typeof ActiveXObject){var c,d,e=[\"MSXML2.XMLHTTP.6.0\",\"MSXML2.XMLHTTP.3.0\",\"MSXML2.XMLHTTP\",\"Microsoft.XMLHTTP\"];for(c=0;d=e[c++];)try{new ActiveXObject(d),b=\"2\"}catch(h){}}a=b;if(\"2\"==a&&-1==location.search.indexOf(\"&gbv=2\")){var f=google.gbvu,g=document.getElementById(\"gbv\");g&&(g.value=a);f&&window.setTimeout(function(){location.href=f},0)};}).call(this);</script></form><div id=\"gac_scont\"></div><div style=\"font-size:83%;min-height:3.5em\"><br><div id=\"gws-output-pages-elements-homepage_additional_languages__als\"><style>#gws-output-pages-elements-homepage_additional_languages__als{font-size:small;margin-bottom:24px}#SIvCob{color:#3c4043;display:inline-block;line-height:28px;}#SIvCob a{padding:0 3px;}.H6sW5{display:inline-block;margin:0 2px;white-space:nowrap}.z4hgWe{display:inline-block;margin:0 2px}</style><div id=\"SIvCob\">&#1605;&#1581;&#1585;&#1617;&#1603; &#1576;&#1581;&#1579; Google &#1605;&#1578;&#1608;&#1601;&#1617;&#1585; &#1576;&#1575;&#1604;&#1604;&#1594;&#1577;:  <a dir=\"ltr\" href=\"https://www.google.com/setprefs?sig=0_n-fbHHAKpMZ5Xn5HrTMWGmUX3KI%3D&amp;hl=en&amp;source=homepage&amp;sa=X&amp;ved=0ahUKEwjhqvCV_teCAxW4T6QEHZwnDAYQ2ZgBCAU\">English</a>    <a dir=\"ltr\" href=\"https://www.google.com/setprefs?sig=0_n-fbHHAKpMZ5Xn5HrTMWGmUX3KI%3D&amp;hl=fr&amp;source=homepage&amp;sa=X&amp;ved=0ahUKEwjhqvCV_teCAxW4T6QEHZwnDAYQ2ZgBCAY\">Français</a>    <a dir=\"ltr\" href=\"https://www.google.com/setprefs?sig=0_n-fbHHAKpMZ5Xn5HrTMWGmUX3KI%3D&amp;hl=hy&amp;source=homepage&amp;sa=X&amp;ved=0ahUKEwjhqvCV_teCAxW4T6QEHZwnDAYQ2ZgBCAc\">&#1392;&#1377;&#1397;&#1381;&#1408;&#1381;&#1398;</a>  </div></div></div><span id=\"footer\"><div style=\"font-size:10pt\"><div style=\"margin:19px auto;text-align:center\" id=\"WqQANb\"><a href=\"/intl/ar/ads/\">&#1575;&#1604;&#1573;&#1593;&#1604;&#1575;&#1606;&#1575;&#1578;</a><a href=\"http://www.google.com/intl/ar/services/\">&#1581;&#1604;&#1608;&#1604; &#1575;&#1604;&#1588;&#1585;&#1603;&#1575;&#1578;</a><a href=\"/intl/ar/about.html\">&#1603;&#1604; &#1605;&#1575; &#1578;&#1581;&#1576; &#1605;&#1593;&#1585;&#1601;&#1578;&#1607; &#1593;&#1606; Google &#1607;&#1606;&#1575;</a><a dir=\"ltr\" href=\"https://www.google.com/setprefdomain?prefdom=LB&amp;prev=https://www.google.com.lb/&amp;sig=K_y62boqlyHVCEFaeOcvvRiazNnOA%3D\">Google.com.lb</a></div></div><p style=\"font-size:8pt;color:#70757a\">&copy; 2023 - <a href=\"/intl/ar/policies/privacy/\">&#1575;&#1604;&#1582;&#1589;&#1608;&#1589;&#1610;&#1577;</a> - <a href=\"/intl/ar/policies/terms/\">&#1575;&#1604;&#1576;&#1606;&#1608;&#1583;</a></p></span></center><script nonce=\"bjx4sRKdf2P2OAPqFSYBAg\">(function(){window.google.cdo={height:757,width:1440};(function(){var a=window.innerWidth,b=window.innerHeight;if(!a||!b){var c=window.document,d=\"CSS1Compat\"==c.compatMode?c.documentElement:c.body;a=d.clientWidth;b=d.clientHeight}\n",
      "if(a&&b&&(a!=google.cdo.width||b!=google.cdo.height)){var e=google,f=e.log,g=\"/client_204?&atyp=i&biw=\"+a+\"&bih=\"+b+\"&ei=\"+google.kEI,h=\"\",k=[],l=void 0!==window.google&&void 0!==window.google.kOPI&&0!==window.google.kOPI?window.google.kOPI:null;null!=l&&k.push([\"opi\",l.toString()]);for(var m=0;m<k.length;m++){if(0===m||0<m)h+=\"&\";h+=k[m][0]+\"=\"+k[m][1]}f.call(e,\"\",\"\",g+h)};}).call(this);})();</script> <script nonce=\"bjx4sRKdf2P2OAPqFSYBAg\">(function(){google.xjs={ck:'xjs.hp.p5QL3sSDBjk.R.X.O',combam:'AAAAAAAAAAAAAAAAAAAAAAAAQAAAAAAAwAEABCAAAAAAAAAAgFAAQHQEAMACAFw',cs:'ACT90oEF5wuaWgo-sVzZwALggEFmX3JDAA',cssam:'AAAAAAAAAAAAAAAAAAAAAAAAAAAAAAAAAAAABCAAAAAAAAAAgFA',cssopt:false,csss:'ACT90oEqsuEvB6lqRXiEPivyaKxc21Z3BA',excm:[],sepam:false,sepcss:false};})();</script>     <script nonce=\"bjx4sRKdf2P2OAPqFSYBAg\">(function(){var u='/xjs/_/js/k\\x3dxjs.hp.en.P9bpnwL31Y8.O/am\\x3dAAAAAAAAAAAAAAAAAAAAAAAAQAAAAAAAwAEABCAAAAAAAAAAgFAAQHQEAMACAFw/d\\x3d1/ed\\x3d1/rs\\x3dACT90oGdZQKp71iXEw3RmGuOCnocIGSIqA/m\\x3dsb_he,d,cEt90b,SNUn3,qddgKe,sTsDMc,dtl0hd,eHDfl';var amd=0;\n",
      "var e=this||self,f=function(a){return a};var g;var h=function(a){this.g=a};h.prototype.toString=function(){return this.g+\"\"};var k={};var l=function(){var a=document;var b=\"SCRIPT\";\"application/xhtml+xml\"===a.contentType&&(b=b.toLowerCase());return a.createElement(b)};\n",
      "function m(a,b){a.src=b instanceof h&&b.constructor===h?b.g:\"type_error:TrustedResourceUrl\";var c,d;(c=(b=null==(d=(c=(a.ownerDocument&&a.ownerDocument.defaultView||window).document).querySelector)?void 0:d.call(c,\"script[nonce]\"))?b.nonce||b.getAttribute(\"nonce\")||\"\":\"\")&&a.setAttribute(\"nonce\",c)};function n(a){a=null===a?\"null\":void 0===a?\"undefined\":a;if(void 0===g){var b=null;var c=e.trustedTypes;if(c&&c.createPolicy){try{b=c.createPolicy(\"goog#html\",{createHTML:f,createScript:f,createScriptURL:f})}catch(d){e.console&&e.console.error(d.message)}g=b}else g=b}a=(b=g)?b.createScriptURL(a):a;return new h(a,k)};void 0===google.ps&&(google.ps=[]);function p(){var a=u,b=function(){};google.lx=google.stvsc?b:function(){q(a);google.lx=b};google.bx||google.lx()}function r(a,b){b&&m(a,n(b));var c=a.onload;a.onload=function(d){c&&c(d);google.ps=google.ps.filter(function(t){return a!==t})};google.ps.push(a);document.body.appendChild(a)}google.as=r;function q(a){google.timers&&google.timers.load&&google.tick&&google.tick(\"load\",\"xjsls\");var b=l();b.onerror=function(){google.ple=1};b.onload=function(){google.ple=0};google.xjsus=void 0;r(b,a);google.aple=-1;google.psa=!0};google.xjsu=u;e._F_jsUrl=u;setTimeout(function(){0<amd?google.caft(function(){return p()},amd):p()},0);})();window._ = window._ || {};window._DumpException = _._DumpException = function(e){throw e;};window._s = window._s || {};_s._DumpException = _._DumpException;window._qs = window._qs || {};_qs._DumpException = _._DumpException;(function(){var t=[1,0,0,0,0,134217729,6029312,524544,0,33554944,121896965,11534337,23552];window._F_toggles = window._xjs_toggles = t;})();function _F_installCss(c){}\n",
      "(function(){google.jl={blt:'none',chnk:0,dw:false,dwu:true,emtn:0,end:0,ico:false,ikb:0,ine:false,injs:'none',injt:0,injth:0,injv2:false,lls:'default',pdt:0,rep:0,snet:true,strt:0,ubm:false,uwp:true};})();(function(){var pmc='{\\x22d\\x22:{},\\x22sb_he\\x22:{\\x22agen\\x22:false,\\x22cgen\\x22:false,\\x22client\\x22:\\x22heirloom-hp\\x22,\\x22dh\\x22:true,\\x22ds\\x22:\\x22\\x22,\\x22fl\\x22:true,\\x22host\\x22:\\x22google.com\\x22,\\x22jsonp\\x22:true,\\x22msgs\\x22:{\\x22cibl\\x22:\\x22\\\\u0645\\\\u062d\\\\u0648 \\\\u0627\\\\u0644\\\\u0628\\\\u062d\\\\u062b\\x22,\\x22dym\\x22:\\x22\\\\u0647\\\\u0644 \\\\u062a\\\\u0642\\\\u0635\\\\u062f :\\x22,\\x22lcky\\x22:\\x22\\\\u0636\\\\u0631\\\\u0628\\\\u0629 \\\\u062d\\\\u0638\\x22,\\x22lml\\x22:\\x22\\\\u0645\\\\u0632\\\\u064a\\\\u062f \\\\u0645\\\\u0646 \\\\u0627\\\\u0644\\\\u0645\\\\u0639\\\\u0644\\\\u0648\\\\u0645\\\\u0627\\\\u062a\\x22,\\x22psrc\\x22:\\x22\\\\u062a\\\\u0645\\\\u062a \\\\u0625\\\\u0632\\\\u0627\\\\u0644\\\\u0629 \\\\u0647\\\\u0630\\\\u0627 \\\\u0627\\\\u0644\\\\u0628\\\\u062d\\\\u062b \\\\u0645\\\\u0646 \\\\u003Ca href\\x3d\\\\\\x22/history\\\\\\x22\\\\u003E\\\\u0633\\\\u0650\\\\u062c\\\\u0644 \\\\u0627\\\\u0644\\\\u0628\\\\u062d\\\\u062b\\\\u003C/a\\\\u003E.\\x22,\\x22psrl\\x22:\\x22\\\\u0625\\\\u0632\\\\u0627\\\\u0644\\\\u0629\\x22,\\x22sbit\\x22:\\x22\\\\u0627\\\\u0644\\\\u0628\\\\u062d\\\\u062b \\\\u0628\\\\u062d\\\\u0633\\\\u0628 \\\\u0627\\\\u0644\\\\u0635\\\\u0648\\\\u0631\\x22,\\x22srch\\x22:\\x22\\\\u0628\\\\u062d\\\\u062b Google\\\\u200f\\x22},\\x22ovr\\x22:{},\\x22pq\\x22:\\x22\\x22,\\x22rfs\\x22:[],\\x22sbas\\x22:\\x220 3px 8px 0 rgba(0,0,0,0.2),0 0 0 1px rgba(0,0,0,0.08)\\x22,\\x22stok\\x22:\\x22HlzHkaVPRNAuig5y3HaipizjtLU\\x22}}';google.pmc=JSON.parse(pmc);})();(function(){var b=function(a){var c=0;return function(){return c<a.length?{done:!1,value:a[c++]}:{done:!0}}};\n",
      "var e=this||self;var g,h;a:{for(var k=[\"CLOSURE_FLAGS\"],l=e,n=0;n<k.length;n++)if(l=l[k[n]],null==l){h=null;break a}h=l}var p=h&&h[610401301];g=null!=p?p:!1;var q,r=e.navigator;q=r?r.userAgentData||null:null;function t(a){return g?q?q.brands.some(function(c){return(c=c.brand)&&-1!=c.indexOf(a)}):!1:!1}function u(a){var c;a:{if(c=e.navigator)if(c=c.userAgent)break a;c=\"\"}return-1!=c.indexOf(a)};function v(){return g?!!q&&0<q.brands.length:!1}function w(){return u(\"Safari\")&&!(x()||(v()?0:u(\"Coast\"))||(v()?0:u(\"Opera\"))||(v()?0:u(\"Edge\"))||(v()?t(\"Microsoft Edge\"):u(\"Edg/\"))||(v()?t(\"Opera\"):u(\"OPR\"))||u(\"Firefox\")||u(\"FxiOS\")||u(\"Silk\")||u(\"Android\"))}function x(){return v()?t(\"Chromium\"):(u(\"Chrome\")||u(\"CriOS\"))&&!(v()?0:u(\"Edge\"))||u(\"Silk\")}function y(){return u(\"Android\")&&!(x()||u(\"Firefox\")||u(\"FxiOS\")||(v()?0:u(\"Opera\"))||u(\"Silk\"))};var z=v()?!1:u(\"Trident\")||u(\"MSIE\");y();x();w();Object.freeze({});Object.freeze({});var A=!z&&!w(),D=function(a){if(/-[a-z]/.test(\"ved\"))return null;if(A&&a.dataset){if(y()&&!(\"ved\"in a.dataset))return null;a=a.dataset.ved;return void 0===a?null:a}return a.getAttribute(\"data-\"+\"ved\".replace(/([A-Z])/g,\"-$1\").toLowerCase())};var E=[],F=null;function G(a){a=a.target;var c=performance.now(),f=[],H=f.concat,d=E;if(!(d instanceof Array)){var m=\"undefined\"!=typeof Symbol&&Symbol.iterator&&d[Symbol.iterator];if(m)d=m.call(d);else if(\"number\"==typeof d.length)d={next:b(d)};else throw Error(\"a`\"+String(d));for(var B=[];!(m=d.next()).done;)B.push(m.value);d=B}E=H.call(f,d,[c]);if(a&&a instanceof HTMLElement)if(a===F){if(c=4<=E.length)c=5>(E[E.length-1]-E[E.length-4])/1E3;if(c){c=google.getEI(a);a.hasAttribute(\"data-ved\")?f=a?D(a)||\"\":\"\":f=(f=\n",
      "a.closest(\"[data-ved]\"))?D(f)||\"\":\"\";f=f||\"\";if(a.hasAttribute(\"jsname\"))a=a.getAttribute(\"jsname\");else{var C;a=null==(C=a.closest(\"[jsname]\"))?void 0:C.getAttribute(\"jsname\")}google.log(\"rcm\",\"&ei=\"+c+\"&ved=\"+f+\"&jsname=\"+(a||\"\"))}}else F=a,E=[c]}window.document.addEventListener(\"DOMContentLoaded\",function(){document.body.addEventListener(\"click\",G)});}).call(this);</script></body></html>\n"
     ]
    },
    {
     "data": {
      "text/plain": [
       "Ok(())"
      ]
     },
     "execution_count": 57,
     "metadata": {},
     "output_type": "execute_result"
    }
   ],
   "source": [
    "use reqwest;\n",
    "\n",
    "#[tokio::main]\n",
    "async fn main() -> Result<(), reqwest::Error> {\n",
    "    let response = reqwest::get(\"https://google.com\").await?;\n",
    "\n",
    "    if response.status().is_success() {\n",
    "        // Process the response body\n",
    "        let body = response.text().await?;\n",
    "        println!(\"Response body:\\n{}\", body);\n",
    "    } else {\n",
    "        eprintln!(\"HTTP request failed: {:?}\", response.status());\n",
    "    }\n",
    "\n",
    "    Ok(())\n",
    "}\n",
    "\n",
    "main()"
   ]
  },
  {
   "cell_type": "markdown",
   "id": "4fbc408b-4a36-4e39-a80b-46abb97d25d2",
   "metadata": {},
   "source": [
    "#### Building Network Services"
   ]
  },
  {
   "cell_type": "code",
   "execution_count": 59,
   "id": "7e1ce30d-d2d1-45ff-8d72-366bbb307a19",
   "metadata": {},
   "outputs": [
    {
     "name": "stdout",
     "output_type": "stream",
     "text": [
      "Server listening on: 127.0.0.1:8080\n",
      "Accepted connection from: 127.0.0.1:43266\n",
      "Client connected: 127.0.0.1:43266\n",
      "Received from client 127.0.0.1:43266: \"Hello\\r\\n\"\n",
      "Received from client 127.0.0.1:43266: \"\\r\\n\"\n",
      "Received from client 127.0.0.1:43266: \"����\\u{6}\"\n",
      "Received from client 127.0.0.1:43266: \"��\\u{6}\"\n",
      "Received from client 127.0.0.1:43266: \"����\\u{6}\"\n",
      "Received from client 127.0.0.1:43266: \"��\\u{6}\"\n",
      "Received from client 127.0.0.1:43266: \"����\\u{6}\"\n",
      "Received from client 127.0.0.1:43266: \"��\\u{6}\"\n",
      "Received from client 127.0.0.1:43266: \"����\\u{6}\"\n",
      "Received from client 127.0.0.1:43266: \"��\\u{6}\"\n",
      "Received from client 127.0.0.1:43266: \"����\\u{6}\"\n",
      "Received from client 127.0.0.1:43266: \"��\\u{6}\"\n",
      "Received from client 127.0.0.1:43266: \"����\\u{6}\"\n",
      "Received from client 127.0.0.1:43266: \"��\\u{6}\"\n"
     ]
    },
    {
     "ename": "Error",
     "evalue": "Subprocess terminated with status: signal: 9 (SIGKILL)",
     "output_type": "error",
     "traceback": [
      "Subprocess terminated with status: signal: 9 (SIGKILL)"
     ]
    }
   ],
   "source": [
    "use std::net::{TcpListener, TcpStream};\n",
    "use std::io::{Read, Write};\n",
    "use std::thread;\n",
    "\n",
    "fn handle_client(mut stream: TcpStream) -> Result<(), Box<dyn std::error::Error>> {\n",
    "    // Handle client logic here\n",
    "    println!(\"Client connected: {:?}\", stream.peer_addr()?);\n",
    "\n",
    "    let mut buffer = [0; 1024];\n",
    "    loop {\n",
    "        let bytes_read = stream.read(&mut buffer)?;\n",
    "\n",
    "        if bytes_read == 0 {\n",
    "            // Connection closed\n",
    "            println!(\"Client disconnected: {:?}\", stream.peer_addr()?);\n",
    "            break;\n",
    "        }\n",
    "\n",
    "        let data = &buffer[..bytes_read];\n",
    "        println!(\"Received from client {:?}: {:?}\", stream.peer_addr()?, String::from_utf8_lossy(data));\n",
    "\n",
    "        // Process data received from the client\n",
    "        // Example: Echo the data back to the client\n",
    "        stream.write_all(data)?;\n",
    "    }\n",
    "\n",
    "    Ok(())\n",
    "}\n",
    "\n",
    "fn main() -> Result<(), Box<dyn std::error::Error>> {\n",
    "    let listener = TcpListener::bind(\"127.0.0.1:8080\")?; // Change the address and port as needed\n",
    "    println!(\"Server listening on: {:?}\", listener.local_addr()?);\n",
    "\n",
    "    for stream in listener.incoming() {\n",
    "        match stream {\n",
    "            Ok(stream) => {\n",
    "                println!(\"Accepted connection from: {:?}\", stream.peer_addr()?);\n",
    "\n",
    "                thread::spawn(move || {\n",
    "                    if let Err(err) = handle_client(stream) {\n",
    "                        eprintln!(\"Error handling client: {:?}\", err);\n",
    "                    }\n",
    "                });\n",
    "            }\n",
    "            Err(e) => {\n",
    "                eprintln!(\"Failed to accept client connection: {:?}\", e);\n",
    "            }\n",
    "        }\n",
    "    }\n",
    "\n",
    "    Ok(())\n",
    "}\n",
    "\n",
    "main()\n",
    "\n",
    "// In a new terminal, run:\n",
    "// $ telnet 127.0.0.1 8080\n",
    "\n",
    "// Trying 127.0.0.1...\n",
    "// Connected to 127.0.0.1.\n",
    "// Escape character is '^]'.\n",
    "// Hello\n",
    "// Hello"
   ]
  },
  {
   "cell_type": "markdown",
   "id": "8b976030-5afb-42d4-bb05-8b5bf22d8022",
   "metadata": {},
   "source": [
    "#### Error Handling in Multithreaded and Concurrent Code"
   ]
  },
  {
   "cell_type": "code",
   "execution_count": 60,
   "id": "b0b7e33f-22f6-4f08-9e37-3af58b3183b0",
   "metadata": {},
   "outputs": [
    {
     "name": "stdout",
     "output_type": "stream",
     "text": [
      "Processed data item: 0\n",
      "Processed data item: 1\n",
      "Processed data item: 2\n",
      "Processed data item: 3\n",
      "Processed data item: 0\n",
      "Processed data item: 1\n",
      "Processed data item: 2\n",
      "Processed data item: 3\n",
      "Processed data item: 0\n",
      "Processed data item: 1\n",
      "Processed data item: 2\n",
      "Processed data item: 3\n",
      "Processed data item: 0\n",
      "Processed data item: 1\n",
      "Processed data item: 2\n",
      "Processed data item: 3\n"
     ]
    },
    {
     "data": {
      "text/plain": [
       "Ok(())"
      ]
     },
     "execution_count": 60,
     "metadata": {},
     "output_type": "execute_result"
    }
   ],
   "source": [
    "use std::sync::{Arc, Mutex};\n",
    "use std::thread;\n",
    "\n",
    "fn process_data(data: Arc<Mutex<Vec<u32>>>) -> Result<(), Box<dyn std::error::Error>> {\n",
    "    // Lock the data for exclusive access within this thread\n",
    "    let mut data_lock = data.lock().unwrap();\n",
    "\n",
    "    // Process the data concurrently\n",
    "    for i in 0..4 {\n",
    "        data_lock.push(i);\n",
    "    }\n",
    "\n",
    "    // Data is automatically unlocked when `data_lock` goes out of scope\n",
    "\n",
    "    Ok(())\n",
    "}\n",
    "\n",
    "fn main() -> Result<(), Box<dyn std::error::Error>> {\n",
    "    // Create a shared data structure (a vector of u32) using Arc and Mutex\n",
    "    let data = Arc::new(Mutex::new(Vec::new()));\n",
    "\n",
    "    // Create a vector to store thread handles\n",
    "    let mut handles = vec![];\n",
    "\n",
    "    // Spawn multiple threads to process data concurrently\n",
    "    for _ in 0..4 {\n",
    "        let data_clone = Arc::clone(&data); // Clone the Arc\n",
    "\n",
    "        let handle = thread::spawn(move || {\n",
    "            if let Err(err) = process_data(data_clone) {\n",
    "                eprintln!(\"Error processing data: {:?}\", err);\n",
    "            }\n",
    "        });\n",
    "\n",
    "        handles.push(handle);\n",
    "    }\n",
    "\n",
    "    // Wait for all threads to complete\n",
    "    for handle in handles {\n",
    "        handle.join().unwrap();\n",
    "    }\n",
    "\n",
    "    // Access the shared data after processing\n",
    "    let shared_data = {\n",
    "        let data_lock = data.lock().unwrap();\n",
    "        data_lock.clone()\n",
    "    };\n",
    "\n",
    "    // Print the content of the vector\n",
    "    for item in &*shared_data {\n",
    "        println!(\"Processed data item: {}\", item);\n",
    "    }\n",
    "\n",
    "    Ok(())\n",
    "}\n",
    "\n",
    "main()"
   ]
  },
  {
   "cell_type": "markdown",
   "id": "22233e30-d5bb-433a-895c-d8358a26645a",
   "metadata": {},
   "source": [
    "#### Cross-Thread Communication"
   ]
  },
  {
   "cell_type": "code",
   "execution_count": 62,
   "id": "be3a88e6-20d1-4d62-995f-82d538a6e1f3",
   "metadata": {},
   "outputs": [
    {
     "name": "stdout",
     "output_type": "stream",
     "text": [
      "Received result: Task completed\n"
     ]
    },
    {
     "data": {
      "text/plain": [
       "Ok(())"
      ]
     },
     "execution_count": 62,
     "metadata": {},
     "output_type": "execute_result"
    }
   ],
   "source": [
    "use std::thread;\n",
    "use std::sync::mpsc;\n",
    "\n",
    "fn main() -> Result<(), Box<dyn std::error::Error>> {\n",
    "    let (tx, rx) = mpsc::channel();\n",
    "\n",
    "    let worker = thread::spawn(move || {\n",
    "        // Worker thread logic\n",
    "        tx.send(\"Task completed\").unwrap();\n",
    "    });\n",
    "\n",
    "    // Main thread logic\n",
    "\n",
    "    let result = rx.recv()?;\n",
    "    println!(\"Received result: {}\", result);\n",
    "\n",
    "    worker.join().unwrap();\n",
    "\n",
    "    Ok(())\n",
    "}\n",
    "\n",
    "main()"
   ]
  },
  {
   "cell_type": "markdown",
   "id": "5aa685d2-fbf1-417a-bccd-21de2c0dbfee",
   "metadata": {},
   "source": [
    "### Testing and Error Handling"
   ]
  },
  {
   "cell_type": "markdown",
   "id": "803ea935-9d90-4812-b7ee-7af6315c6a61",
   "metadata": {},
   "source": [
    "#### Writing Error Tests"
   ]
  },
  {
   "cell_type": "code",
   "execution_count": 16,
   "id": "8ef7dcca-9ef8-454b-a6d0-8424f7edbeff",
   "metadata": {},
   "outputs": [],
   "source": [
    "fn divide(dividend: i32, divisor: i32) -> Result<i32, String> {\n",
    "    if divisor == 0 {\n",
    "        Err(format!(\"Cannot divide {} by zero.\", dividend))\n",
    "    } else {\n",
    "        Ok(dividend / divisor)\n",
    "    }\n",
    "}\n",
    "\n",
    "#[test]\n",
    "fn test_divide_by_zero() {\n",
    "    let result = divide(10, 0);\n",
    "\n",
    "    assert!(result.is_err());\n",
    "    assert_eq!(result.unwrap_err(), \"Cannot divide 10 by zero.\");\n",
    "}\n",
    "// TODO: file feature request?"
   ]
  },
  {
   "cell_type": "markdown",
   "id": "363665cf-0b71-436d-8d64-4c16033f9490",
   "metadata": {},
   "source": [
    "#### Property-Based Testing"
   ]
  },
  {
   "cell_type": "code",
   "execution_count": 65,
   "id": "bed7ac09-a767-4a24-936e-b01e3f74d95b",
   "metadata": {},
   "outputs": [],
   "source": [
    ":dep proptest = { version = \"1.0.0\" }"
   ]
  },
  {
   "cell_type": "code",
   "execution_count": 67,
   "id": "d79802e8-4cd4-49f8-8fd7-c9930daf88ac",
   "metadata": {},
   "outputs": [
    {
     "ename": "Error",
     "evalue": "expected expression, found keyword `fn`",
     "output_type": "error",
     "traceback": [
      "\u001b[31mError:\u001b[0m expected expression, found keyword `fn`",
      "    \u001b[38;5;246m╭\u001b[0m\u001b[38;5;246m─\u001b[0m\u001b[38;5;246m[\u001b[0mcommand_67:1:1\u001b[38;5;246m]\u001b[0m",
      "    \u001b[38;5;246m│\u001b[0m",
      " \u001b[38;5;246m11 │\u001b[0m \u001b[38;5;54m╭\u001b[0m\u001b[38;5;54m─\u001b[0m\u001b[38;5;54m─\u001b[0m\u001b[38;5;54m─\u001b[0m\u001b[38;5;54m▶\u001b[0m\u001b[38;5;54m \u001b[0m\u001b[38;5;54mp\u001b[0m\u001b[38;5;54mr\u001b[0m\u001b[38;5;54mo\u001b[0m\u001b[38;5;54mp\u001b[0m\u001b[38;5;54mt\u001b[0m\u001b[38;5;54me\u001b[0m\u001b[38;5;54ms\u001b[0m\u001b[38;5;54mt\u001b[0m\u001b[38;5;54m!\u001b[0m\u001b[38;5;54m \u001b[0m\u001b[38;5;54m{\u001b[0m",
      " \u001b[38;5;240m   │\u001b[0m \u001b[38;5;54m│\u001b[0m     \u001b[38;5;100m🭯\u001b[0m             ",
      " \u001b[38;5;240m   │\u001b[0m \u001b[38;5;54m│\u001b[0m \u001b[38;5;100m╭\u001b[0m\u001b[38;5;100m─\u001b[0m\u001b[38;5;100m─\u001b[0m\u001b[38;5;100m─\u001b[0m\u001b[38;5;100m╯\u001b[0m             ",
      " \u001b[38;5;240m   ┆\u001b[0m \u001b[38;5;54m┆\u001b[0m \u001b[38;5;100m┆\u001b[0m   ",
      " \u001b[38;5;246m24 │\u001b[0m \u001b[38;5;54m├\u001b[0m\u001b[38;5;54m─\u001b[0m\u001b[38;5;100m│\u001b[0m \u001b[38;5;54m▶\u001b[0m\u001b[38;5;54m \u001b[0m\u001b[38;5;54m}\u001b[0m",
      " \u001b[38;5;240m   │\u001b[0m \u001b[38;5;54m│\u001b[0m \u001b[38;5;100m│\u001b[0m   \u001b[38;5;100m🭯\u001b[0m   ",
      " \u001b[38;5;240m   │\u001b[0m \u001b[38;5;54m╰\u001b[0m\u001b[38;5;54m─\u001b[0m\u001b[38;5;54m─\u001b[0m\u001b[38;5;54m─\u001b[0m\u001b[38;5;54m─\u001b[0m\u001b[38;5;54m─\u001b[0m\u001b[38;5;54m─\u001b[0m\u001b[38;5;54m─\u001b[0m\u001b[38;5;54m─\u001b[0m\u001b[38;5;54m─\u001b[0m expected expression",
      " \u001b[38;5;240m   │\u001b[0m   \u001b[38;5;100m│\u001b[0m   \u001b[38;5;100m│\u001b[0m   ",
      " \u001b[38;5;240m   │\u001b[0m   \u001b[38;5;100m╰\u001b[0m\u001b[38;5;100m─\u001b[0m\u001b[38;5;100m─\u001b[0m\u001b[38;5;100m─\u001b[0m\u001b[38;5;100m┴\u001b[0m\u001b[38;5;100m─\u001b[0m\u001b[38;5;100m─\u001b[0m\u001b[38;5;100m─\u001b[0m in this macro invocation",
      "\u001b[38;5;246m────╯\u001b[0m"
     ]
    }
   ],
   "source": [
    "use proptest::prelude::*;\n",
    "\n",
    "fn divide(dividend: i32, divisor: i32) -> Result<i32, String> {\n",
    "    if divisor == 0 {\n",
    "        Err(format!(\"Cannot divide {} by zero.\", dividend))\n",
    "    } else {\n",
    "        Ok(dividend / divisor)\n",
    "    }\n",
    "}\n",
    "\n",
    "proptest! {\n",
    "    #[test]\n",
    "    fn test_divide_property_based(input in 1..100, divisor in 1..100) {\n",
    "        if divisor == 0 {\n",
    "            let result = divide(input, divisor);\n",
    "            assert!(result.is_err());\n",
    "            assert_eq!(result.unwrap_err(), format!(\"Cannot divide {} by zero.\", input));\n",
    "        } else {\n",
    "            let result = divide(input, divisor);\n",
    "            assert!(result.is_ok());\n",
    "            assert_eq!(result.unwrap(), input / divisor);\n",
    "        }\n",
    "    }\n",
    "}\n"
   ]
  },
  {
   "cell_type": "markdown",
   "id": "6fb7d6c2-7514-4652-ae01-329df90832ff",
   "metadata": {},
   "source": [
    "---\n",
    "---"
   ]
  }
 ],
 "metadata": {
  "kernelspec": {
   "display_name": "Rust",
   "language": "rust",
   "name": "rust"
  },
  "language_info": {
   "codemirror_mode": "rust",
   "file_extension": ".rs",
   "mimetype": "text/rust",
   "name": "Rust",
   "pygment_lexer": "rust",
   "version": ""
  }
 },
 "nbformat": 4,
 "nbformat_minor": 5
}
